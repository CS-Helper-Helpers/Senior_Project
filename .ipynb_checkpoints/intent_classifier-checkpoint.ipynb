{
 "cells": [
  {
   "cell_type": "code",
   "execution_count": 1,
   "metadata": {},
   "outputs": [],
   "source": [
    "# https://towardsdatascience.com/a-brief-introduction-to-intent-classification-96fda6b1f557\n",
    "# Classifies into 21 intents\n",
    "\n",
    "\n",
    "import numpy as np\n",
    "import pandas as pd\n",
    "from nltk.corpus import stopwords\n",
    "from nltk.tokenize import word_tokenize\n",
    "from nltk.stem.lancaster import LancasterStemmer\n",
    "import nltk\n",
    "import re\n",
    "from sklearn.preprocessing import OneHotEncoder\n",
    "import matplotlib.pyplot as plt\n",
    "from tensorflow.keras.preprocessing.text import Tokenizer\n",
    "from tensorflow.keras.preprocessing.sequence import pad_sequences\n",
    "from tensorflow.keras.utils import to_categorical\n",
    "from tensorflow.keras.models import Sequential, load_model\n",
    "from tensorflow.keras.layers import Dense, LSTM, Bidirectional, Embedding, Dropout\n",
    "from tensorflow.keras.callbacks import ModelCheckpoint"
   ]
  },
  {
   "cell_type": "markdown",
   "metadata": {},
   "source": [
    "# Load Dataset"
   ]
  },
  {
   "cell_type": "code",
   "execution_count": 2,
   "metadata": {},
   "outputs": [],
   "source": [
    "def load_dataset(filename):\n",
    "  df = pd.read_csv(filename, encoding = \"latin1\", names = [\"Sentence\", \"Intent\"])\n",
    "\n",
    "  df.Intent = df.Intent.astype(str)\n",
    "  df.Sentence = df.Sentence.astype(str)\n",
    "  print(df.head())\n",
    "  intent = df[\"Intent\"]\n",
    "  unique_intent = list(set(intent))\n",
    "  sentences = list(df[\"Sentence\"])\n",
    "  \n",
    "  return (intent, unique_intent, sentences)"
   ]
  },
  {
   "cell_type": "code",
   "execution_count": 3,
   "metadata": {},
   "outputs": [
    {
     "name": "stdout",
     "output_type": "stream",
     "text": [
      "                                Sentence              Intent\n",
      "0                 When do classes start?  faq.important_date\n",
      "1          When does the semester start?  faq.important_date\n",
      "2      What day does the semester start?  faq.important_date\n",
      "3     Which day does the semester start?  faq.important_date\n",
      "4  What date does the semester start on?  faq.important_date\n"
     ]
    }
   ],
   "source": [
    "intent, unique_intent, sentences = load_dataset(\"questions_categories.csv\")"
   ]
  },
  {
   "cell_type": "markdown",
   "metadata": {},
   "source": [
    "# Get stopwords and punkt"
   ]
  },
  {
   "cell_type": "code",
   "execution_count": 4,
   "metadata": {},
   "outputs": [
    {
     "name": "stderr",
     "output_type": "stream",
     "text": [
      "[nltk_data] Downloading package stopwords to\n",
      "[nltk_data]     /Users/cyrusbaker/nltk_data...\n",
      "[nltk_data]   Package stopwords is already up-to-date!\n",
      "[nltk_data] Downloading package punkt to\n",
      "[nltk_data]     /Users/cyrusbaker/nltk_data...\n",
      "[nltk_data]   Package punkt is already up-to-date!\n"
     ]
    },
    {
     "data": {
      "text/plain": [
       "True"
      ]
     },
     "execution_count": 4,
     "metadata": {},
     "output_type": "execute_result"
    }
   ],
   "source": [
    "nltk.download(\"stopwords\")\n",
    "nltk.download(\"punkt\")"
   ]
  },
  {
   "cell_type": "markdown",
   "metadata": {},
   "source": [
    "# Define stemmer"
   ]
  },
  {
   "cell_type": "code",
   "execution_count": 5,
   "metadata": {},
   "outputs": [],
   "source": [
    "stemmer = LancasterStemmer()"
   ]
  },
  {
   "cell_type": "markdown",
   "metadata": {},
   "source": [
    "# Data cleaning"
   ]
  },
  {
   "cell_type": "code",
   "execution_count": 6,
   "metadata": {},
   "outputs": [],
   "source": [
    "def cleaning(sentences):\n",
    "    words = []\n",
    "    for s in sentences:\n",
    "        clean = re.sub(r'[^ a-z A-Z 0-9]', \" \", s)\n",
    "        w = word_tokenize(clean)\n",
    "        # lemmatizing\n",
    "        words.append([i.lower() for i in w])\n",
    "    return words"
   ]
  },
  {
   "cell_type": "code",
   "execution_count": 7,
   "metadata": {},
   "outputs": [
    {
     "name": "stdout",
     "output_type": "stream",
     "text": [
      "119\n",
      "[['when', 'do', 'classes', 'start'], ['when', 'does', 'the', 'semester', 'start']]\n"
     ]
    }
   ],
   "source": [
    "cleaned_words = cleaning(sentences)\n",
    "print(len(cleaned_words))\n",
    "print(cleaned_words[:2])"
   ]
  },
  {
   "cell_type": "markdown",
   "metadata": {},
   "source": [
    "# Input encoding"
   ]
  },
  {
   "cell_type": "code",
   "execution_count": 8,
   "metadata": {},
   "outputs": [],
   "source": [
    "def create_tokenizer( words, filters='!\"#$%&()*+,-./:;<=>?@[\\]^_`{|}~'):\n",
    "    \"\"\"Create tokenizer\n",
    "    \"\"\"\n",
    "    token = Tokenizer(filters=filters)\n",
    "    token.fit_on_texts(words)\n",
    "    return token\n",
    "\n",
    "def get_max_length(words):\n",
    "    \"\"\"Gets max length of a word\n",
    "    \"\"\"\n",
    "    return(len(max(words, key=len)))\n"
   ]
  },
  {
   "cell_type": "code",
   "execution_count": 9,
   "metadata": {},
   "outputs": [
    {
     "name": "stdout",
     "output_type": "stream",
     "text": [
      "Vocab size =  158  and Maximum length =  17\n"
     ]
    }
   ],
   "source": [
    "word_tokenizer = create_tokenizer(cleaned_words)\n",
    "vocab_size = len(word_tokenizer.word_index) + 1\n",
    "max_length = get_max_length(cleaned_words)\n",
    "\n",
    "print(\"Vocab size = \", vocab_size, \" and Maximum length = \", max_length)"
   ]
  },
  {
   "cell_type": "markdown",
   "metadata": {},
   "source": [
    "# Output Encoding"
   ]
  },
  {
   "cell_type": "code",
   "execution_count": 10,
   "metadata": {},
   "outputs": [],
   "source": [
    "def encoding_doc(token, words):\n",
    "    return(token.texts_to_sequences(words))"
   ]
  },
  {
   "cell_type": "code",
   "execution_count": 11,
   "metadata": {},
   "outputs": [],
   "source": [
    "encoded_doc = encoding_doc(word_tokenizer, cleaned_words)"
   ]
  },
  {
   "cell_type": "code",
   "execution_count": 12,
   "metadata": {},
   "outputs": [],
   "source": [
    "def padding_doc(encoded_doc, max_length):\n",
    "    return(pad_sequences(encoded_doc, maxlen=max_length, padding=\"post\"))"
   ]
  },
  {
   "cell_type": "code",
   "execution_count": 13,
   "metadata": {},
   "outputs": [
    {
     "data": {
      "text/plain": [
       "array([[ 6,  5, 24, 17,  0,  0,  0,  0,  0,  0,  0,  0,  0,  0,  0,  0,\n",
       "         0],\n",
       "       [ 6, 12,  3, 21, 17,  0,  0,  0,  0,  0,  0,  0,  0,  0,  0,  0,\n",
       "         0],\n",
       "       [ 9, 14, 12,  3, 21, 17,  0,  0,  0,  0,  0,  0,  0,  0,  0,  0,\n",
       "         0],\n",
       "       [66, 14, 12,  3, 21, 17,  0,  0,  0,  0,  0,  0,  0,  0,  0,  0,\n",
       "         0],\n",
       "       [ 9, 94, 12,  3, 21, 17, 46,  0,  0,  0,  0,  0,  0,  0,  0,  0,\n",
       "         0]], dtype=int32)"
      ]
     },
     "execution_count": 13,
     "metadata": {},
     "output_type": "execute_result"
    }
   ],
   "source": [
    "padded_doc = padding_doc(encoded_doc, max_length)\n",
    "padded_doc[:5]"
   ]
  },
  {
   "cell_type": "code",
   "execution_count": 14,
   "metadata": {},
   "outputs": [
    {
     "name": "stdout",
     "output_type": "stream",
     "text": [
      "Shape of padded docs =  (119, 17)\n"
     ]
    }
   ],
   "source": [
    "print(\"Shape of padded docs = \", padded_doc.shape)"
   ]
  },
  {
   "cell_type": "markdown",
   "metadata": {},
   "source": [
    "### Tokenizer"
   ]
  },
  {
   "cell_type": "code",
   "execution_count": 15,
   "metadata": {},
   "outputs": [],
   "source": [
    "# tokenizer with filter changed\n",
    "output_tokenizer = create_tokenizer(unique_intent, filters='!\"#$%&()*+,-/:;<=>?@[\\]^`{|}~')"
   ]
  },
  {
   "cell_type": "code",
   "execution_count": 16,
   "metadata": {},
   "outputs": [
    {
     "data": {
      "text/plain": [
       "{'class.location': 1,\n",
       " 'faq.professor': 2,\n",
       " 'class.time': 3,\n",
       " 'faq.student': 4,\n",
       " 'faq.class': 5,\n",
       " 'department.time': 6,\n",
       " 'faq.department': 7,\n",
       " 'faq.important_date': 8,\n",
       " 'faq.employee': 9,\n",
       " 'class.professor': 10}"
      ]
     },
     "execution_count": 16,
     "metadata": {},
     "output_type": "execute_result"
    }
   ],
   "source": [
    "output_tokenizer.word_index"
   ]
  },
  {
   "cell_type": "markdown",
   "metadata": {},
   "source": [
    "### Encode output given intent and tokenizer and reshape"
   ]
  },
  {
   "cell_type": "code",
   "execution_count": 17,
   "metadata": {},
   "outputs": [],
   "source": [
    "encoded_output = encoding_doc(output_tokenizer, intent)"
   ]
  },
  {
   "cell_type": "code",
   "execution_count": 18,
   "metadata": {},
   "outputs": [],
   "source": [
    "encoded_output = np.array(encoded_output).reshape(len(encoded_output), 1)"
   ]
  },
  {
   "cell_type": "code",
   "execution_count": 19,
   "metadata": {},
   "outputs": [
    {
     "data": {
      "text/plain": [
       "(119, 1)"
      ]
     },
     "execution_count": 19,
     "metadata": {},
     "output_type": "execute_result"
    }
   ],
   "source": [
    "encoded_output.shape"
   ]
  },
  {
   "cell_type": "markdown",
   "metadata": {},
   "source": [
    "### Create one hot encoding\n",
    "Example of one hot encoding:\n",
    "Consider a domain of [ a, e, i, o, u] and an intent of [ a, i, u ]\n",
    "The one hot encoding is [ 1, 0, 1, 0, 1] for the domain."
   ]
  },
  {
   "cell_type": "code",
   "execution_count": 20,
   "metadata": {},
   "outputs": [],
   "source": [
    "def one_hot(encode):\n",
    "    o = OneHotEncoder(sparse=False)\n",
    "    return(o.fit_transform(encode))"
   ]
  },
  {
   "cell_type": "code",
   "execution_count": 21,
   "metadata": {},
   "outputs": [
    {
     "name": "stderr",
     "output_type": "stream",
     "text": [
      "/anaconda3/lib/python3.6/site-packages/sklearn/preprocessing/_encoders.py:415: FutureWarning: The handling of integer data will change in version 0.22. Currently, the categories are determined based on the range [0, max(values)], while in the future they will be determined based on the unique values.\n",
      "If you want the future behaviour and silence this warning, you can specify \"categories='auto'\".\n",
      "In case you used a LabelEncoder before this OneHotEncoder to convert the categories to integers, then you can now use the OneHotEncoder directly.\n",
      "  warnings.warn(msg, FutureWarning)\n"
     ]
    }
   ],
   "source": [
    "output_one_hot = one_hot(encoded_output)"
   ]
  },
  {
   "cell_type": "code",
   "execution_count": 22,
   "metadata": {},
   "outputs": [
    {
     "data": {
      "text/plain": [
       "(119, 10)"
      ]
     },
     "execution_count": 22,
     "metadata": {},
     "output_type": "execute_result"
    }
   ],
   "source": [
    "output_one_hot.shape"
   ]
  },
  {
   "cell_type": "markdown",
   "metadata": {},
   "source": [
    "## Create Model"
   ]
  },
  {
   "cell_type": "code",
   "execution_count": 23,
   "metadata": {},
   "outputs": [],
   "source": [
    "from sklearn.model_selection import train_test_split"
   ]
  },
  {
   "cell_type": "code",
   "execution_count": 24,
   "metadata": {},
   "outputs": [],
   "source": [
    "\n",
    "train_X, val_X, train_Y, val_Y = train_test_split(padded_doc, output_one_hot, shuffle = True, test_size = 0.2)"
   ]
  },
  {
   "cell_type": "code",
   "execution_count": 49,
   "metadata": {},
   "outputs": [
    {
     "name": "stdout",
     "output_type": "stream",
     "text": [
      "Shape of train_X = (95, 17) and train_Y = (95, 10)\n",
      "Shape of val_X = (24, 17) and val_Y = (24, 10)\n",
      "10\n"
     ]
    }
   ],
   "source": [
    "print(\"Shape of train_X = %s and train_Y = %s\" % (train_X.shape, train_Y.shape))\n",
    "print(\"Shape of val_X = %s and val_Y = %s\" % (val_X.shape, val_Y.shape))"
   ]
  },
  {
   "cell_type": "markdown",
   "metadata": {},
   "source": [
    "### Sequential Model\n",
    "[ conv ] -> [ batch norm ] -> [ relu ]\n",
    "\n",
    "A sequential model allows you to create models layer-by-layer in a step-by-step fashion\n",
    "\n",
    "We instantiate the sequential model first, then add each layer one at a time.\n",
    "Layers:\n",
    "    \n",
    "    Embedding:\n",
    "        Vocab size:\n",
    "        Input length:\n",
    "    Bidirectional:\n",
    "        LSTM:\n",
    "    Dense: Relu\n",
    "    Dropout: 0.5\n",
    "    Dense: Softmax"
   ]
  },
  {
   "cell_type": "code",
   "execution_count": 36,
   "metadata": {},
   "outputs": [],
   "source": [
    "def create_model(vocab_size, max_length):\n",
    "  model = Sequential()\n",
    "  model.add(Embedding(vocab_size, 128, input_length = max_length, trainable = False))\n",
    "  model.add(Bidirectional(LSTM(128)))\n",
    "#   model.add(LSTM(128))\n",
    "  model.add(Dense(32, activation = \"relu\"))\n",
    "  model.add(Dropout(0.5))\n",
    "  model.add(Dense(10, activation = \"softmax\"))\n",
    "  \n",
    "  return model"
   ]
  },
  {
   "cell_type": "markdown",
   "metadata": {},
   "source": [
    "### Compile and give summary of model\n",
    "#### Compile\n",
    "A loss function (or objective function, or optimization score function) is one of the two parameters required to compile a model. We use categorical cross entropy to train a CNN to output a probability over the C classes for each image. It is used for multi-class classification. It is also called softmax loss, a softmax activation plus a cross-entropy loss.\n",
    "\n",
    "Adam is an adaptive learning rate optimization algorithm designed to train deep neural nets. Adam computes individual learning rates for different parameters, using the first and second moments of gradient to adapt the learning rate for each weight of the neural network.\n",
    "\n"
   ]
  },
  {
   "cell_type": "code",
   "execution_count": 37,
   "metadata": {},
   "outputs": [
    {
     "name": "stdout",
     "output_type": "stream",
     "text": [
      "Model: \"sequential_4\"\n",
      "_________________________________________________________________\n",
      "Layer (type)                 Output Shape              Param #   \n",
      "=================================================================\n",
      "embedding_4 (Embedding)      (None, 17, 128)           20224     \n",
      "_________________________________________________________________\n",
      "bidirectional_4 (Bidirection (None, 256)               263168    \n",
      "_________________________________________________________________\n",
      "dense_8 (Dense)              (None, 32)                8224      \n",
      "_________________________________________________________________\n",
      "dropout_4 (Dropout)          (None, 32)                0         \n",
      "_________________________________________________________________\n",
      "dense_9 (Dense)              (None, 10)                330       \n",
      "=================================================================\n",
      "Total params: 291,946\n",
      "Trainable params: 271,722\n",
      "Non-trainable params: 20,224\n",
      "_________________________________________________________________\n"
     ]
    }
   ],
   "source": [
    "model = create_model(vocab_size, max_length)\n",
    "\n",
    "model.compile(loss = \"categorical_crossentropy\", optimizer = \"adam\", metrics = [\"accuracy\"])\n",
    "model.summary()"
   ]
  },
  {
   "cell_type": "markdown",
   "metadata": {},
   "source": [
    "## Train Model\n",
    "Uses checkpoint to save best model at each training"
   ]
  },
  {
   "cell_type": "code",
   "execution_count": 38,
   "metadata": {},
   "outputs": [
    {
     "name": "stdout",
     "output_type": "stream",
     "text": [
      "Train on 95 samples, validate on 24 samples\n",
      "Epoch 1/100\n",
      "32/95 [=========>....................] - ETA: 4s - loss: 2.3117 - accuracy: 0.0312\n",
      "Epoch 00001: val_loss improved from inf to 2.27334, saving model to model.h5\n",
      "95/95 [==============================] - 3s 27ms/sample - loss: 2.2994 - accuracy: 0.1053 - val_loss: 2.2733 - val_accuracy: 0.3333\n",
      "Epoch 2/100\n",
      "32/95 [=========>....................] - ETA: 0s - loss: 2.2903 - accuracy: 0.1875\n",
      "Epoch 00002: val_loss improved from 2.27334 to 2.22797, saving model to model.h5\n",
      "95/95 [==============================] - 0s 1ms/sample - loss: 2.2617 - accuracy: 0.2000 - val_loss: 2.2280 - val_accuracy: 0.3333\n",
      "Epoch 3/100\n",
      "32/95 [=========>....................] - ETA: 0s - loss: 2.2366 - accuracy: 0.2188\n",
      "Epoch 00003: val_loss improved from 2.22797 to 2.13948, saving model to model.h5\n",
      "95/95 [==============================] - 0s 1ms/sample - loss: 2.2096 - accuracy: 0.2842 - val_loss: 2.1395 - val_accuracy: 0.3333\n",
      "Epoch 4/100\n",
      "32/95 [=========>....................] - ETA: 0s - loss: 2.2112 - accuracy: 0.2812\n",
      "Epoch 00004: val_loss improved from 2.13948 to 2.03254, saving model to model.h5\n",
      "95/95 [==============================] - 0s 1ms/sample - loss: 2.1403 - accuracy: 0.2842 - val_loss: 2.0325 - val_accuracy: 0.2083\n",
      "Epoch 5/100\n",
      "32/95 [=========>....................] - ETA: 0s - loss: 2.1295 - accuracy: 0.2812\n",
      "Epoch 00005: val_loss improved from 2.03254 to 2.01575, saving model to model.h5\n",
      "95/95 [==============================] - 0s 1ms/sample - loss: 2.1131 - accuracy: 0.2842 - val_loss: 2.0157 - val_accuracy: 0.2083\n",
      "Epoch 6/100\n",
      "32/95 [=========>....................] - ETA: 0s - loss: 1.9568 - accuracy: 0.2812\n",
      "Epoch 00006: val_loss did not improve from 2.01575\n",
      "95/95 [==============================] - 0s 915us/sample - loss: 2.0891 - accuracy: 0.2105 - val_loss: 2.0341 - val_accuracy: 0.2083\n",
      "Epoch 7/100\n",
      "32/95 [=========>....................] - ETA: 0s - loss: 2.0570 - accuracy: 0.1875\n",
      "Epoch 00007: val_loss did not improve from 2.01575\n",
      "95/95 [==============================] - 0s 988us/sample - loss: 2.0660 - accuracy: 0.2105 - val_loss: 2.0646 - val_accuracy: 0.2083\n",
      "Epoch 8/100\n",
      "32/95 [=========>....................] - ETA: 0s - loss: 2.0289 - accuracy: 0.2188\n",
      "Epoch 00008: val_loss did not improve from 2.01575\n",
      "95/95 [==============================] - 0s 1ms/sample - loss: 2.0562 - accuracy: 0.2632 - val_loss: 2.0639 - val_accuracy: 0.5417\n",
      "Epoch 9/100\n",
      "32/95 [=========>....................] - ETA: 0s - loss: 2.1766 - accuracy: 0.1562\n",
      "Epoch 00009: val_loss did not improve from 2.01575\n",
      "95/95 [==============================] - 0s 902us/sample - loss: 2.0616 - accuracy: 0.2211 - val_loss: 2.0478 - val_accuracy: 0.2500\n",
      "Epoch 10/100\n",
      "32/95 [=========>....................] - ETA: 0s - loss: 1.9415 - accuracy: 0.3750\n",
      "Epoch 00010: val_loss did not improve from 2.01575\n",
      "95/95 [==============================] - 0s 923us/sample - loss: 1.9880 - accuracy: 0.2947 - val_loss: 2.0282 - val_accuracy: 0.2083\n",
      "Epoch 11/100\n",
      "32/95 [=========>....................] - ETA: 0s - loss: 1.9407 - accuracy: 0.2500\n",
      "Epoch 00011: val_loss did not improve from 2.01575\n",
      "95/95 [==============================] - 0s 909us/sample - loss: 2.0592 - accuracy: 0.2000 - val_loss: 2.0329 - val_accuracy: 0.2083\n",
      "Epoch 12/100\n",
      "32/95 [=========>....................] - ETA: 0s - loss: 2.1331 - accuracy: 0.1875\n",
      "Epoch 00012: val_loss did not improve from 2.01575\n",
      "95/95 [==============================] - 0s 849us/sample - loss: 2.0275 - accuracy: 0.2526 - val_loss: 2.0537 - val_accuracy: 0.2083\n",
      "Epoch 13/100\n",
      "32/95 [=========>....................] - ETA: 0s - loss: 1.8985 - accuracy: 0.3125\n",
      "Epoch 00013: val_loss did not improve from 2.01575\n",
      "95/95 [==============================] - 0s 871us/sample - loss: 2.0227 - accuracy: 0.2211 - val_loss: 2.0604 - val_accuracy: 0.2083\n",
      "Epoch 14/100\n",
      "32/95 [=========>....................] - ETA: 0s - loss: 2.1776 - accuracy: 0.2500\n",
      "Epoch 00014: val_loss did not improve from 2.01575\n",
      "95/95 [==============================] - 0s 898us/sample - loss: 2.0343 - accuracy: 0.2632 - val_loss: 2.0640 - val_accuracy: 0.2083\n",
      "Epoch 15/100\n",
      "32/95 [=========>....................] - ETA: 0s - loss: 1.9025 - accuracy: 0.3125\n",
      "Epoch 00015: val_loss did not improve from 2.01575\n",
      "95/95 [==============================] - 0s 926us/sample - loss: 2.0000 - accuracy: 0.2632 - val_loss: 2.0576 - val_accuracy: 0.2083\n",
      "Epoch 16/100\n",
      "32/95 [=========>....................] - ETA: 0s - loss: 2.1297 - accuracy: 0.2188\n",
      "Epoch 00016: val_loss did not improve from 2.01575\n",
      "95/95 [==============================] - 0s 948us/sample - loss: 2.0103 - accuracy: 0.3158 - val_loss: 2.0338 - val_accuracy: 0.2083\n",
      "Epoch 17/100\n",
      "32/95 [=========>....................] - ETA: 0s - loss: 1.9656 - accuracy: 0.3125\n",
      "Epoch 00017: val_loss improved from 2.01575 to 2.01219, saving model to model.h5\n",
      "95/95 [==============================] - 0s 1ms/sample - loss: 1.9675 - accuracy: 0.2737 - val_loss: 2.0122 - val_accuracy: 0.5417\n",
      "Epoch 18/100\n",
      "32/95 [=========>....................] - ETA: 0s - loss: 1.9549 - accuracy: 0.0938\n",
      "Epoch 00018: val_loss improved from 2.01219 to 1.99757, saving model to model.h5\n",
      "95/95 [==============================] - 0s 2ms/sample - loss: 1.9340 - accuracy: 0.2211 - val_loss: 1.9976 - val_accuracy: 0.5417\n",
      "Epoch 19/100\n",
      "32/95 [=========>....................] - ETA: 0s - loss: 1.9063 - accuracy: 0.4375\n",
      "Epoch 00019: val_loss improved from 1.99757 to 1.98456, saving model to model.h5\n",
      "95/95 [==============================] - 0s 2ms/sample - loss: 1.9950 - accuracy: 0.3579 - val_loss: 1.9846 - val_accuracy: 0.5833\n",
      "Epoch 20/100\n",
      "32/95 [=========>....................] - ETA: 0s - loss: 1.9320 - accuracy: 0.4062\n",
      "Epoch 00020: val_loss improved from 1.98456 to 1.96172, saving model to model.h5\n",
      "95/95 [==============================] - 0s 2ms/sample - loss: 1.9634 - accuracy: 0.3474 - val_loss: 1.9617 - val_accuracy: 0.4167\n",
      "Epoch 21/100\n",
      "32/95 [=========>....................] - ETA: 0s - loss: 1.8235 - accuracy: 0.4688\n",
      "Epoch 00021: val_loss improved from 1.96172 to 1.91873, saving model to model.h5\n",
      "95/95 [==============================] - 0s 2ms/sample - loss: 1.8921 - accuracy: 0.4316 - val_loss: 1.9187 - val_accuracy: 0.2500\n",
      "Epoch 22/100\n",
      "32/95 [=========>....................] - ETA: 0s - loss: 1.5934 - accuracy: 0.5625\n",
      "Epoch 00022: val_loss did not improve from 1.91873\n",
      "95/95 [==============================] - 0s 1ms/sample - loss: 1.8660 - accuracy: 0.4211 - val_loss: 1.9230 - val_accuracy: 0.2500\n",
      "Epoch 23/100\n",
      "32/95 [=========>....................] - ETA: 0s - loss: 1.7574 - accuracy: 0.4688\n",
      "Epoch 00023: val_loss did not improve from 1.91873\n",
      "95/95 [==============================] - 0s 1ms/sample - loss: 1.7661 - accuracy: 0.4737 - val_loss: 1.9260 - val_accuracy: 0.2500\n",
      "Epoch 24/100\n",
      "32/95 [=========>....................] - ETA: 0s - loss: 1.8026 - accuracy: 0.4062\n",
      "Epoch 00024: val_loss did not improve from 1.91873\n",
      "95/95 [==============================] - 0s 1ms/sample - loss: 1.7595 - accuracy: 0.4211 - val_loss: 1.9604 - val_accuracy: 0.2917\n",
      "Epoch 25/100\n",
      "32/95 [=========>....................] - ETA: 0s - loss: 1.4875 - accuracy: 0.5000\n",
      "Epoch 00025: val_loss did not improve from 1.91873\n",
      "95/95 [==============================] - 0s 1ms/sample - loss: 1.6660 - accuracy: 0.3579 - val_loss: 2.0207 - val_accuracy: 0.3333\n",
      "Epoch 26/100\n",
      "32/95 [=========>....................] - ETA: 0s - loss: 1.7569 - accuracy: 0.3125\n",
      "Epoch 00026: val_loss did not improve from 1.91873\n",
      "95/95 [==============================] - 0s 1ms/sample - loss: 1.7168 - accuracy: 0.3263 - val_loss: 1.9588 - val_accuracy: 0.4167\n",
      "Epoch 27/100\n",
      "32/95 [=========>....................] - ETA: 0s - loss: 1.7240 - accuracy: 0.2500\n",
      "Epoch 00027: val_loss did not improve from 1.91873\n",
      "95/95 [==============================] - 0s 862us/sample - loss: 1.5532 - accuracy: 0.4105 - val_loss: 1.9259 - val_accuracy: 0.4583\n",
      "Epoch 28/100\n",
      "32/95 [=========>....................] - ETA: 0s - loss: 1.5651 - accuracy: 0.4062\n",
      "Epoch 00028: val_loss did not improve from 1.91873\n",
      "95/95 [==============================] - 0s 1ms/sample - loss: 1.5869 - accuracy: 0.4105 - val_loss: 1.9602 - val_accuracy: 0.3750\n",
      "Epoch 29/100\n"
     ]
    },
    {
     "name": "stdout",
     "output_type": "stream",
     "text": [
      "32/95 [=========>....................] - ETA: 0s - loss: 1.6119 - accuracy: 0.4062\n",
      "Epoch 00029: val_loss did not improve from 1.91873\n",
      "95/95 [==============================] - 0s 1ms/sample - loss: 1.5364 - accuracy: 0.4526 - val_loss: 2.0004 - val_accuracy: 0.4167\n",
      "Epoch 30/100\n",
      "32/95 [=========>....................] - ETA: 0s - loss: 1.5361 - accuracy: 0.4062\n",
      "Epoch 00030: val_loss did not improve from 1.91873\n",
      "95/95 [==============================] - 0s 1ms/sample - loss: 1.6682 - accuracy: 0.3474 - val_loss: 2.0227 - val_accuracy: 0.3750\n",
      "Epoch 31/100\n",
      "32/95 [=========>....................] - ETA: 0s - loss: 1.4843 - accuracy: 0.3750\n",
      "Epoch 00031: val_loss did not improve from 1.91873\n",
      "95/95 [==============================] - 0s 1ms/sample - loss: 1.4677 - accuracy: 0.4316 - val_loss: 1.9797 - val_accuracy: 0.4167\n",
      "Epoch 32/100\n",
      "32/95 [=========>....................] - ETA: 0s - loss: 1.5143 - accuracy: 0.4375\n",
      "Epoch 00032: val_loss did not improve from 1.91873\n",
      "95/95 [==============================] - 0s 916us/sample - loss: 1.4218 - accuracy: 0.4632 - val_loss: 2.0615 - val_accuracy: 0.5000\n",
      "Epoch 33/100\n",
      "32/95 [=========>....................] - ETA: 0s - loss: 1.4808 - accuracy: 0.2812\n",
      "Epoch 00033: val_loss did not improve from 1.91873\n",
      "95/95 [==============================] - 0s 989us/sample - loss: 1.5221 - accuracy: 0.4105 - val_loss: 2.1658 - val_accuracy: 0.4583\n",
      "Epoch 34/100\n",
      "32/95 [=========>....................] - ETA: 0s - loss: 1.7386 - accuracy: 0.4062\n",
      "Epoch 00034: val_loss did not improve from 1.91873\n",
      "95/95 [==============================] - 0s 1ms/sample - loss: 1.4559 - accuracy: 0.4632 - val_loss: 2.1257 - val_accuracy: 0.5417\n",
      "Epoch 35/100\n",
      "32/95 [=========>....................] - ETA: 0s - loss: 1.5294 - accuracy: 0.3750\n",
      "Epoch 00035: val_loss did not improve from 1.91873\n",
      "95/95 [==============================] - 0s 851us/sample - loss: 1.4176 - accuracy: 0.4632 - val_loss: 2.0711 - val_accuracy: 0.5000\n",
      "Epoch 36/100\n",
      "32/95 [=========>....................] - ETA: 0s - loss: 1.4988 - accuracy: 0.3750\n",
      "Epoch 00036: val_loss did not improve from 1.91873\n",
      "95/95 [==============================] - 0s 961us/sample - loss: 1.4574 - accuracy: 0.4737 - val_loss: 1.9319 - val_accuracy: 0.5000\n",
      "Epoch 37/100\n",
      "32/95 [=========>....................] - ETA: 0s - loss: 1.4176 - accuracy: 0.5312\n",
      "Epoch 00037: val_loss improved from 1.91873 to 1.88770, saving model to model.h5\n",
      "95/95 [==============================] - 0s 1ms/sample - loss: 1.4257 - accuracy: 0.4842 - val_loss: 1.8877 - val_accuracy: 0.5000\n",
      "Epoch 38/100\n",
      "32/95 [=========>....................] - ETA: 0s - loss: 1.1475 - accuracy: 0.6250\n",
      "Epoch 00038: val_loss improved from 1.88770 to 1.84789, saving model to model.h5\n",
      "95/95 [==============================] - 0s 2ms/sample - loss: 1.2638 - accuracy: 0.5579 - val_loss: 1.8479 - val_accuracy: 0.5417\n",
      "Epoch 39/100\n",
      "32/95 [=========>....................] - ETA: 0s - loss: 1.3730 - accuracy: 0.6250\n",
      "Epoch 00039: val_loss did not improve from 1.84789\n",
      "95/95 [==============================] - 0s 1ms/sample - loss: 1.2525 - accuracy: 0.6105 - val_loss: 2.0239 - val_accuracy: 0.5417\n",
      "Epoch 40/100\n",
      "32/95 [=========>....................] - ETA: 0s - loss: 1.3686 - accuracy: 0.5000\n",
      "Epoch 00040: val_loss did not improve from 1.84789\n",
      "95/95 [==============================] - 0s 1ms/sample - loss: 1.3085 - accuracy: 0.5263 - val_loss: 2.1104 - val_accuracy: 0.5000\n",
      "Epoch 41/100\n",
      "32/95 [=========>....................] - ETA: 0s - loss: 1.2012 - accuracy: 0.5938\n",
      "Epoch 00041: val_loss did not improve from 1.84789\n",
      "95/95 [==============================] - 0s 1ms/sample - loss: 1.2888 - accuracy: 0.5474 - val_loss: 2.2470 - val_accuracy: 0.5417\n",
      "Epoch 42/100\n",
      "32/95 [=========>....................] - ETA: 0s - loss: 1.4139 - accuracy: 0.5938\n",
      "Epoch 00042: val_loss did not improve from 1.84789\n",
      "95/95 [==============================] - 0s 1ms/sample - loss: 1.2384 - accuracy: 0.6000 - val_loss: 2.1516 - val_accuracy: 0.4167\n",
      "Epoch 43/100\n",
      "32/95 [=========>....................] - ETA: 0s - loss: 1.3647 - accuracy: 0.4375\n",
      "Epoch 00043: val_loss did not improve from 1.84789\n",
      "95/95 [==============================] - 0s 1ms/sample - loss: 1.2835 - accuracy: 0.5158 - val_loss: 1.9970 - val_accuracy: 0.5000\n",
      "Epoch 44/100\n",
      "32/95 [=========>....................] - ETA: 0s - loss: 1.1549 - accuracy: 0.6562\n",
      "Epoch 00044: val_loss did not improve from 1.84789\n",
      "95/95 [==============================] - 0s 1ms/sample - loss: 1.1377 - accuracy: 0.6105 - val_loss: 2.1174 - val_accuracy: 0.5000\n",
      "Epoch 45/100\n",
      "32/95 [=========>....................] - ETA: 0s - loss: 1.3316 - accuracy: 0.4375\n",
      "Epoch 00045: val_loss did not improve from 1.84789\n",
      "95/95 [==============================] - 0s 998us/sample - loss: 1.2612 - accuracy: 0.4737 - val_loss: 2.1410 - val_accuracy: 0.4583\n",
      "Epoch 46/100\n",
      "32/95 [=========>....................] - ETA: 0s - loss: 0.9014 - accuracy: 0.7188\n",
      "Epoch 00046: val_loss did not improve from 1.84789\n",
      "95/95 [==============================] - 0s 1ms/sample - loss: 1.1438 - accuracy: 0.6211 - val_loss: 2.2144 - val_accuracy: 0.5000\n",
      "Epoch 47/100\n",
      "32/95 [=========>....................] - ETA: 0s - loss: 1.0841 - accuracy: 0.5625\n",
      "Epoch 00047: val_loss did not improve from 1.84789\n",
      "95/95 [==============================] - 0s 1ms/sample - loss: 1.1758 - accuracy: 0.5684 - val_loss: 2.0771 - val_accuracy: 0.4167\n",
      "Epoch 48/100\n",
      "32/95 [=========>....................] - ETA: 0s - loss: 0.8477 - accuracy: 0.7500\n",
      "Epoch 00048: val_loss did not improve from 1.84789\n",
      "95/95 [==============================] - 0s 1ms/sample - loss: 1.1112 - accuracy: 0.6000 - val_loss: 1.9849 - val_accuracy: 0.5000\n",
      "Epoch 49/100\n",
      "32/95 [=========>....................] - ETA: 0s - loss: 1.1070 - accuracy: 0.5625\n",
      "Epoch 00049: val_loss did not improve from 1.84789\n",
      "95/95 [==============================] - 0s 1ms/sample - loss: 1.1613 - accuracy: 0.5579 - val_loss: 2.0335 - val_accuracy: 0.5417\n",
      "Epoch 50/100\n",
      "32/95 [=========>....................] - ETA: 0s - loss: 1.0630 - accuracy: 0.6250\n",
      "Epoch 00050: val_loss did not improve from 1.84789\n",
      "95/95 [==============================] - 0s 1ms/sample - loss: 1.0361 - accuracy: 0.7263 - val_loss: 2.1514 - val_accuracy: 0.4583\n",
      "Epoch 51/100\n",
      "32/95 [=========>....................] - ETA: 0s - loss: 1.0208 - accuracy: 0.6875\n",
      "Epoch 00051: val_loss did not improve from 1.84789\n",
      "95/95 [==============================] - 0s 985us/sample - loss: 1.0209 - accuracy: 0.6737 - val_loss: 2.2310 - val_accuracy: 0.5000\n",
      "Epoch 52/100\n",
      "32/95 [=========>....................] - ETA: 0s - loss: 0.8886 - accuracy: 0.6250\n",
      "Epoch 00052: val_loss did not improve from 1.84789\n",
      "95/95 [==============================] - 0s 958us/sample - loss: 0.9546 - accuracy: 0.6211 - val_loss: 2.4670 - val_accuracy: 0.5000\n",
      "Epoch 53/100\n",
      "32/95 [=========>....................] - ETA: 0s - loss: 0.8818 - accuracy: 0.7812\n",
      "Epoch 00053: val_loss did not improve from 1.84789\n",
      "95/95 [==============================] - 0s 1ms/sample - loss: 0.9161 - accuracy: 0.7158 - val_loss: 2.4758 - val_accuracy: 0.4583\n",
      "Epoch 54/100\n",
      "32/95 [=========>....................] - ETA: 0s - loss: 1.0063 - accuracy: 0.6250\n",
      "Epoch 00054: val_loss did not improve from 1.84789\n",
      "95/95 [==============================] - 0s 1ms/sample - loss: 1.0197 - accuracy: 0.5895 - val_loss: 2.2298 - val_accuracy: 0.4167\n",
      "Epoch 55/100\n",
      "32/95 [=========>....................] - ETA: 0s - loss: 0.6801 - accuracy: 0.8125\n",
      "Epoch 00055: val_loss did not improve from 1.84789\n",
      "95/95 [==============================] - 0s 1ms/sample - loss: 0.9185 - accuracy: 0.6947 - val_loss: 2.3676 - val_accuracy: 0.4583\n",
      "Epoch 56/100\n",
      "32/95 [=========>....................] - ETA: 0s - loss: 1.0038 - accuracy: 0.6250\n",
      "Epoch 00056: val_loss did not improve from 1.84789\n",
      "95/95 [==============================] - 0s 1ms/sample - loss: 0.9284 - accuracy: 0.6316 - val_loss: 2.6206 - val_accuracy: 0.4583\n",
      "Epoch 57/100\n",
      "32/95 [=========>....................] - ETA: 0s - loss: 0.8841 - accuracy: 0.6875\n",
      "Epoch 00057: val_loss did not improve from 1.84789\n",
      "95/95 [==============================] - 0s 1ms/sample - loss: 0.8740 - accuracy: 0.6842 - val_loss: 2.4914 - val_accuracy: 0.4583\n",
      "Epoch 58/100\n"
     ]
    },
    {
     "name": "stdout",
     "output_type": "stream",
     "text": [
      "32/95 [=========>....................] - ETA: 0s - loss: 0.6039 - accuracy: 0.6875\n",
      "Epoch 00058: val_loss did not improve from 1.84789\n",
      "95/95 [==============================] - 0s 1ms/sample - loss: 0.8107 - accuracy: 0.7263 - val_loss: 2.1791 - val_accuracy: 0.4583\n",
      "Epoch 59/100\n",
      "32/95 [=========>....................] - ETA: 0s - loss: 0.8684 - accuracy: 0.7500\n",
      "Epoch 00059: val_loss did not improve from 1.84789\n",
      "95/95 [==============================] - 0s 1ms/sample - loss: 0.9485 - accuracy: 0.7158 - val_loss: 2.2228 - val_accuracy: 0.4583\n",
      "Epoch 60/100\n",
      "32/95 [=========>....................] - ETA: 0s - loss: 0.9299 - accuracy: 0.7188\n",
      "Epoch 00060: val_loss did not improve from 1.84789\n",
      "95/95 [==============================] - 0s 1ms/sample - loss: 0.8258 - accuracy: 0.7789 - val_loss: 2.5072 - val_accuracy: 0.4583\n",
      "Epoch 61/100\n",
      "32/95 [=========>....................] - ETA: 0s - loss: 0.9091 - accuracy: 0.6250\n",
      "Epoch 00061: val_loss did not improve from 1.84789\n",
      "95/95 [==============================] - 0s 1ms/sample - loss: 0.8516 - accuracy: 0.6526 - val_loss: 2.7046 - val_accuracy: 0.5417\n",
      "Epoch 62/100\n",
      "32/95 [=========>....................] - ETA: 0s - loss: 0.8394 - accuracy: 0.7500\n",
      "Epoch 00062: val_loss did not improve from 1.84789\n",
      "95/95 [==============================] - 0s 1ms/sample - loss: 0.7570 - accuracy: 0.7263 - val_loss: 2.5900 - val_accuracy: 0.5000\n",
      "Epoch 63/100\n",
      "32/95 [=========>....................] - ETA: 0s - loss: 1.0370 - accuracy: 0.5625\n",
      "Epoch 00063: val_loss did not improve from 1.84789\n",
      "95/95 [==============================] - 0s 1ms/sample - loss: 0.7798 - accuracy: 0.7263 - val_loss: 2.4075 - val_accuracy: 0.5000\n",
      "Epoch 64/100\n",
      "32/95 [=========>....................] - ETA: 0s - loss: 0.6663 - accuracy: 0.7812\n",
      "Epoch 00064: val_loss did not improve from 1.84789\n",
      "95/95 [==============================] - 0s 1ms/sample - loss: 0.7008 - accuracy: 0.7789 - val_loss: 2.6452 - val_accuracy: 0.5000\n",
      "Epoch 65/100\n",
      "32/95 [=========>....................] - ETA: 0s - loss: 0.7273 - accuracy: 0.7500\n",
      "Epoch 00065: val_loss did not improve from 1.84789\n",
      "95/95 [==============================] - 0s 1ms/sample - loss: 0.8286 - accuracy: 0.7263 - val_loss: 2.5846 - val_accuracy: 0.4583\n",
      "Epoch 66/100\n",
      "32/95 [=========>....................] - ETA: 0s - loss: 0.9051 - accuracy: 0.6562\n",
      "Epoch 00066: val_loss did not improve from 1.84789\n",
      "95/95 [==============================] - 0s 1ms/sample - loss: 0.8573 - accuracy: 0.6842 - val_loss: 2.8279 - val_accuracy: 0.5417\n",
      "Epoch 67/100\n",
      "32/95 [=========>....................] - ETA: 0s - loss: 0.8989 - accuracy: 0.7188\n",
      "Epoch 00067: val_loss did not improve from 1.84789\n",
      "95/95 [==============================] - 0s 998us/sample - loss: 0.8004 - accuracy: 0.7263 - val_loss: 2.5782 - val_accuracy: 0.5417\n",
      "Epoch 68/100\n",
      "32/95 [=========>....................] - ETA: 0s - loss: 0.7146 - accuracy: 0.7500\n",
      "Epoch 00068: val_loss did not improve from 1.84789\n",
      "95/95 [==============================] - 0s 1ms/sample - loss: 0.7688 - accuracy: 0.7263 - val_loss: 2.5026 - val_accuracy: 0.5000\n",
      "Epoch 69/100\n",
      "32/95 [=========>....................] - ETA: 0s - loss: 0.6843 - accuracy: 0.8438\n",
      "Epoch 00069: val_loss did not improve from 1.84789\n",
      "95/95 [==============================] - 0s 1ms/sample - loss: 0.7052 - accuracy: 0.7789 - val_loss: 2.8904 - val_accuracy: 0.5833\n",
      "Epoch 70/100\n",
      "32/95 [=========>....................] - ETA: 0s - loss: 0.6546 - accuracy: 0.8125\n",
      "Epoch 00070: val_loss did not improve from 1.84789\n",
      "95/95 [==============================] - 0s 1ms/sample - loss: 0.8237 - accuracy: 0.7158 - val_loss: 2.4980 - val_accuracy: 0.3333\n",
      "Epoch 71/100\n",
      "32/95 [=========>....................] - ETA: 0s - loss: 0.7258 - accuracy: 0.7812\n",
      "Epoch 00071: val_loss did not improve from 1.84789\n",
      "95/95 [==============================] - 0s 1ms/sample - loss: 0.8981 - accuracy: 0.6632 - val_loss: 2.8086 - val_accuracy: 0.4167\n",
      "Epoch 72/100\n",
      "32/95 [=========>....................] - ETA: 0s - loss: 0.8666 - accuracy: 0.7188\n",
      "Epoch 00072: val_loss did not improve from 1.84789\n",
      "95/95 [==============================] - 0s 1ms/sample - loss: 0.9503 - accuracy: 0.6632 - val_loss: 2.2246 - val_accuracy: 0.5417\n",
      "Epoch 73/100\n",
      "32/95 [=========>....................] - ETA: 0s - loss: 1.1180 - accuracy: 0.6250\n",
      "Epoch 00073: val_loss did not improve from 1.84789\n",
      "95/95 [==============================] - 0s 1ms/sample - loss: 0.8890 - accuracy: 0.6526 - val_loss: 2.1131 - val_accuracy: 0.5000\n",
      "Epoch 74/100\n",
      "32/95 [=========>....................] - ETA: 0s - loss: 0.9590 - accuracy: 0.7188\n",
      "Epoch 00074: val_loss did not improve from 1.84789\n",
      "95/95 [==============================] - 0s 1ms/sample - loss: 0.9232 - accuracy: 0.6947 - val_loss: 2.0911 - val_accuracy: 0.5000\n",
      "Epoch 75/100\n",
      "32/95 [=========>....................] - ETA: 0s - loss: 0.9405 - accuracy: 0.7188\n",
      "Epoch 00075: val_loss did not improve from 1.84789\n",
      "95/95 [==============================] - 0s 1ms/sample - loss: 0.8917 - accuracy: 0.7053 - val_loss: 1.8815 - val_accuracy: 0.5833\n",
      "Epoch 76/100\n",
      "32/95 [=========>....................] - ETA: 0s - loss: 0.7124 - accuracy: 0.6875\n",
      "Epoch 00076: val_loss did not improve from 1.84789\n",
      "95/95 [==============================] - 0s 1ms/sample - loss: 0.7167 - accuracy: 0.7895 - val_loss: 2.0834 - val_accuracy: 0.5417\n",
      "Epoch 77/100\n",
      "32/95 [=========>....................] - ETA: 0s - loss: 0.6998 - accuracy: 0.7188\n",
      "Epoch 00077: val_loss did not improve from 1.84789\n",
      "95/95 [==============================] - 0s 1ms/sample - loss: 0.7236 - accuracy: 0.7474 - val_loss: 2.2397 - val_accuracy: 0.5417\n",
      "Epoch 78/100\n",
      "32/95 [=========>....................] - ETA: 0s - loss: 0.7166 - accuracy: 0.7188\n",
      "Epoch 00078: val_loss did not improve from 1.84789\n",
      "95/95 [==============================] - 0s 961us/sample - loss: 0.6998 - accuracy: 0.7684 - val_loss: 2.5177 - val_accuracy: 0.4583\n",
      "Epoch 79/100\n",
      "32/95 [=========>....................] - ETA: 0s - loss: 0.4878 - accuracy: 0.8438\n",
      "Epoch 00079: val_loss did not improve from 1.84789\n",
      "95/95 [==============================] - 0s 985us/sample - loss: 0.7080 - accuracy: 0.7579 - val_loss: 2.7060 - val_accuracy: 0.5833\n",
      "Epoch 80/100\n",
      "32/95 [=========>....................] - ETA: 0s - loss: 0.9449 - accuracy: 0.5938\n",
      "Epoch 00080: val_loss did not improve from 1.84789\n",
      "95/95 [==============================] - 0s 1ms/sample - loss: 0.7129 - accuracy: 0.7053 - val_loss: 2.7918 - val_accuracy: 0.5833\n",
      "Epoch 81/100\n",
      "32/95 [=========>....................] - ETA: 0s - loss: 0.4444 - accuracy: 0.8750\n",
      "Epoch 00081: val_loss did not improve from 1.84789\n",
      "95/95 [==============================] - 0s 1ms/sample - loss: 0.6532 - accuracy: 0.7579 - val_loss: 2.9107 - val_accuracy: 0.4167\n",
      "Epoch 82/100\n",
      "32/95 [=========>....................] - ETA: 0s - loss: 0.6957 - accuracy: 0.7188\n",
      "Epoch 00082: val_loss did not improve from 1.84789\n",
      "95/95 [==============================] - 0s 995us/sample - loss: 0.6311 - accuracy: 0.7895 - val_loss: 2.9083 - val_accuracy: 0.4583\n",
      "Epoch 83/100\n",
      "32/95 [=========>....................] - ETA: 0s - loss: 0.3903 - accuracy: 0.8750\n",
      "Epoch 00083: val_loss did not improve from 1.84789\n",
      "95/95 [==============================] - 0s 1ms/sample - loss: 0.5227 - accuracy: 0.8316 - val_loss: 2.6944 - val_accuracy: 0.5417\n",
      "Epoch 84/100\n",
      "32/95 [=========>....................] - ETA: 0s - loss: 0.5201 - accuracy: 0.7812\n",
      "Epoch 00084: val_loss did not improve from 1.84789\n",
      "95/95 [==============================] - 0s 999us/sample - loss: 0.5754 - accuracy: 0.8105 - val_loss: 2.6210 - val_accuracy: 0.4583\n",
      "Epoch 85/100\n",
      "32/95 [=========>....................] - ETA: 0s - loss: 0.4454 - accuracy: 0.8438\n",
      "Epoch 00085: val_loss did not improve from 1.84789\n",
      "95/95 [==============================] - 0s 1ms/sample - loss: 0.5754 - accuracy: 0.8105 - val_loss: 2.7910 - val_accuracy: 0.5417\n",
      "Epoch 86/100\n",
      "32/95 [=========>....................] - ETA: 0s - loss: 0.4850 - accuracy: 0.8438\n",
      "Epoch 00086: val_loss did not improve from 1.84789\n",
      "95/95 [==============================] - 0s 1ms/sample - loss: 0.5605 - accuracy: 0.7895 - val_loss: 2.8038 - val_accuracy: 0.5417\n",
      "Epoch 87/100\n",
      "32/95 [=========>....................] - ETA: 0s - loss: 0.4455 - accuracy: 0.8125\n",
      "Epoch 00087: val_loss did not improve from 1.84789\n",
      "95/95 [==============================] - 0s 1ms/sample - loss: 0.6046 - accuracy: 0.7684 - val_loss: 2.7903 - val_accuracy: 0.5000\n"
     ]
    },
    {
     "name": "stdout",
     "output_type": "stream",
     "text": [
      "Epoch 88/100\n",
      "32/95 [=========>....................] - ETA: 0s - loss: 0.3343 - accuracy: 0.9062\n",
      "Epoch 00088: val_loss did not improve from 1.84789\n",
      "95/95 [==============================] - 0s 1ms/sample - loss: 0.5521 - accuracy: 0.7895 - val_loss: 2.8001 - val_accuracy: 0.5417\n",
      "Epoch 89/100\n",
      "32/95 [=========>....................] - ETA: 0s - loss: 0.5036 - accuracy: 0.8438\n",
      "Epoch 00089: val_loss did not improve from 1.84789\n",
      "95/95 [==============================] - 0s 938us/sample - loss: 0.6283 - accuracy: 0.8000 - val_loss: 2.6942 - val_accuracy: 0.5000\n",
      "Epoch 90/100\n",
      "32/95 [=========>....................] - ETA: 0s - loss: 0.7031 - accuracy: 0.8125\n",
      "Epoch 00090: val_loss did not improve from 1.84789\n",
      "95/95 [==============================] - 0s 892us/sample - loss: 0.6167 - accuracy: 0.8316 - val_loss: 2.6334 - val_accuracy: 0.4167\n",
      "Epoch 91/100\n",
      "32/95 [=========>....................] - ETA: 0s - loss: 0.7593 - accuracy: 0.7188\n",
      "Epoch 00091: val_loss did not improve from 1.84789\n",
      "95/95 [==============================] - 0s 1ms/sample - loss: 0.6518 - accuracy: 0.7684 - val_loss: 3.0410 - val_accuracy: 0.5417\n",
      "Epoch 92/100\n",
      "32/95 [=========>....................] - ETA: 0s - loss: 0.6909 - accuracy: 0.7500\n",
      "Epoch 00092: val_loss did not improve from 1.84789\n",
      "95/95 [==============================] - 0s 1ms/sample - loss: 0.5679 - accuracy: 0.7684 - val_loss: 2.5075 - val_accuracy: 0.5000\n",
      "Epoch 93/100\n",
      "32/95 [=========>....................] - ETA: 0s - loss: 0.4143 - accuracy: 0.9062\n",
      "Epoch 00093: val_loss did not improve from 1.84789\n",
      "95/95 [==============================] - 0s 941us/sample - loss: 0.5220 - accuracy: 0.8316 - val_loss: 2.2918 - val_accuracy: 0.4583\n",
      "Epoch 94/100\n",
      "32/95 [=========>....................] - ETA: 0s - loss: 0.5332 - accuracy: 0.8750\n",
      "Epoch 00094: val_loss did not improve from 1.84789\n",
      "95/95 [==============================] - 0s 987us/sample - loss: 0.5000 - accuracy: 0.8316 - val_loss: 2.6476 - val_accuracy: 0.5833\n",
      "Epoch 95/100\n",
      "32/95 [=========>....................] - ETA: 0s - loss: 0.5379 - accuracy: 0.7812\n",
      "Epoch 00095: val_loss did not improve from 1.84789\n",
      "95/95 [==============================] - 0s 978us/sample - loss: 0.5795 - accuracy: 0.7789 - val_loss: 3.2181 - val_accuracy: 0.5000\n",
      "Epoch 96/100\n",
      "32/95 [=========>....................] - ETA: 0s - loss: 0.3897 - accuracy: 0.8438\n",
      "Epoch 00096: val_loss did not improve from 1.84789\n",
      "95/95 [==============================] - 0s 997us/sample - loss: 0.4865 - accuracy: 0.8316 - val_loss: 3.1486 - val_accuracy: 0.5000\n",
      "Epoch 97/100\n",
      "32/95 [=========>....................] - ETA: 0s - loss: 0.5363 - accuracy: 0.8125\n",
      "Epoch 00097: val_loss did not improve from 1.84789\n",
      "95/95 [==============================] - 0s 991us/sample - loss: 0.5492 - accuracy: 0.8000 - val_loss: 2.9502 - val_accuracy: 0.5000\n",
      "Epoch 98/100\n",
      "32/95 [=========>....................] - ETA: 0s - loss: 0.6533 - accuracy: 0.7500\n",
      "Epoch 00098: val_loss did not improve from 1.84789\n",
      "95/95 [==============================] - 0s 883us/sample - loss: 0.5378 - accuracy: 0.8105 - val_loss: 2.8705 - val_accuracy: 0.4167\n",
      "Epoch 99/100\n",
      "32/95 [=========>....................] - ETA: 0s - loss: 0.6959 - accuracy: 0.7500\n",
      "Epoch 00099: val_loss did not improve from 1.84789\n",
      "95/95 [==============================] - 0s 1ms/sample - loss: 0.6196 - accuracy: 0.7895 - val_loss: 3.0905 - val_accuracy: 0.5000\n",
      "Epoch 100/100\n",
      "32/95 [=========>....................] - ETA: 0s - loss: 0.4668 - accuracy: 0.8750\n",
      "Epoch 00100: val_loss did not improve from 1.84789\n",
      "95/95 [==============================] - 0s 1ms/sample - loss: 0.4762 - accuracy: 0.8526 - val_loss: 3.1382 - val_accuracy: 0.5000\n"
     ]
    }
   ],
   "source": [
    "filename = 'model.h5'\n",
    "checkpoint = ModelCheckpoint(filename, monitor='val_loss', verbose=1, save_best_only=True, mode='min')\n",
    "\n",
    "hist = model.fit(train_X, train_Y, epochs = 100, batch_size = 32, validation_data = (val_X, val_Y), callbacks = [checkpoint])"
   ]
  },
  {
   "cell_type": "markdown",
   "metadata": {},
   "source": [
    "## Load Model\n",
    "Loads the best model found from training above, model.h5"
   ]
  },
  {
   "cell_type": "code",
   "execution_count": 39,
   "metadata": {},
   "outputs": [],
   "source": [
    "model = load_model(\"model.h5\")"
   ]
  },
  {
   "cell_type": "markdown",
   "metadata": {},
   "source": [
    "### Get predicted probability for a given text"
   ]
  },
  {
   "cell_type": "code",
   "execution_count": 40,
   "metadata": {},
   "outputs": [],
   "source": [
    "\n",
    "def predictions(text):\n",
    "  clean = re.sub(r'[^ a-z A-Z 0-9]', \" \", text)\n",
    "  test_word = word_tokenize(clean)\n",
    "  test_word = [w.lower() for w in test_word]\n",
    "  test_ls = word_tokenizer.texts_to_sequences(test_word)\n",
    "  print(test_word)\n",
    "  #Check for unknown words\n",
    "  if [] in test_ls:\n",
    "    test_ls = list(filter(None, test_ls))\n",
    "    \n",
    "  test_ls = np.array(test_ls).reshape(1, len(test_ls))\n",
    " \n",
    "  x = padding_doc(test_ls, max_length)\n",
    "  \n",
    "  pred = model.predict_proba(x)\n",
    "  \n",
    "  \n",
    "  return pred"
   ]
  },
  {
   "cell_type": "markdown",
   "metadata": {},
   "source": [
    "### Get final output for the prediction and the classes of intents"
   ]
  },
  {
   "cell_type": "code",
   "execution_count": 41,
   "metadata": {},
   "outputs": [],
   "source": [
    "\n",
    "def get_final_output(pred, classes):\n",
    "  predictions = pred[0]\n",
    " \n",
    "  classes = np.array(classes)\n",
    "  ids = np.argsort(-predictions)\n",
    "  classes = classes[ids]\n",
    "  predictions = -np.sort(-predictions)\n",
    " \n",
    "  for i in range(pred.shape[1]):\n",
    "    print(\"%s has confidence = %s\" % (classes[i], (predictions[i])))"
   ]
  },
  {
   "cell_type": "markdown",
   "metadata": {},
   "source": [
    "### Use the model =]"
   ]
  },
  {
   "cell_type": "code",
   "execution_count": 46,
   "metadata": {},
   "outputs": [
    {
     "name": "stdout",
     "output_type": "stream",
     "text": [
      "['when', 'do', 'classes', 'start']\n",
      "faq.important_date has confidence = 0.66495943\n",
      "class.location has confidence = 0.30868408\n",
      "faq.department has confidence = 0.0103741735\n",
      "faq.professor has confidence = 0.0066116094\n",
      "department.time has confidence = 0.00581364\n",
      "faq.student has confidence = 0.0013940028\n",
      "class.professor has confidence = 0.0011072055\n",
      "class.time has confidence = 0.00042878397\n",
      "faq.employee has confidence = 0.0004191445\n",
      "faq.class has confidence = 0.00020797239\n"
     ]
    }
   ],
   "source": [
    "\n",
    "text = \"When do classes start?\"\n",
    "pred = predictions(text)\n",
    "get_final_output(pred, unique_intent)"
   ]
  },
  {
   "cell_type": "code",
   "execution_count": 43,
   "metadata": {},
   "outputs": [
    {
     "name": "stdout",
     "output_type": "stream",
     "text": [
      "['what', 'time', 'is', 'cs448']\n",
      "faq.important_date has confidence = 0.6010197\n",
      "class.location has confidence = 0.36131033\n",
      "faq.department has confidence = 0.015469164\n",
      "faq.professor has confidence = 0.008923462\n",
      "department.time has confidence = 0.0077641583\n",
      "faq.student has confidence = 0.0020513462\n",
      "class.professor has confidence = 0.0016670878\n",
      "class.time has confidence = 0.00073204376\n",
      "faq.employee has confidence = 0.00068655517\n",
      "faq.class has confidence = 0.0003762511\n"
     ]
    }
   ],
   "source": [
    "\n",
    "text = \"What time is CS448?\"\n",
    "pred = predictions(text)\n",
    "get_final_output(pred, unique_intent)"
   ]
  },
  {
   "cell_type": "code",
   "execution_count": 44,
   "metadata": {},
   "outputs": [
    {
     "name": "stdout",
     "output_type": "stream",
     "text": [
      "['why', 'is', 'cyrus', 'soooo', 'gay']\n",
      "faq.important_date has confidence = 0.558418\n",
      "class.location has confidence = 0.42270595\n",
      "faq.department has confidence = 0.008368289\n",
      "faq.professor has confidence = 0.0042926595\n",
      "department.time has confidence = 0.003756578\n",
      "faq.student has confidence = 0.0008758987\n",
      "class.professor has confidence = 0.0007826111\n",
      "class.time has confidence = 0.0003623263\n",
      "faq.employee has confidence = 0.00028308245\n",
      "faq.class has confidence = 0.00015470317\n"
     ]
    }
   ],
   "source": [
    "\n",
    "text = \"Why is Cyrus soooo gay\"\n",
    "pred = predictions(text)\n",
    "get_final_output(pred, unique_intent)"
   ]
  },
  {
   "cell_type": "code",
   "execution_count": 45,
   "metadata": {},
   "outputs": [
    {
     "name": "stdout",
     "output_type": "stream",
     "text": [
      "['who', 'can', 'i', 'call', 'to', 'help', 'me']\n",
      "faq.student has confidence = 0.2683525\n",
      "faq.professor has confidence = 0.14057757\n",
      "faq.department has confidence = 0.132255\n",
      "faq.employee has confidence = 0.11118568\n",
      "class.location has confidence = 0.08039793\n",
      "faq.class has confidence = 0.07556181\n",
      "department.time has confidence = 0.07238655\n",
      "faq.important_date has confidence = 0.052555244\n",
      "class.professor has confidence = 0.037116643\n",
      "class.time has confidence = 0.029611086\n"
     ]
    }
   ],
   "source": [
    "\n",
    "text = \"Who can I call to help me?\"\n",
    "pred = predictions(text)\n",
    "get_final_output(pred, unique_intent)"
   ]
  },
  {
   "cell_type": "code",
   "execution_count": null,
   "metadata": {},
   "outputs": [],
   "source": []
  }
 ],
 "metadata": {
  "kernelspec": {
   "display_name": "Python 3",
   "language": "python",
   "name": "python3"
  },
  "language_info": {
   "codemirror_mode": {
    "name": "ipython",
    "version": 3
   },
   "file_extension": ".py",
   "mimetype": "text/x-python",
   "name": "python",
   "nbconvert_exporter": "python",
   "pygments_lexer": "ipython3",
   "version": "3.6.9"
  }
 },
 "nbformat": 4,
 "nbformat_minor": 4
}
