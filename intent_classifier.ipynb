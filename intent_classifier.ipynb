{
 "cells": [
  {
   "cell_type": "code",
   "execution_count": 1,
   "metadata": {},
   "outputs": [],
   "source": [
    "# https://towardsdatascience.com/a-brief-introduction-to-intent-classification-96fda6b1f557\n",
    "# Classifies into 21 intents\n",
    "\n",
    "\n",
    "import numpy as np\n",
    "import pandas as pd\n",
    "from nltk.corpus import stopwords\n",
    "from nltk.tokenize import word_tokenize\n",
    "from nltk.stem.lancaster import LancasterStemmer\n",
    "import nltk\n",
    "import re\n",
    "from sklearn.preprocessing import OneHotEncoder\n",
    "import matplotlib.pyplot as plt\n",
    "from tensorflow.keras.preprocessing.text import Tokenizer\n",
    "from tensorflow.keras.preprocessing.sequence import pad_sequences\n",
    "from tensorflow.keras.utils import to_categorical\n",
    "from tensorflow.keras.models import Sequential, load_model\n",
    "from tensorflow.keras.layers import Dense, LSTM, Bidirectional, Embedding, Dropout\n",
    "from tensorflow.keras.callbacks import ModelCheckpoint"
   ]
  },
  {
   "cell_type": "markdown",
   "metadata": {},
   "source": [
    "# Load Dataset"
   ]
  },
  {
   "cell_type": "code",
   "execution_count": 2,
   "metadata": {},
   "outputs": [],
   "source": [
    "def load_dataset(filename):\n",
    "  df = pd.read_csv(filename, encoding = \"latin1\", names = [\"Sentence\", \"Intent\"])\n",
    "\n",
    "  df.Intent=df.Intent.astype(str)\n",
    "  df.Sentence=df.Sentence.astype(str)\n",
    "\n",
    "  #df = df.apply(lambda col: le.fit_transform(col.astype(str)), axis=0, result_type='expand')\n",
    "\n",
    "  print(df.head())\n",
    "  intent = df[\"Intent\"]\n",
    "  unique_intent = list(set(intent))\n",
    "  sentences = list(df[\"Sentence\"])\n",
    "  \n",
    "  return (intent, unique_intent, sentences)"
   ]
  },
  {
   "cell_type": "code",
   "execution_count": 3,
   "metadata": {},
   "outputs": [
    {
     "name": "stdout",
     "output_type": "stream",
     "text": [
      "                                            Sentence  \\\n",
      "0                             When do classes start?   \n",
      "1                      When does the semester start?   \n",
      "2                  What day does the semester start?   \n",
      "3           I want to know when the semester starts.   \n",
      "4  I was wondering when the beginning of the seme...   \n",
      "\n",
      "                          Intent  \n",
      "0   important_date.class_actions  \n",
      "1  important_date.semester_start  \n",
      "2  important_date.semester_start  \n",
      "3  important_date.semester_start  \n",
      "4  important_date.semester_start  \n"
     ]
    }
   ],
   "source": [
    "intent, unique_intent, sentences = load_dataset(\"intents_and_categories.csv\")"
   ]
  },
  {
   "cell_type": "code",
   "execution_count": 4,
   "metadata": {},
   "outputs": [
    {
     "name": "stdout",
     "output_type": "stream",
     "text": [
      "Intents: \n",
      "0       important_date.class_actions\n",
      "1      important_date.semester_start\n",
      "2      important_date.semester_start\n",
      "3      important_date.semester_start\n",
      "4      important_date.semester_start\n",
      "                   ...              \n",
      "129                     employee.pay\n",
      "130                     employee.pay\n",
      "131                     undetermined\n",
      "132                     undetermined\n",
      "133          professor.help.meetings\n",
      "Name: Intent, Length: 134, dtype: object\n",
      "Unique Intents: \n",
      "['class.time', 'important_date.semester_end', 'important_date.break', 'important_date.drop_class', 'important_date.add_class', 'important_date.semester_start', 'important_date.graduation', 'professor.help.meetings', 'student.actions', 'important_date.registration', 'student.tutor', 'student.degree', 'cs_department.department_head', 'class.assistant', 'cs_department.advisor', 'professor.general_information', 'cs_department.candy', 'employee.pay', 'class.professor', 'location.lost_and_found', 'professor.actions', 'important_date.finals', 'class.schedule', 'undetermined', 'important_date.class_actions', 'cs_department.employee', 'class.actions', 'professor.contact', 'location.room', 'professor.office_hours', 'cs_department.time', 'cs_department.lost_and_found']\n",
      "Sentences: \n",
      "['When do classes start?', 'When does the semester start?', 'What day does the semester start?', 'I want to know when the semester starts.', 'I was wondering when the beginning of the semester is.', 'Which day does the semester start?', 'What date does the semester start on?', 'When does school start?', 'What day does school start?', 'What is the first day of class?', 'What day do classes start?', 'What day do classes end?', 'When do classes end?', 'When does the semester end?', 'I want to know when the semester ends', 'When is the last day of classes?', 'What day does the semester end on?', 'When is spring break?', 'When is finals week?', 'When are finals?', 'What day do finals start?', 'When is the first day of finals week?', 'When is Thanksgiving break?', 'When is Fall break?', 'When is the upcoming holiday?', 'When does registration open?', 'When can I register for classes?', 'When is the last day to register for a class?', 'When is the last day to add a class?', 'Can I still add a class?', 'When is the last day to drop a class?', 'When is graduation?', 'What day is graduation?', 'How many holidays/days off are there?', 'Do we have any breaks this semester?', 'Which days off do we have?', 'Where is the CS Lab?', 'How do I get to the CS Lab?', 'Where is the lab?', 'How do I get to the lab?', 'I am looking for the lab.', 'I am looking for the computer science lab', 'Where is 118?', 'Where is room 118?', 'Where is 112?', 'Where is room 112?', 'What room is software engineering in?', 'Where is databases?', 'I am looking for my algorithms class.', 'I am looking for room 106.', 'Where is my classroom located?', 'Where is CS448 located?', 'Object oriented is held where?', 'Where is data structures held?', 'Where is my office located?', 'How do I get to X building?', 'Where is X building?', 'Where is professor Xâ\\x80\\x99s office?', 'Where is Dr. Xâ\\x80\\x99s office?', 'Where is room X? ', 'Where is room X located?', 'How do I get to office X?', 'How do I get to X floor?', 'Where is the Psychology department?', 'Where is the Sociology department?', 'Where can I find the elevator?', 'Where is the elevator?', 'Where can I find the restroom?', 'Men/Women', 'Where is the restroom?', 'Where is the Xâ\\x80\\x99s restroom?', 'Where is the lost and found?', 'Where is the YWIC office?', 'Where is my professor teaching?', 'Where is the tutoring center for X?', 'Where is the tutoring center?', 'Where is the X tutoring center?', 'What are professor Xâ\\x80\\x99s office hours?', 'What is professor Xâ\\x80\\x99s email?', 'Does X have any TAâ\\x80\\x99s?', 'Is X involved with any research?', 'What type of research does X do?', 'I want to drop a class but I donâ\\x80\\x99t know how', 'How do I drop a class?', 'I want to audit a class but I donâ\\x80\\x99t know how', 'How do I audit a class?', 'I want to change my class to be an SU/Audit', 'When does class X start?', 'When does X start?', 'What time does my professorâ\\x80\\x99s class end?', 'What time does the office close?', 'When does the office close?', 'What are the office hours?', 'How late is the department open until?', 'When does the department close?', 'Do you have a lost and found?', 'Is there a lost and found?', 'Can I speak with an advisor?', 'Can I speak with Sally?', 'Can I speak to Dr. Tran?', 'Is Dr. Tran available?', 'Could I talk to the department head?', 'Can I speak with the department head?', 'Who is in charge?', 'When are Dr. Tranâ\\x80\\x99s office hours?', 'Can you reserve a room for me?', 'Can I reserve a room?', 'Can I reserve room X?', 'Can you reserve room X for me?', 'Can I reserve X?', 'What do I do for a substitution?', 'What do I do for a class substitution?', 'Can I get a change of schedule form?', 'How do I apply to the graduate program?', 'What classes are offered next semester?', 'Where can I receive assistance for coding?', 'Where can I get help for coding?', 'Where can I find my degree plan?', 'Where can I get my degree plan?', 'Where do I find my degree plan?', 'Where do I get my degree plan?', 'How do I apply for my degree?', 'Is the candy free?', 'Can I have some candy?', 'Can I take some candy?', 'Where is the candy?', 'Who do I go to talk to about the amount of money on my paycheck being decreased?', 'When will I receive my paycheck?', 'When will I get my paycheck?', 'Where do I go to receive my paycheck?', 'Where do I go to get my paycheck?', 'Can you process an override for a change of major?', 'Can a department head override a request for a change of schedule?', 'What do I do if I canâ\\x80\\x99t attend the meeting?']\n"
     ]
    }
   ],
   "source": [
    "print(\"Intents: \")\n",
    "print(intent)\n",
    "print(\"Unique Intents: \")\n",
    "print(unique_intent)\n",
    "print(\"Sentences: \")\n",
    "print(sentences)\n"
   ]
  },
  {
   "cell_type": "markdown",
   "metadata": {},
   "source": [
    "# Get stopwords and punkt"
   ]
  },
  {
   "cell_type": "code",
   "execution_count": 5,
   "metadata": {},
   "outputs": [
    {
     "name": "stderr",
     "output_type": "stream",
     "text": [
      "[nltk_data] Downloading package stopwords to\n",
      "[nltk_data]     /Users/kathrine.swe/nltk_data...\n",
      "[nltk_data]   Package stopwords is already up-to-date!\n",
      "[nltk_data] Downloading package punkt to\n",
      "[nltk_data]     /Users/kathrine.swe/nltk_data...\n",
      "[nltk_data]   Package punkt is already up-to-date!\n"
     ]
    },
    {
     "data": {
      "text/plain": [
       "True"
      ]
     },
     "execution_count": 5,
     "metadata": {},
     "output_type": "execute_result"
    }
   ],
   "source": [
    "nltk.download(\"stopwords\")\n",
    "nltk.download(\"punkt\")"
   ]
  },
  {
   "cell_type": "markdown",
   "metadata": {},
   "source": [
    "# Define stemmer"
   ]
  },
  {
   "cell_type": "code",
   "execution_count": 6,
   "metadata": {},
   "outputs": [],
   "source": [
    "stemmer = LancasterStemmer()"
   ]
  },
  {
   "cell_type": "markdown",
   "metadata": {},
   "source": [
    "# Data cleaning"
   ]
  },
  {
   "cell_type": "code",
   "execution_count": 7,
   "metadata": {},
   "outputs": [],
   "source": [
    "def cleaning(sentences):\n",
    "    words = []\n",
    "    for s in sentences:\n",
    "        clean = re.sub(r'[^ a-z A-Z 0-9]', \" \", s)\n",
    "        w = word_tokenize(clean)\n",
    "        # lemmatizing\n",
    "        words.append([i.lower() for i in w])\n",
    "    return words"
   ]
  },
  {
   "cell_type": "code",
   "execution_count": 8,
   "metadata": {},
   "outputs": [
    {
     "name": "stdout",
     "output_type": "stream",
     "text": [
      "134\n",
      "[['when', 'do', 'classes', 'start'], ['when', 'does', 'the', 'semester', 'start']]\n"
     ]
    }
   ],
   "source": [
    "cleaned_words = cleaning(sentences)\n",
    "print(len(cleaned_words))\n",
    "print(cleaned_words[:2])"
   ]
  },
  {
   "cell_type": "markdown",
   "metadata": {},
   "source": [
    "# Input encoding"
   ]
  },
  {
   "cell_type": "code",
   "execution_count": 9,
   "metadata": {},
   "outputs": [],
   "source": [
    "def create_tokenizer( words, filters='!\"#$%&()*+,-./:;<=>?@[\\]^_`{|}~'):\n",
    "    \"\"\"Create tokenizer\n",
    "    \"\"\"\n",
    "    token = Tokenizer(filters=filters)\n",
    "    token.fit_on_texts(words)\n",
    "    return token\n",
    "\n",
    "def get_max_length(words):\n",
    "    \"\"\"Gets max length of a word\n",
    "    \"\"\"\n",
    "    return(len(max(words, key=len)))\n"
   ]
  },
  {
   "cell_type": "code",
   "execution_count": 10,
   "metadata": {},
   "outputs": [
    {
     "name": "stdout",
     "output_type": "stream",
     "text": [
      "Vocab size =  172  and Maximum length =  17\n"
     ]
    }
   ],
   "source": [
    "word_tokenizer = create_tokenizer(cleaned_words)\n",
    "vocab_size = len(word_tokenizer.word_index) + 1\n",
    "max_length = get_max_length(cleaned_words)\n",
    "\n",
    "print(\"Vocab size = \", vocab_size, \" and Maximum length = \", max_length)"
   ]
  },
  {
   "cell_type": "markdown",
   "metadata": {},
   "source": [
    "# Output Encoding"
   ]
  },
  {
   "cell_type": "code",
   "execution_count": 11,
   "metadata": {},
   "outputs": [],
   "source": [
    "def encoding_doc(token, words):\n",
    "    return(token.texts_to_sequences(words))"
   ]
  },
  {
   "cell_type": "code",
   "execution_count": 12,
   "metadata": {},
   "outputs": [],
   "source": [
    "encoded_doc = encoding_doc(word_tokenizer, cleaned_words)"
   ]
  },
  {
   "cell_type": "code",
   "execution_count": 13,
   "metadata": {},
   "outputs": [],
   "source": [
    "def padding_doc(encoded_doc, max_length):\n",
    "    return(pad_sequences(encoded_doc, maxlen=max_length, padding=\"post\"))"
   ]
  },
  {
   "cell_type": "code",
   "execution_count": 14,
   "metadata": {},
   "outputs": [
    {
     "data": {
      "text/plain": [
       "array([[  5,   6,  25,  18,   0,   0,   0,   0,   0,   0,   0,   0,   0,\n",
       "          0,   0,   0,   0],\n",
       "       [  5,  12,   3,  19,  18,   0,   0,   0,   0,   0,   0,   0,   0,\n",
       "          0,   0,   0,   0],\n",
       "       [ 10,  15,  12,   3,  19,  18,   0,   0,   0,   0,   0,   0,   0,\n",
       "          0,   0,   0,   0],\n",
       "       [  1,  29,   8,  36,   5,   3,  19, 102,   0,   0,   0,   0,   0,\n",
       "          0,   0,   0,   0],\n",
       "       [  1, 103, 104,   5,   3, 105,  23,   3,  19,   2,   0,   0,   0,\n",
       "          0,   0,   0,   0]], dtype=int32)"
      ]
     },
     "execution_count": 14,
     "metadata": {},
     "output_type": "execute_result"
    }
   ],
   "source": [
    "padded_doc = padding_doc(encoded_doc, max_length)\n",
    "padded_doc[:5]"
   ]
  },
  {
   "cell_type": "code",
   "execution_count": 15,
   "metadata": {},
   "outputs": [
    {
     "name": "stdout",
     "output_type": "stream",
     "text": [
      "Shape of padded docs =  (134, 17)\n"
     ]
    }
   ],
   "source": [
    "print(\"Shape of padded docs = \", padded_doc.shape)"
   ]
  },
  {
   "cell_type": "markdown",
   "metadata": {},
   "source": [
    "### Tokenizer"
   ]
  },
  {
   "cell_type": "code",
   "execution_count": 16,
   "metadata": {},
   "outputs": [],
   "source": [
    "# tokenizer with filter changed\n",
    "output_tokenizer = create_tokenizer(unique_intent, filters='!\"#$%&()*+,-/:;<=>?@[\\]^`{|}~')"
   ]
  },
  {
   "cell_type": "code",
   "execution_count": 17,
   "metadata": {},
   "outputs": [
    {
     "data": {
      "text/plain": [
       "{'class.time': 1,\n",
       " 'important_date.semester_end': 2,\n",
       " 'important_date.break': 3,\n",
       " 'important_date.drop_class': 4,\n",
       " 'important_date.add_class': 5,\n",
       " 'important_date.semester_start': 6,\n",
       " 'important_date.graduation': 7,\n",
       " 'professor.help.meetings': 8,\n",
       " 'student.actions': 9,\n",
       " 'important_date.registration': 10,\n",
       " 'student.tutor': 11,\n",
       " 'student.degree': 12,\n",
       " 'cs_department.department_head': 13,\n",
       " 'class.assistant': 14,\n",
       " 'cs_department.advisor': 15,\n",
       " 'professor.general_information': 16,\n",
       " 'cs_department.candy': 17,\n",
       " 'employee.pay': 18,\n",
       " 'class.professor': 19,\n",
       " 'location.lost_and_found': 20,\n",
       " 'professor.actions': 21,\n",
       " 'important_date.finals': 22,\n",
       " 'class.schedule': 23,\n",
       " 'undetermined': 24,\n",
       " 'important_date.class_actions': 25,\n",
       " 'cs_department.employee': 26,\n",
       " 'class.actions': 27,\n",
       " 'professor.contact': 28,\n",
       " 'location.room': 29,\n",
       " 'professor.office_hours': 30,\n",
       " 'cs_department.time': 31,\n",
       " 'cs_department.lost_and_found': 32}"
      ]
     },
     "execution_count": 17,
     "metadata": {},
     "output_type": "execute_result"
    }
   ],
   "source": [
    "output_tokenizer.word_index"
   ]
  },
  {
   "cell_type": "markdown",
   "metadata": {},
   "source": [
    "### Encode output given intent and tokenizer and reshape"
   ]
  },
  {
   "cell_type": "code",
   "execution_count": 18,
   "metadata": {},
   "outputs": [],
   "source": [
    "encoded_output = encoding_doc(output_tokenizer, intent)"
   ]
  },
  {
   "cell_type": "code",
   "execution_count": 19,
   "metadata": {},
   "outputs": [
    {
     "name": "stdout",
     "output_type": "stream",
     "text": [
      "[[25], [6], [6], [6], [6], [6], [6], [6], [6], [6], [6], [2], [2], [2], [2], [2], [2], [3], [22], [22], [22], [22], [3], [3], [3], [10], [10], [10], [5], [5], [4], [7], [7], [3], [3], [3], [29], [29], [29], [29], [29], [29], [29], [29], [29], [29], [29], [29], [29], [29], [29], [29], [29], [29], [29], [29], [29], [29], [29], [29], [29], [29], [29], [29], [29], [29], [29], [29], [29], [29], [29], [20], [29], [29], [29], [29], [29], [30], [28], [14], [16], [19], [27], [27], [27], [27], [27], [1], [1], [1], [31], [31], [31], [31], [31], [32], [32], [15], [26], [13], [13], [13], [13], [13], [13], [13], [21], [21], [21], [21], [21], [21], [9], [9], [23], [11], [11], [12], [12], [12], [12], [12], [17], [17], [17], [17], [18], [18], [18], [18], [18], [24], [24], [8]]\n"
     ]
    }
   ],
   "source": [
    "print(encoded_output)"
   ]
  },
  {
   "cell_type": "code",
   "execution_count": 20,
   "metadata": {},
   "outputs": [],
   "source": [
    "encoded_output = np.array(encoded_output).reshape(len(encoded_output), 1)"
   ]
  },
  {
   "cell_type": "code",
   "execution_count": 21,
   "metadata": {},
   "outputs": [
    {
     "data": {
      "text/plain": [
       "(134, 1)"
      ]
     },
     "execution_count": 21,
     "metadata": {},
     "output_type": "execute_result"
    }
   ],
   "source": [
    "encoded_output.shape"
   ]
  },
  {
   "cell_type": "code",
   "execution_count": 22,
   "metadata": {},
   "outputs": [
    {
     "name": "stdout",
     "output_type": "stream",
     "text": [
      "[[25]\n",
      " [ 6]\n",
      " [ 6]\n",
      " [ 6]\n",
      " [ 6]\n",
      " [ 6]\n",
      " [ 6]\n",
      " [ 6]\n",
      " [ 6]\n",
      " [ 6]\n",
      " [ 6]\n",
      " [ 2]\n",
      " [ 2]\n",
      " [ 2]\n",
      " [ 2]\n",
      " [ 2]\n",
      " [ 2]\n",
      " [ 3]\n",
      " [22]\n",
      " [22]\n",
      " [22]\n",
      " [22]\n",
      " [ 3]\n",
      " [ 3]\n",
      " [ 3]\n",
      " [10]\n",
      " [10]\n",
      " [10]\n",
      " [ 5]\n",
      " [ 5]\n",
      " [ 4]\n",
      " [ 7]\n",
      " [ 7]\n",
      " [ 3]\n",
      " [ 3]\n",
      " [ 3]\n",
      " [29]\n",
      " [29]\n",
      " [29]\n",
      " [29]\n",
      " [29]\n",
      " [29]\n",
      " [29]\n",
      " [29]\n",
      " [29]\n",
      " [29]\n",
      " [29]\n",
      " [29]\n",
      " [29]\n",
      " [29]\n",
      " [29]\n",
      " [29]\n",
      " [29]\n",
      " [29]\n",
      " [29]\n",
      " [29]\n",
      " [29]\n",
      " [29]\n",
      " [29]\n",
      " [29]\n",
      " [29]\n",
      " [29]\n",
      " [29]\n",
      " [29]\n",
      " [29]\n",
      " [29]\n",
      " [29]\n",
      " [29]\n",
      " [29]\n",
      " [29]\n",
      " [29]\n",
      " [20]\n",
      " [29]\n",
      " [29]\n",
      " [29]\n",
      " [29]\n",
      " [29]\n",
      " [30]\n",
      " [28]\n",
      " [14]\n",
      " [16]\n",
      " [19]\n",
      " [27]\n",
      " [27]\n",
      " [27]\n",
      " [27]\n",
      " [27]\n",
      " [ 1]\n",
      " [ 1]\n",
      " [ 1]\n",
      " [31]\n",
      " [31]\n",
      " [31]\n",
      " [31]\n",
      " [31]\n",
      " [32]\n",
      " [32]\n",
      " [15]\n",
      " [26]\n",
      " [13]\n",
      " [13]\n",
      " [13]\n",
      " [13]\n",
      " [13]\n",
      " [13]\n",
      " [13]\n",
      " [21]\n",
      " [21]\n",
      " [21]\n",
      " [21]\n",
      " [21]\n",
      " [21]\n",
      " [ 9]\n",
      " [ 9]\n",
      " [23]\n",
      " [11]\n",
      " [11]\n",
      " [12]\n",
      " [12]\n",
      " [12]\n",
      " [12]\n",
      " [12]\n",
      " [17]\n",
      " [17]\n",
      " [17]\n",
      " [17]\n",
      " [18]\n",
      " [18]\n",
      " [18]\n",
      " [18]\n",
      " [18]\n",
      " [24]\n",
      " [24]\n",
      " [ 8]]\n"
     ]
    }
   ],
   "source": [
    "print(encoded_output)"
   ]
  },
  {
   "cell_type": "markdown",
   "metadata": {},
   "source": [
    "### Create one hot encoding\n",
    "Example of one hot encoding:\n",
    "Consider a domain of [ a, e, i, o, u] and an intent of [ a, i, u ]\n",
    "The one hot encoding is [ 1, 0, 1, 0, 1] for the domain."
   ]
  },
  {
   "cell_type": "code",
   "execution_count": 23,
   "metadata": {},
   "outputs": [],
   "source": [
    "def one_hot(encode):\n",
    "    o = OneHotEncoder(sparse=False)\n",
    "    return(o.fit_transform(encode))"
   ]
  },
  {
   "cell_type": "code",
   "execution_count": 24,
   "metadata": {},
   "outputs": [
    {
     "name": "stderr",
     "output_type": "stream",
     "text": [
      "/Users/kathrine.swe/opt/anaconda3/lib/python3.7/site-packages/sklearn/preprocessing/_encoders.py:415: FutureWarning: The handling of integer data will change in version 0.22. Currently, the categories are determined based on the range [0, max(values)], while in the future they will be determined based on the unique values.\n",
      "If you want the future behaviour and silence this warning, you can specify \"categories='auto'\".\n",
      "In case you used a LabelEncoder before this OneHotEncoder to convert the categories to integers, then you can now use the OneHotEncoder directly.\n",
      "  warnings.warn(msg, FutureWarning)\n"
     ]
    }
   ],
   "source": [
    "output_one_hot = one_hot(encoded_output)"
   ]
  },
  {
   "cell_type": "code",
   "execution_count": 25,
   "metadata": {},
   "outputs": [
    {
     "data": {
      "text/plain": [
       "(134, 32)"
      ]
     },
     "execution_count": 25,
     "metadata": {},
     "output_type": "execute_result"
    }
   ],
   "source": [
    "output_one_hot.shape"
   ]
  },
  {
   "cell_type": "markdown",
   "metadata": {},
   "source": [
    "## Create Model"
   ]
  },
  {
   "cell_type": "code",
   "execution_count": 26,
   "metadata": {},
   "outputs": [],
   "source": [
    "from sklearn.model_selection import train_test_split"
   ]
  },
  {
   "cell_type": "code",
   "execution_count": 27,
   "metadata": {},
   "outputs": [],
   "source": [
    "\n",
    "train_X, val_X, train_Y, val_Y = train_test_split(padded_doc, output_one_hot, shuffle = True, test_size = 0.2)"
   ]
  },
  {
   "cell_type": "code",
   "execution_count": 28,
   "metadata": {},
   "outputs": [
    {
     "name": "stdout",
     "output_type": "stream",
     "text": [
      "Shape of train_X = (107, 17) and train_Y = (107, 32)\n",
      "Shape of val_X = (27, 17) and val_Y = (27, 32)\n"
     ]
    }
   ],
   "source": [
    "print(\"Shape of train_X = %s and train_Y = %s\" % (train_X.shape, train_Y.shape))\n",
    "print(\"Shape of val_X = %s and val_Y = %s\" % (val_X.shape, val_Y.shape))"
   ]
  },
  {
   "cell_type": "markdown",
   "metadata": {},
   "source": [
    "### Sequential Model\n",
    "[ conv ] -> [ batch norm ] -> [ relu ]\n",
    "\n",
    "A sequential model allows you to create models layer-by-layer in a step-by-step fashion\n",
    "\n",
    "We instantiate the sequential model first, then add each layer one at a time.\n",
    "Layers:\n",
    "    \n",
    "    Embedding:\n",
    "        Vocab size:\n",
    "        Input length:\n",
    "    Bidirectional:\n",
    "        LSTM:\n",
    "    Dense: Relu\n",
    "    Dropout: 0.5\n",
    "    Dense: Softmax"
   ]
  },
  {
   "cell_type": "code",
   "execution_count": 29,
   "metadata": {},
   "outputs": [],
   "source": [
    "def create_model(vocab_size, max_length):\n",
    "  model = Sequential()\n",
    "  model.add(Embedding(vocab_size, 128, input_length = max_length, trainable = False))\n",
    "  model.add(Bidirectional(LSTM(128)))\n",
    "#   model.add(LSTM(128))\n",
    "  model.add(Dense(32, activation = \"relu\"))\n",
    "  model.add(Dropout(0.5))\n",
    "  model.add(Dense(len(unique_intent), activation = \"softmax\"))\n",
    "  \n",
    "  return model"
   ]
  },
  {
   "cell_type": "code",
   "execution_count": 30,
   "metadata": {},
   "outputs": [
    {
     "name": "stdout",
     "output_type": "stream",
     "text": [
      "172 17\n",
      "32\n"
     ]
    }
   ],
   "source": [
    "print(vocab_size, max_length)\n",
    "print(len(unique_intent))"
   ]
  },
  {
   "cell_type": "markdown",
   "metadata": {},
   "source": [
    "### Compile and give summary of model\n",
    "#### Compile\n",
    "A loss function (or objective function, or optimization score function) is one of the two parameters required to compile a model. We use categorical cross entropy to train a CNN to output a probability over the C classes for each image. It is used for multi-class classification. It is also called softmax loss, a softmax activation plus a cross-entropy loss.\n",
    "\n",
    "Adam is an adaptive learning rate optimization algorithm designed to train deep neural nets. Adam computes individual learning rates for different parameters, using the first and second moments of gradient to adapt the learning rate for each weight of the neural network.\n",
    "\n"
   ]
  },
  {
   "cell_type": "code",
   "execution_count": 31,
   "metadata": {},
   "outputs": [
    {
     "name": "stdout",
     "output_type": "stream",
     "text": [
      "Model: \"sequential\"\n",
      "_________________________________________________________________\n",
      "Layer (type)                 Output Shape              Param #   \n",
      "=================================================================\n",
      "embedding (Embedding)        (None, 17, 128)           22016     \n",
      "_________________________________________________________________\n",
      "bidirectional (Bidirectional (None, 256)               263168    \n",
      "_________________________________________________________________\n",
      "dense (Dense)                (None, 32)                8224      \n",
      "_________________________________________________________________\n",
      "dropout (Dropout)            (None, 32)                0         \n",
      "_________________________________________________________________\n",
      "dense_1 (Dense)              (None, 32)                1056      \n",
      "=================================================================\n",
      "Total params: 294,464\n",
      "Trainable params: 272,448\n",
      "Non-trainable params: 22,016\n",
      "_________________________________________________________________\n"
     ]
    }
   ],
   "source": [
    "model = create_model(vocab_size, max_length)\n",
    "\n",
    "model.compile(loss = \"categorical_crossentropy\", optimizer = \"adam\", metrics = [\"accuracy\"])\n",
    "model.summary()"
   ]
  },
  {
   "cell_type": "markdown",
   "metadata": {},
   "source": [
    "## Train Model\n",
    "Uses checkpoint to save best model at each training"
   ]
  },
  {
   "cell_type": "code",
   "execution_count": 32,
   "metadata": {},
   "outputs": [
    {
     "name": "stdout",
     "output_type": "stream",
     "text": [
      "Train on 107 samples, validate on 27 samples\n",
      "Epoch 1/100\n",
      " 96/107 [=========================>....] - ETA: 0s - loss: 3.4557 - accuracy: 0.1458   \n",
      "Epoch 00001: val_loss improved from inf to 3.41008, saving model to model.h5\n",
      "107/107 [==============================] - 7s 65ms/sample - loss: 3.4571 - accuracy: 0.1402 - val_loss: 3.4101 - val_accuracy: 0.3704\n",
      "Epoch 2/100\n",
      " 96/107 [=========================>....] - ETA: 0s - loss: 3.4027 - accuracy: 0.2500\n",
      "Epoch 00002: val_loss improved from 3.41008 to 3.31614, saving model to model.h5\n",
      "107/107 [==============================] - 1s 6ms/sample - loss: 3.3962 - accuracy: 0.2430 - val_loss: 3.3161 - val_accuracy: 0.3704\n",
      "Epoch 3/100\n",
      " 96/107 [=========================>....] - ETA: 0s - loss: 3.3086 - accuracy: 0.2396\n",
      "Epoch 00003: val_loss improved from 3.31614 to 3.08467, saving model to model.h5\n",
      "107/107 [==============================] - 1s 5ms/sample - loss: 3.3037 - accuracy: 0.2336 - val_loss: 3.0847 - val_accuracy: 0.3704\n",
      "Epoch 4/100\n",
      " 96/107 [=========================>....] - ETA: 0s - loss: 3.2394 - accuracy: 0.2292\n",
      "Epoch 00004: val_loss improved from 3.08467 to 2.88996, saving model to model.h5\n",
      "107/107 [==============================] - 0s 4ms/sample - loss: 3.2946 - accuracy: 0.2150 - val_loss: 2.8900 - val_accuracy: 0.3704\n",
      "Epoch 5/100\n",
      " 96/107 [=========================>....] - ETA: 0s - loss: 3.1442 - accuracy: 0.2396\n",
      "Epoch 00005: val_loss did not improve from 2.88996\n",
      "107/107 [==============================] - 0s 4ms/sample - loss: 3.1726 - accuracy: 0.2336 - val_loss: 2.9620 - val_accuracy: 0.3704\n",
      "Epoch 6/100\n",
      " 96/107 [=========================>....] - ETA: 0s - loss: 3.1098 - accuracy: 0.2500\n",
      "Epoch 00006: val_loss did not improve from 2.88996\n",
      "107/107 [==============================] - 0s 4ms/sample - loss: 3.1331 - accuracy: 0.2336 - val_loss: 2.9805 - val_accuracy: 0.3704\n",
      "Epoch 7/100\n",
      " 96/107 [=========================>....] - ETA: 0s - loss: 3.1151 - accuracy: 0.2708\n",
      "Epoch 00007: val_loss did not improve from 2.88996\n",
      "107/107 [==============================] - 0s 4ms/sample - loss: 3.1270 - accuracy: 0.2710 - val_loss: 2.9296 - val_accuracy: 0.3704\n",
      "Epoch 8/100\n",
      " 96/107 [=========================>....] - ETA: 0s - loss: 3.0411 - accuracy: 0.3021\n",
      "Epoch 00008: val_loss improved from 2.88996 to 2.82574, saving model to model.h5\n",
      "107/107 [==============================] - 0s 5ms/sample - loss: 3.0435 - accuracy: 0.2991 - val_loss: 2.8257 - val_accuracy: 0.3704\n",
      "Epoch 9/100\n",
      " 96/107 [=========================>....] - ETA: 0s - loss: 3.0823 - accuracy: 0.2812\n",
      "Epoch 00009: val_loss did not improve from 2.82574\n",
      "107/107 [==============================] - 0s 4ms/sample - loss: 3.2063 - accuracy: 0.2523 - val_loss: 2.8357 - val_accuracy: 0.3704\n",
      "Epoch 10/100\n",
      " 96/107 [=========================>....] - ETA: 0s - loss: 3.0981 - accuracy: 0.2396\n",
      "Epoch 00010: val_loss did not improve from 2.82574\n",
      "107/107 [==============================] - 0s 4ms/sample - loss: 3.0940 - accuracy: 0.2430 - val_loss: 2.9604 - val_accuracy: 0.3704\n",
      "Epoch 11/100\n",
      " 96/107 [=========================>....] - ETA: 0s - loss: 3.0730 - accuracy: 0.2812\n",
      "Epoch 00011: val_loss did not improve from 2.82574\n",
      "107/107 [==============================] - 0s 4ms/sample - loss: 3.1143 - accuracy: 0.2617 - val_loss: 2.9508 - val_accuracy: 0.3704\n",
      "Epoch 12/100\n",
      " 96/107 [=========================>....] - ETA: 0s - loss: 3.0772 - accuracy: 0.2500\n",
      "Epoch 00012: val_loss did not improve from 2.82574\n",
      "107/107 [==============================] - 0s 4ms/sample - loss: 3.0965 - accuracy: 0.2430 - val_loss: 2.9250 - val_accuracy: 0.3704\n",
      "Epoch 13/100\n",
      " 96/107 [=========================>....] - ETA: 0s - loss: 3.0632 - accuracy: 0.2812\n",
      "Epoch 00013: val_loss did not improve from 2.82574\n",
      "107/107 [==============================] - 0s 4ms/sample - loss: 3.0522 - accuracy: 0.2804 - val_loss: 2.8338 - val_accuracy: 0.3704\n",
      "Epoch 14/100\n",
      " 96/107 [=========================>....] - ETA: 0s - loss: 3.0764 - accuracy: 0.2188\n",
      "Epoch 00014: val_loss improved from 2.82574 to 2.77766, saving model to model.h5\n",
      "107/107 [==============================] - 0s 4ms/sample - loss: 3.0467 - accuracy: 0.2336 - val_loss: 2.7777 - val_accuracy: 0.3704\n",
      "Epoch 15/100\n",
      " 96/107 [=========================>....] - ETA: 0s - loss: 2.9423 - accuracy: 0.2500\n",
      "Epoch 00015: val_loss improved from 2.77766 to 2.75887, saving model to model.h5\n",
      "107/107 [==============================] - 0s 4ms/sample - loss: 2.9296 - accuracy: 0.2617 - val_loss: 2.7589 - val_accuracy: 0.3704\n",
      "Epoch 16/100\n",
      " 96/107 [=========================>....] - ETA: 0s - loss: 2.9934 - accuracy: 0.2396\n",
      "Epoch 00016: val_loss improved from 2.75887 to 2.72683, saving model to model.h5\n",
      "107/107 [==============================] - 0s 4ms/sample - loss: 2.9411 - accuracy: 0.2617 - val_loss: 2.7268 - val_accuracy: 0.3704\n",
      "Epoch 17/100\n",
      " 96/107 [=========================>....] - ETA: 0s - loss: 3.0096 - accuracy: 0.2500\n",
      "Epoch 00017: val_loss improved from 2.72683 to 2.70070, saving model to model.h5\n",
      "107/107 [==============================] - 0s 4ms/sample - loss: 2.9924 - accuracy: 0.2430 - val_loss: 2.7007 - val_accuracy: 0.3704\n",
      "Epoch 18/100\n",
      " 96/107 [=========================>....] - ETA: 0s - loss: 3.0143 - accuracy: 0.2396\n",
      "Epoch 00018: val_loss did not improve from 2.70070\n",
      "107/107 [==============================] - 0s 4ms/sample - loss: 2.9493 - accuracy: 0.2710 - val_loss: 2.7179 - val_accuracy: 0.3704\n",
      "Epoch 19/100\n",
      " 96/107 [=========================>....] - ETA: 0s - loss: 2.8640 - accuracy: 0.2812\n",
      "Epoch 00019: val_loss improved from 2.70070 to 2.59801, saving model to model.h5\n",
      "107/107 [==============================] - 0s 4ms/sample - loss: 2.8310 - accuracy: 0.2897 - val_loss: 2.5980 - val_accuracy: 0.3704\n",
      "Epoch 20/100\n",
      " 96/107 [=========================>....] - ETA: 0s - loss: 2.8280 - accuracy: 0.2812\n",
      "Epoch 00020: val_loss improved from 2.59801 to 2.56697, saving model to model.h5\n",
      "107/107 [==============================] - 1s 5ms/sample - loss: 2.8643 - accuracy: 0.2710 - val_loss: 2.5670 - val_accuracy: 0.3704\n",
      "Epoch 21/100\n",
      " 96/107 [=========================>....] - ETA: 0s - loss: 2.7518 - accuracy: 0.3021\n",
      "Epoch 00021: val_loss did not improve from 2.56697\n",
      "107/107 [==============================] - 0s 4ms/sample - loss: 2.7763 - accuracy: 0.2897 - val_loss: 2.6529 - val_accuracy: 0.3704\n",
      "Epoch 22/100\n",
      " 96/107 [=========================>....] - ETA: 0s - loss: 2.7773 - accuracy: 0.3125\n",
      "Epoch 00022: val_loss improved from 2.56697 to 2.52566, saving model to model.h5\n",
      "107/107 [==============================] - 0s 5ms/sample - loss: 2.7684 - accuracy: 0.3271 - val_loss: 2.5257 - val_accuracy: 0.3704\n",
      "Epoch 23/100\n",
      " 96/107 [=========================>....] - ETA: 0s - loss: 2.6567 - accuracy: 0.2917\n",
      "Epoch 00023: val_loss improved from 2.52566 to 2.50658, saving model to model.h5\n",
      "107/107 [==============================] - 1s 6ms/sample - loss: 2.7319 - accuracy: 0.2897 - val_loss: 2.5066 - val_accuracy: 0.4444\n",
      "Epoch 24/100\n",
      " 96/107 [=========================>....] - ETA: 0s - loss: 2.6382 - accuracy: 0.3125\n",
      "Epoch 00024: val_loss did not improve from 2.50658\n",
      "107/107 [==============================] - 0s 5ms/sample - loss: 2.6392 - accuracy: 0.3178 - val_loss: 2.5846 - val_accuracy: 0.4444\n",
      "Epoch 25/100\n",
      " 96/107 [=========================>....] - ETA: 0s - loss: 2.7084 - accuracy: 0.2917\n",
      "Epoch 00025: val_loss improved from 2.50658 to 2.43809, saving model to model.h5\n",
      "107/107 [==============================] - 0s 5ms/sample - loss: 2.6229 - accuracy: 0.3271 - val_loss: 2.4381 - val_accuracy: 0.4444\n",
      "Epoch 26/100\n",
      " 96/107 [=========================>....] - ETA: 0s - loss: 2.6855 - accuracy: 0.3125\n",
      "Epoch 00026: val_loss did not improve from 2.43809\n",
      "107/107 [==============================] - 0s 5ms/sample - loss: 2.6973 - accuracy: 0.3084 - val_loss: 2.5059 - val_accuracy: 0.3333\n",
      "Epoch 27/100\n",
      " 96/107 [=========================>....] - ETA: 0s - loss: 2.5788 - accuracy: 0.2917\n",
      "Epoch 00027: val_loss did not improve from 2.43809\n",
      "107/107 [==============================] - 0s 4ms/sample - loss: 2.5274 - accuracy: 0.3084 - val_loss: 2.5838 - val_accuracy: 0.3704\n",
      "Epoch 28/100\n",
      " 96/107 [=========================>....] - ETA: 0s - loss: 2.5685 - accuracy: 0.3021\n",
      "Epoch 00028: val_loss did not improve from 2.43809\n",
      "107/107 [==============================] - 0s 5ms/sample - loss: 2.5674 - accuracy: 0.3084 - val_loss: 2.4925 - val_accuracy: 0.3333\n",
      "Epoch 29/100\n",
      " 96/107 [=========================>....] - ETA: 0s - loss: 2.5107 - accuracy: 0.3229\n",
      "Epoch 00029: val_loss did not improve from 2.43809\n",
      "107/107 [==============================] - 0s 4ms/sample - loss: 2.5010 - accuracy: 0.3271 - val_loss: 2.5211 - val_accuracy: 0.4074\n",
      "Epoch 30/100\n",
      " 96/107 [=========================>....] - ETA: 0s - loss: 2.3495 - accuracy: 0.3542\n",
      "Epoch 00030: val_loss improved from 2.43809 to 2.40218, saving model to model.h5\n",
      "107/107 [==============================] - 0s 5ms/sample - loss: 2.4213 - accuracy: 0.3364 - val_loss: 2.4022 - val_accuracy: 0.4074\n",
      "Epoch 31/100\n",
      " 96/107 [=========================>....] - ETA: 0s - loss: 2.4640 - accuracy: 0.3438\n",
      "Epoch 00031: val_loss did not improve from 2.40218\n",
      "107/107 [==============================] - 0s 4ms/sample - loss: 2.5024 - accuracy: 0.3458 - val_loss: 2.4936 - val_accuracy: 0.3333\n",
      "Epoch 32/100\n",
      " 96/107 [=========================>....] - ETA: 0s - loss: 2.4608 - accuracy: 0.3125\n",
      "Epoch 00032: val_loss did not improve from 2.40218\n",
      "107/107 [==============================] - 0s 4ms/sample - loss: 2.4813 - accuracy: 0.2991 - val_loss: 2.4394 - val_accuracy: 0.3333\n",
      "Epoch 33/100\n",
      " 96/107 [=========================>....] - ETA: 0s - loss: 2.4588 - accuracy: 0.3333\n",
      "Epoch 00033: val_loss improved from 2.40218 to 2.33130, saving model to model.h5\n",
      "107/107 [==============================] - 1s 5ms/sample - loss: 2.4403 - accuracy: 0.3364 - val_loss: 2.3313 - val_accuracy: 0.3704\n",
      "Epoch 34/100\n",
      " 96/107 [=========================>....] - ETA: 0s - loss: 2.5287 - accuracy: 0.2812\n",
      "Epoch 00034: val_loss did not improve from 2.33130\n",
      "107/107 [==============================] - 1s 5ms/sample - loss: 2.4298 - accuracy: 0.3178 - val_loss: 2.3464 - val_accuracy: 0.4444\n",
      "Epoch 35/100\n",
      " 96/107 [=========================>....] - ETA: 0s - loss: 2.4027 - accuracy: 0.3229\n",
      "Epoch 00035: val_loss improved from 2.33130 to 2.33084, saving model to model.h5\n",
      "107/107 [==============================] - 1s 5ms/sample - loss: 2.3554 - accuracy: 0.3364 - val_loss: 2.3308 - val_accuracy: 0.4074\n",
      "Epoch 36/100\n",
      " 96/107 [=========================>....] - ETA: 0s - loss: 2.4239 - accuracy: 0.3125\n",
      "Epoch 00036: val_loss did not improve from 2.33084\n",
      "107/107 [==============================] - 0s 4ms/sample - loss: 2.3827 - accuracy: 0.3271 - val_loss: 2.3677 - val_accuracy: 0.3333\n",
      "Epoch 37/100\n",
      " 96/107 [=========================>....] - ETA: 0s - loss: 2.4128 - accuracy: 0.3229\n",
      "Epoch 00037: val_loss did not improve from 2.33084\n",
      "107/107 [==============================] - 0s 4ms/sample - loss: 2.3953 - accuracy: 0.3271 - val_loss: 2.4101 - val_accuracy: 0.3704\n",
      "Epoch 38/100\n",
      " 96/107 [=========================>....] - ETA: 0s - loss: 2.3336 - accuracy: 0.3750\n",
      "Epoch 00038: val_loss did not improve from 2.33084\n",
      "107/107 [==============================] - 1s 5ms/sample - loss: 2.3462 - accuracy: 0.3832 - val_loss: 2.3623 - val_accuracy: 0.3704\n",
      "Epoch 39/100\n",
      " 96/107 [=========================>....] - ETA: 0s - loss: 2.3614 - accuracy: 0.3438\n",
      "Epoch 00039: val_loss did not improve from 2.33084\n",
      "107/107 [==============================] - 0s 4ms/sample - loss: 2.3791 - accuracy: 0.3458 - val_loss: 2.4193 - val_accuracy: 0.3333\n",
      "Epoch 40/100\n",
      " 96/107 [=========================>....] - ETA: 0s - loss: 2.3605 - accuracy: 0.3646\n",
      "Epoch 00040: val_loss did not improve from 2.33084\n",
      "107/107 [==============================] - 0s 4ms/sample - loss: 2.3572 - accuracy: 0.3551 - val_loss: 2.3407 - val_accuracy: 0.3704\n",
      "Epoch 41/100\n",
      " 96/107 [=========================>....] - ETA: 0s - loss: 2.2669 - accuracy: 0.3542\n",
      "Epoch 00041: val_loss did not improve from 2.33084\n",
      "107/107 [==============================] - 0s 4ms/sample - loss: 2.2999 - accuracy: 0.3458 - val_loss: 2.4553 - val_accuracy: 0.2963\n",
      "Epoch 42/100\n",
      " 96/107 [=========================>....] - ETA: 0s - loss: 2.3020 - accuracy: 0.3750\n",
      "Epoch 00042: val_loss did not improve from 2.33084\n",
      "107/107 [==============================] - 0s 4ms/sample - loss: 2.3096 - accuracy: 0.3738 - val_loss: 2.3871 - val_accuracy: 0.2963\n",
      "Epoch 43/100\n",
      " 96/107 [=========================>....] - ETA: 0s - loss: 2.3012 - accuracy: 0.3125\n",
      "Epoch 00043: val_loss did not improve from 2.33084\n",
      "107/107 [==============================] - 0s 5ms/sample - loss: 2.2099 - accuracy: 0.3364 - val_loss: 2.3920 - val_accuracy: 0.3704\n",
      "Epoch 44/100\n",
      " 96/107 [=========================>....] - ETA: 0s - loss: 2.3025 - accuracy: 0.3333\n",
      "Epoch 00044: val_loss did not improve from 2.33084\n",
      "107/107 [==============================] - 0s 5ms/sample - loss: 2.3525 - accuracy: 0.3178 - val_loss: 2.5540 - val_accuracy: 0.3333\n",
      "Epoch 45/100\n",
      " 96/107 [=========================>....] - ETA: 0s - loss: 2.3968 - accuracy: 0.3542\n",
      "Epoch 00045: val_loss did not improve from 2.33084\n",
      "107/107 [==============================] - 0s 5ms/sample - loss: 2.4263 - accuracy: 0.3458 - val_loss: 2.5252 - val_accuracy: 0.3333\n",
      "Epoch 46/100\n",
      " 96/107 [=========================>....] - ETA: 0s - loss: 2.2426 - accuracy: 0.3854\n",
      "Epoch 00046: val_loss improved from 2.33084 to 2.28690, saving model to model.h5\n",
      "107/107 [==============================] - 1s 5ms/sample - loss: 2.2474 - accuracy: 0.3832 - val_loss: 2.2869 - val_accuracy: 0.4444\n",
      "Epoch 47/100\n",
      " 96/107 [=========================>....] - ETA: 0s - loss: 2.2404 - accuracy: 0.3333\n",
      "Epoch 00047: val_loss did not improve from 2.28690\n",
      "107/107 [==============================] - 1s 5ms/sample - loss: 2.2332 - accuracy: 0.3364 - val_loss: 2.3568 - val_accuracy: 0.3333\n",
      "Epoch 48/100\n",
      " 96/107 [=========================>....] - ETA: 0s - loss: 2.1667 - accuracy: 0.3542\n",
      "Epoch 00048: val_loss did not improve from 2.28690\n",
      "107/107 [==============================] - 0s 5ms/sample - loss: 2.1694 - accuracy: 0.3551 - val_loss: 2.4817 - val_accuracy: 0.3333\n",
      "Epoch 49/100\n",
      " 96/107 [=========================>....] - ETA: 0s - loss: 2.2258 - accuracy: 0.3854\n",
      "Epoch 00049: val_loss did not improve from 2.28690\n",
      "107/107 [==============================] - 0s 5ms/sample - loss: 2.2193 - accuracy: 0.3832 - val_loss: 2.3673 - val_accuracy: 0.4074\n",
      "Epoch 50/100\n",
      " 96/107 [=========================>....] - ETA: 0s - loss: 2.0840 - accuracy: 0.4167\n",
      "Epoch 00050: val_loss did not improve from 2.28690\n",
      "107/107 [==============================] - 0s 5ms/sample - loss: 2.0369 - accuracy: 0.4299 - val_loss: 2.4418 - val_accuracy: 0.3333\n",
      "Epoch 51/100\n",
      " 96/107 [=========================>....] - ETA: 0s - loss: 2.0493 - accuracy: 0.4062\n",
      "Epoch 00051: val_loss did not improve from 2.28690\n",
      "107/107 [==============================] - 0s 5ms/sample - loss: 2.0533 - accuracy: 0.4112 - val_loss: 2.3674 - val_accuracy: 0.3704\n",
      "Epoch 52/100\n",
      " 96/107 [=========================>....] - ETA: 0s - loss: 2.0640 - accuracy: 0.3958\n",
      "Epoch 00052: val_loss did not improve from 2.28690\n",
      "107/107 [==============================] - 0s 5ms/sample - loss: 2.0661 - accuracy: 0.3832 - val_loss: 2.4803 - val_accuracy: 0.2963\n",
      "Epoch 53/100\n",
      " 96/107 [=========================>....] - ETA: 0s - loss: 2.1478 - accuracy: 0.3438\n",
      "Epoch 00053: val_loss did not improve from 2.28690\n",
      "107/107 [==============================] - 1s 5ms/sample - loss: 2.0371 - accuracy: 0.3832 - val_loss: 2.3806 - val_accuracy: 0.3704\n",
      "Epoch 54/100\n",
      " 96/107 [=========================>....] - ETA: 0s - loss: 2.0356 - accuracy: 0.3958\n",
      "Epoch 00054: val_loss did not improve from 2.28690\n",
      "107/107 [==============================] - 0s 5ms/sample - loss: 2.0295 - accuracy: 0.4019 - val_loss: 2.4826 - val_accuracy: 0.3704\n",
      "Epoch 55/100\n",
      " 96/107 [=========================>....] - ETA: 0s - loss: 2.1203 - accuracy: 0.3542\n",
      "Epoch 00055: val_loss did not improve from 2.28690\n",
      "107/107 [==============================] - 0s 5ms/sample - loss: 2.1488 - accuracy: 0.3364 - val_loss: 2.3016 - val_accuracy: 0.4074\n",
      "Epoch 56/100\n",
      " 96/107 [=========================>....] - ETA: 0s - loss: 2.1757 - accuracy: 0.4167\n",
      "Epoch 00056: val_loss did not improve from 2.28690\n",
      "107/107 [==============================] - 0s 5ms/sample - loss: 2.1588 - accuracy: 0.4112 - val_loss: 2.4809 - val_accuracy: 0.4074\n",
      "Epoch 57/100\n",
      " 96/107 [=========================>....] - ETA: 0s - loss: 2.0274 - accuracy: 0.4375\n",
      "Epoch 00057: val_loss improved from 2.28690 to 2.24905, saving model to model.h5\n",
      "107/107 [==============================] - 1s 5ms/sample - loss: 1.9918 - accuracy: 0.4393 - val_loss: 2.2490 - val_accuracy: 0.4074\n",
      "Epoch 58/100\n",
      " 96/107 [=========================>....] - ETA: 0s - loss: 2.0018 - accuracy: 0.4479\n",
      "Epoch 00058: val_loss did not improve from 2.24905\n",
      "107/107 [==============================] - 1s 7ms/sample - loss: 2.0061 - accuracy: 0.4486 - val_loss: 2.5614 - val_accuracy: 0.3333\n",
      "Epoch 59/100\n",
      " 96/107 [=========================>....] - ETA: 0s - loss: 1.9829 - accuracy: 0.4062\n",
      "Epoch 00059: val_loss did not improve from 2.24905\n",
      "107/107 [==============================] - 1s 6ms/sample - loss: 2.0030 - accuracy: 0.4019 - val_loss: 2.3917 - val_accuracy: 0.3704\n",
      "Epoch 60/100\n",
      " 96/107 [=========================>....] - ETA: 0s - loss: 1.8857 - accuracy: 0.4167\n",
      "Epoch 00060: val_loss did not improve from 2.24905\n",
      "107/107 [==============================] - 1s 6ms/sample - loss: 1.9841 - accuracy: 0.3925 - val_loss: 2.3528 - val_accuracy: 0.4074\n",
      "Epoch 61/100\n",
      " 96/107 [=========================>....] - ETA: 0s - loss: 1.9548 - accuracy: 0.3958\n",
      "Epoch 00061: val_loss did not improve from 2.24905\n",
      "107/107 [==============================] - 1s 5ms/sample - loss: 1.9671 - accuracy: 0.4019 - val_loss: 2.3522 - val_accuracy: 0.3704\n",
      "Epoch 62/100\n",
      " 96/107 [=========================>....] - ETA: 0s - loss: 2.0341 - accuracy: 0.4062\n",
      "Epoch 00062: val_loss did not improve from 2.24905\n",
      "107/107 [==============================] - 1s 5ms/sample - loss: 1.9762 - accuracy: 0.4206 - val_loss: 2.3758 - val_accuracy: 0.3704\n",
      "Epoch 63/100\n",
      " 96/107 [=========================>....] - ETA: 0s - loss: 1.9880 - accuracy: 0.3854\n",
      "Epoch 00063: val_loss did not improve from 2.24905\n",
      "107/107 [==============================] - 1s 5ms/sample - loss: 1.9544 - accuracy: 0.4019 - val_loss: 2.3316 - val_accuracy: 0.4074\n",
      "Epoch 64/100\n",
      " 96/107 [=========================>....] - ETA: 0s - loss: 1.8620 - accuracy: 0.4583\n",
      "Epoch 00064: val_loss did not improve from 2.24905\n",
      "107/107 [==============================] - 1s 5ms/sample - loss: 1.9050 - accuracy: 0.4486 - val_loss: 2.4814 - val_accuracy: 0.3704\n",
      "Epoch 65/100\n",
      " 96/107 [=========================>....] - ETA: 0s - loss: 1.8674 - accuracy: 0.4479\n",
      "Epoch 00065: val_loss did not improve from 2.24905\n",
      "107/107 [==============================] - 1s 5ms/sample - loss: 1.9007 - accuracy: 0.4486 - val_loss: 2.3821 - val_accuracy: 0.3704\n",
      "Epoch 66/100\n",
      " 96/107 [=========================>....] - ETA: 0s - loss: 1.8674 - accuracy: 0.4479\n",
      "Epoch 00066: val_loss did not improve from 2.24905\n",
      "107/107 [==============================] - 1s 5ms/sample - loss: 1.8568 - accuracy: 0.4486 - val_loss: 2.2804 - val_accuracy: 0.4444\n",
      "Epoch 67/100\n",
      " 96/107 [=========================>....] - ETA: 0s - loss: 1.8924 - accuracy: 0.4583\n",
      "Epoch 00067: val_loss did not improve from 2.24905\n",
      "107/107 [==============================] - 1s 5ms/sample - loss: 1.8997 - accuracy: 0.4673 - val_loss: 2.7332 - val_accuracy: 0.2963\n",
      "Epoch 68/100\n",
      " 96/107 [=========================>....] - ETA: 0s - loss: 1.9733 - accuracy: 0.4062\n",
      "Epoch 00068: val_loss did not improve from 2.24905\n",
      "107/107 [==============================] - 1s 5ms/sample - loss: 1.9988 - accuracy: 0.4019 - val_loss: 2.2666 - val_accuracy: 0.4444\n",
      "Epoch 69/100\n",
      " 96/107 [=========================>....] - ETA: 0s - loss: 1.8517 - accuracy: 0.4062\n",
      "Epoch 00069: val_loss did not improve from 2.24905\n",
      "107/107 [==============================] - 1s 5ms/sample - loss: 1.8661 - accuracy: 0.4112 - val_loss: 2.5143 - val_accuracy: 0.2963\n",
      "Epoch 70/100\n",
      " 96/107 [=========================>....] - ETA: 0s - loss: 1.8502 - accuracy: 0.4062\n",
      "Epoch 00070: val_loss did not improve from 2.24905\n",
      "107/107 [==============================] - 1s 5ms/sample - loss: 1.8480 - accuracy: 0.4112 - val_loss: 2.3870 - val_accuracy: 0.4074\n",
      "Epoch 71/100\n",
      " 96/107 [=========================>....] - ETA: 0s - loss: 1.7548 - accuracy: 0.4375\n",
      "Epoch 00071: val_loss did not improve from 2.24905\n",
      "107/107 [==============================] - 1s 5ms/sample - loss: 1.8475 - accuracy: 0.4019 - val_loss: 2.5235 - val_accuracy: 0.3333\n",
      "Epoch 72/100\n",
      " 96/107 [=========================>....] - ETA: 0s - loss: 1.8453 - accuracy: 0.5208\n",
      "Epoch 00072: val_loss did not improve from 2.24905\n",
      "107/107 [==============================] - 1s 5ms/sample - loss: 1.8289 - accuracy: 0.5327 - val_loss: 2.3911 - val_accuracy: 0.3333\n",
      "Epoch 73/100\n",
      " 96/107 [=========================>....] - ETA: 0s - loss: 1.8065 - accuracy: 0.4271\n",
      "Epoch 00073: val_loss did not improve from 2.24905\n",
      "107/107 [==============================] - 1s 5ms/sample - loss: 1.8180 - accuracy: 0.4206 - val_loss: 2.3254 - val_accuracy: 0.4074\n",
      "Epoch 74/100\n",
      " 96/107 [=========================>....] - ETA: 0s - loss: 1.8715 - accuracy: 0.4583\n",
      "Epoch 00074: val_loss did not improve from 2.24905\n",
      "107/107 [==============================] - 1s 5ms/sample - loss: 1.8908 - accuracy: 0.4486 - val_loss: 2.3979 - val_accuracy: 0.4444\n",
      "Epoch 75/100\n",
      " 96/107 [=========================>....] - ETA: 0s - loss: 1.7282 - accuracy: 0.4896\n",
      "Epoch 00075: val_loss did not improve from 2.24905\n",
      "107/107 [==============================] - 1s 5ms/sample - loss: 1.7176 - accuracy: 0.4953 - val_loss: 2.4171 - val_accuracy: 0.4444\n",
      "Epoch 76/100\n",
      " 96/107 [=========================>....] - ETA: 0s - loss: 1.7429 - accuracy: 0.4375\n",
      "Epoch 00076: val_loss did not improve from 2.24905\n",
      "107/107 [==============================] - 1s 5ms/sample - loss: 1.7777 - accuracy: 0.4299 - val_loss: 2.7085 - val_accuracy: 0.4074\n",
      "Epoch 77/100\n",
      " 96/107 [=========================>....] - ETA: 0s - loss: 1.8287 - accuracy: 0.4375\n",
      "Epoch 00077: val_loss did not improve from 2.24905\n",
      "107/107 [==============================] - 1s 5ms/sample - loss: 1.8287 - accuracy: 0.4393 - val_loss: 2.3523 - val_accuracy: 0.3333\n",
      "Epoch 78/100\n",
      " 96/107 [=========================>....] - ETA: 0s - loss: 1.7269 - accuracy: 0.4896\n",
      "Epoch 00078: val_loss did not improve from 2.24905\n",
      "107/107 [==============================] - 1s 5ms/sample - loss: 1.7981 - accuracy: 0.4579 - val_loss: 2.2507 - val_accuracy: 0.3704\n",
      "Epoch 79/100\n",
      " 96/107 [=========================>....] - ETA: 0s - loss: 1.7591 - accuracy: 0.4062\n",
      "Epoch 00079: val_loss did not improve from 2.24905\n",
      "107/107 [==============================] - 1s 5ms/sample - loss: 1.7294 - accuracy: 0.4112 - val_loss: 2.4414 - val_accuracy: 0.2963\n",
      "Epoch 80/100\n",
      " 96/107 [=========================>....] - ETA: 0s - loss: 1.8085 - accuracy: 0.4375\n",
      "Epoch 00080: val_loss did not improve from 2.24905\n",
      "107/107 [==============================] - 1s 5ms/sample - loss: 1.7354 - accuracy: 0.4486 - val_loss: 2.5409 - val_accuracy: 0.3704\n",
      "Epoch 81/100\n",
      " 96/107 [=========================>....] - ETA: 0s - loss: 1.7257 - accuracy: 0.4479\n",
      "Epoch 00081: val_loss did not improve from 2.24905\n",
      "107/107 [==============================] - 1s 5ms/sample - loss: 1.7739 - accuracy: 0.4393 - val_loss: 2.5245 - val_accuracy: 0.3704\n",
      "Epoch 82/100\n",
      " 96/107 [=========================>....] - ETA: 0s - loss: 1.5265 - accuracy: 0.5208\n",
      "Epoch 00082: val_loss did not improve from 2.24905\n",
      "107/107 [==============================] - 1s 5ms/sample - loss: 1.5220 - accuracy: 0.5327 - val_loss: 2.4536 - val_accuracy: 0.4074\n",
      "Epoch 83/100\n",
      " 96/107 [=========================>....] - ETA: 0s - loss: 1.6611 - accuracy: 0.5208\n",
      "Epoch 00083: val_loss did not improve from 2.24905\n",
      "107/107 [==============================] - 1s 5ms/sample - loss: 1.6438 - accuracy: 0.5234 - val_loss: 2.4492 - val_accuracy: 0.3704\n",
      "Epoch 84/100\n",
      " 96/107 [=========================>....] - ETA: 0s - loss: 1.5991 - accuracy: 0.4792\n",
      "Epoch 00084: val_loss did not improve from 2.24905\n",
      "107/107 [==============================] - 1s 5ms/sample - loss: 1.5371 - accuracy: 0.5047 - val_loss: 2.6592 - val_accuracy: 0.3704\n",
      "Epoch 85/100\n",
      " 96/107 [=========================>....] - ETA: 0s - loss: 1.5281 - accuracy: 0.5104\n",
      "Epoch 00085: val_loss did not improve from 2.24905\n",
      "107/107 [==============================] - 1s 5ms/sample - loss: 1.5424 - accuracy: 0.5047 - val_loss: 2.5203 - val_accuracy: 0.3333\n",
      "Epoch 86/100\n",
      " 96/107 [=========================>....] - ETA: 0s - loss: 1.7815 - accuracy: 0.4583\n",
      "Epoch 00086: val_loss did not improve from 2.24905\n",
      "107/107 [==============================] - 1s 5ms/sample - loss: 1.6715 - accuracy: 0.4860 - val_loss: 2.4776 - val_accuracy: 0.3333\n",
      "Epoch 87/100\n",
      " 96/107 [=========================>....] - ETA: 0s - loss: 1.6051 - accuracy: 0.4792\n",
      "Epoch 00087: val_loss did not improve from 2.24905\n",
      "107/107 [==============================] - 1s 5ms/sample - loss: 1.6013 - accuracy: 0.4766 - val_loss: 2.3058 - val_accuracy: 0.4074\n",
      "Epoch 88/100\n",
      " 96/107 [=========================>....] - ETA: 0s - loss: 1.5626 - accuracy: 0.5521\n",
      "Epoch 00088: val_loss did not improve from 2.24905\n",
      "107/107 [==============================] - 1s 5ms/sample - loss: 1.5747 - accuracy: 0.5421 - val_loss: 2.4470 - val_accuracy: 0.3333\n",
      "Epoch 89/100\n",
      " 96/107 [=========================>....] - ETA: 0s - loss: 1.5165 - accuracy: 0.4688\n",
      "Epoch 00089: val_loss did not improve from 2.24905\n",
      "107/107 [==============================] - 1s 5ms/sample - loss: 1.4985 - accuracy: 0.4766 - val_loss: 2.7225 - val_accuracy: 0.3333\n",
      "Epoch 90/100\n",
      " 96/107 [=========================>....] - ETA: 0s - loss: 1.3924 - accuracy: 0.5417\n",
      "Epoch 00090: val_loss did not improve from 2.24905\n",
      "107/107 [==============================] - 1s 5ms/sample - loss: 1.5288 - accuracy: 0.5140 - val_loss: 2.5732 - val_accuracy: 0.3704\n",
      "Epoch 91/100\n",
      " 96/107 [=========================>....] - ETA: 0s - loss: 1.4509 - accuracy: 0.5625\n",
      "Epoch 00091: val_loss did not improve from 2.24905\n",
      "107/107 [==============================] - 1s 5ms/sample - loss: 1.4427 - accuracy: 0.5607 - val_loss: 2.4517 - val_accuracy: 0.3704\n",
      "Epoch 92/100\n",
      " 96/107 [=========================>....] - ETA: 0s - loss: 1.3828 - accuracy: 0.5833\n",
      "Epoch 00092: val_loss did not improve from 2.24905\n",
      "107/107 [==============================] - 1s 5ms/sample - loss: 1.3721 - accuracy: 0.5794 - val_loss: 2.7174 - val_accuracy: 0.2963\n",
      "Epoch 93/100\n",
      " 96/107 [=========================>....] - ETA: 0s - loss: 1.5600 - accuracy: 0.5417\n",
      "Epoch 00093: val_loss did not improve from 2.24905\n",
      "107/107 [==============================] - 1s 5ms/sample - loss: 1.5683 - accuracy: 0.5421 - val_loss: 2.4737 - val_accuracy: 0.3333\n",
      "Epoch 94/100\n",
      " 96/107 [=========================>....] - ETA: 0s - loss: 1.5186 - accuracy: 0.5000\n",
      "Epoch 00094: val_loss did not improve from 2.24905\n",
      "107/107 [==============================] - 1s 5ms/sample - loss: 1.4712 - accuracy: 0.5234 - val_loss: 2.4844 - val_accuracy: 0.3704\n",
      "Epoch 95/100\n",
      " 96/107 [=========================>....] - ETA: 0s - loss: 1.5499 - accuracy: 0.4792\n",
      "Epoch 00095: val_loss did not improve from 2.24905\n",
      "107/107 [==============================] - 1s 5ms/sample - loss: 1.4774 - accuracy: 0.5047 - val_loss: 2.7217 - val_accuracy: 0.2593\n",
      "Epoch 96/100\n",
      " 96/107 [=========================>....] - ETA: 0s - loss: 1.4654 - accuracy: 0.5312\n",
      "Epoch 00096: val_loss did not improve from 2.24905\n",
      "107/107 [==============================] - 1s 5ms/sample - loss: 1.4675 - accuracy: 0.5327 - val_loss: 2.7724 - val_accuracy: 0.3333\n",
      "Epoch 97/100\n",
      " 96/107 [=========================>....] - ETA: 0s - loss: 1.4385 - accuracy: 0.5521\n",
      "Epoch 00097: val_loss did not improve from 2.24905\n",
      "107/107 [==============================] - 1s 6ms/sample - loss: 1.3977 - accuracy: 0.5514 - val_loss: 2.6803 - val_accuracy: 0.3704\n",
      "Epoch 98/100\n",
      " 96/107 [=========================>....] - ETA: 0s - loss: 1.3406 - accuracy: 0.6250\n",
      "Epoch 00098: val_loss did not improve from 2.24905\n",
      "107/107 [==============================] - 1s 6ms/sample - loss: 1.4263 - accuracy: 0.5888 - val_loss: 3.0768 - val_accuracy: 0.2222\n",
      "Epoch 99/100\n",
      " 96/107 [=========================>....] - ETA: 0s - loss: 1.3181 - accuracy: 0.6146\n",
      "Epoch 00099: val_loss did not improve from 2.24905\n",
      "107/107 [==============================] - 1s 5ms/sample - loss: 1.3174 - accuracy: 0.6075 - val_loss: 2.7065 - val_accuracy: 0.2593\n",
      "Epoch 100/100\n",
      " 96/107 [=========================>....] - ETA: 0s - loss: 1.4652 - accuracy: 0.5625\n",
      "Epoch 00100: val_loss did not improve from 2.24905\n",
      "107/107 [==============================] - 1s 5ms/sample - loss: 1.4177 - accuracy: 0.5701 - val_loss: 2.6843 - val_accuracy: 0.3333\n"
     ]
    }
   ],
   "source": [
    "filename = 'model.h5'\n",
    "checkpoint = ModelCheckpoint(filename, monitor='val_loss', verbose=1, save_best_only=True, mode='min')\n",
    "\n",
    "hist = model.fit(train_X, train_Y, epochs = 100, batch_size = 32, validation_data = (val_X, val_Y), callbacks = [checkpoint])"
   ]
  },
  {
   "cell_type": "markdown",
   "metadata": {},
   "source": [
    "## Load Model\n",
    "Loads the best model found from training above, model.tf"
   ]
  },
  {
   "cell_type": "code",
   "execution_count": 33,
   "metadata": {},
   "outputs": [],
   "source": [
    "model = load_model(\"model.h5\")"
   ]
  },
  {
   "cell_type": "markdown",
   "metadata": {},
   "source": [
    "### Get predicted probability for a given text"
   ]
  },
  {
   "cell_type": "code",
   "execution_count": 34,
   "metadata": {},
   "outputs": [],
   "source": [
    "\n",
    "def predictions(text):\n",
    "  clean = re.sub(r'[^ a-z A-Z 0-9]', \" \", text)\n",
    "  test_word = word_tokenize(clean)\n",
    "  test_word = [w.lower() for w in test_word]\n",
    "  test_ls = word_tokenizer.texts_to_sequences(test_word)\n",
    "  print(test_word)\n",
    "  #Check for unknown words\n",
    "  if [] in test_ls:\n",
    "    test_ls = list(filter(None, test_ls))\n",
    "    \n",
    "  test_ls = np.array(test_ls).reshape(1, len(test_ls))\n",
    " \n",
    "  x = padding_doc(test_ls, max_length)\n",
    "  \n",
    "  pred = model.predict_proba(x)\n",
    "  \n",
    "  \n",
    "  return pred"
   ]
  },
  {
   "cell_type": "markdown",
   "metadata": {},
   "source": [
    "### Get final output for the prediction and the classes of intents"
   ]
  },
  {
   "cell_type": "code",
   "execution_count": 35,
   "metadata": {},
   "outputs": [],
   "source": [
    "\n",
    "def get_final_output(pred, classes):\n",
    "  predictions = pred[0]\n",
    " \n",
    "  classes = np.array(classes)\n",
    "  ids = np.argsort(-predictions)\n",
    "  classes = classes[ids]\n",
    "  predictions = -np.sort(-predictions)\n",
    " \n",
    "  for i in range(pred.shape[1]):\n",
    "    print(\"%s has confidence = %s\" % (classes[i], (predictions[i])))"
   ]
  },
  {
   "cell_type": "markdown",
   "metadata": {},
   "source": [
    "### Use the model =]"
   ]
  },
  {
   "cell_type": "code",
   "execution_count": 36,
   "metadata": {},
   "outputs": [
    {
     "name": "stdout",
     "output_type": "stream",
     "text": [
      "['where', 'is', 'the', 'bathroom']\n",
      "location.room has confidence = 0.9996063\n",
      "student.degree has confidence = 0.00015015986\n",
      "important_date.break has confidence = 0.00014791139\n",
      "cs_department.candy has confidence = 6.617663e-05\n",
      "cs_department.department_head has confidence = 2.1902215e-05\n",
      "student.tutor has confidence = 3.064558e-06\n",
      "student.actions has confidence = 1.1676095e-06\n",
      "important_date.semester_start has confidence = 8.4472487e-07\n",
      "cs_department.time has confidence = 6.812841e-07\n",
      "professor.actions has confidence = 3.6305713e-07\n",
      "important_date.finals has confidence = 3.018916e-07\n",
      "professor.contact has confidence = 2.7457568e-07\n",
      "employee.pay has confidence = 1.8582833e-07\n",
      "location.lost_and_found has confidence = 1.3947381e-07\n",
      "important_date.semester_end has confidence = 1.3061843e-07\n",
      "class.actions has confidence = 1.18704975e-07\n",
      "important_date.graduation has confidence = 1.086158e-07\n",
      "important_date.class_actions has confidence = 2.843027e-08\n",
      "class.assistant has confidence = 2.5561594e-08\n",
      "class.time has confidence = 2.2826592e-08\n",
      "class.schedule has confidence = 1.1804145e-08\n",
      "professor.general_information has confidence = 7.411162e-09\n",
      "cs_department.employee has confidence = 5.4177702e-09\n",
      "professor.office_hours has confidence = 4.6564264e-09\n",
      "cs_department.advisor has confidence = 2.0658157e-09\n",
      "important_date.registration has confidence = 1.9790851e-09\n",
      "important_date.add_class has confidence = 1.4371303e-09\n",
      "class.professor has confidence = 1.161103e-09\n",
      "undetermined has confidence = 9.849381e-10\n",
      "professor.help.meetings has confidence = 8.681527e-10\n",
      "cs_department.lost_and_found has confidence = 1.6335168e-11\n",
      "important_date.drop_class has confidence = 1.2575258e-11\n"
     ]
    }
   ],
   "source": [
    "\n",
    "text = \"Where is the bathroom?\"\n",
    "pred = predictions(text)\n",
    "get_final_output(pred, unique_intent)"
   ]
  },
  {
   "cell_type": "code",
   "execution_count": 37,
   "metadata": {},
   "outputs": [
    {
     "name": "stdout",
     "output_type": "stream",
     "text": [
      "['how', 'do', 'i', 'apply', 'for', 'this', 'position']\n",
      "location.room has confidence = 0.22405767\n",
      "student.degree has confidence = 0.17415778\n",
      "important_date.break has confidence = 0.15930165\n",
      "cs_department.candy has confidence = 0.06802481\n",
      "cs_department.department_head has confidence = 0.064941704\n",
      "professor.actions has confidence = 0.042349346\n",
      "student.tutor has confidence = 0.035329804\n",
      "class.actions has confidence = 0.03477942\n",
      "cs_department.time has confidence = 0.025120987\n",
      "important_date.finals has confidence = 0.014790873\n",
      "employee.pay has confidence = 0.014046697\n",
      "important_date.graduation has confidence = 0.012799045\n",
      "professor.general_information has confidence = 0.012777041\n",
      "professor.contact has confidence = 0.012455371\n",
      "location.lost_and_found has confidence = 0.011779281\n",
      "student.actions has confidence = 0.011028904\n",
      "important_date.add_class has confidence = 0.0087904595\n",
      "important_date.semester_start has confidence = 0.007919656\n",
      "class.time has confidence = 0.007057428\n",
      "class.schedule has confidence = 0.007052757\n",
      "professor.office_hours has confidence = 0.006917688\n",
      "class.professor has confidence = 0.006505961\n",
      "cs_department.employee has confidence = 0.0065054013\n",
      "important_date.semester_end has confidence = 0.005919671\n",
      "cs_department.advisor has confidence = 0.005903577\n",
      "important_date.class_actions has confidence = 0.0055135684\n",
      "important_date.registration has confidence = 0.0039081117\n",
      "class.assistant has confidence = 0.00366991\n",
      "undetermined has confidence = 0.0028024986\n",
      "professor.help.meetings has confidence = 0.0025151365\n",
      "cs_department.lost_and_found has confidence = 0.00070281595\n",
      "important_date.drop_class has confidence = 0.0005749773\n"
     ]
    }
   ],
   "source": [
    "# Missing a category for this\n",
    "text = \"How do I apply for this position?\"\n",
    "pred = predictions(text)\n",
    "get_final_output(pred, unique_intent)"
   ]
  },
  {
   "cell_type": "code",
   "execution_count": 39,
   "metadata": {},
   "outputs": [
    {
     "name": "stdout",
     "output_type": "stream",
     "text": [
      "['when', 'does', 'class', 'start']\n",
      "important_date.semester_start has confidence = 0.21085246\n",
      "important_date.semester_end has confidence = 0.19307576\n",
      "cs_department.time has confidence = 0.07706747\n",
      "class.time has confidence = 0.07469574\n",
      "important_date.break has confidence = 0.06873134\n",
      "employee.pay has confidence = 0.048331194\n",
      "important_date.registration has confidence = 0.044060472\n",
      "cs_department.department_head has confidence = 0.029015362\n",
      "important_date.graduation has confidence = 0.0268216\n",
      "cs_department.candy has confidence = 0.020679187\n",
      "important_date.add_class has confidence = 0.020010762\n",
      "important_date.finals has confidence = 0.017509388\n",
      "student.actions has confidence = 0.016473062\n",
      "cs_department.advisor has confidence = 0.014108512\n",
      "location.lost_and_found has confidence = 0.013121838\n",
      "important_date.class_actions has confidence = 0.012605652\n",
      "professor.actions has confidence = 0.011815542\n",
      "professor.contact has confidence = 0.011517313\n",
      "class.schedule has confidence = 0.011372663\n",
      "location.room has confidence = 0.011261165\n",
      "class.assistant has confidence = 0.0078500025\n",
      "class.actions has confidence = 0.0074733356\n",
      "cs_department.employee has confidence = 0.0074363523\n",
      "professor.help.meetings has confidence = 0.0073024724\n",
      "professor.general_information has confidence = 0.0069468804\n",
      "student.tutor has confidence = 0.0057701375\n",
      "student.degree has confidence = 0.0054213568\n",
      "professor.office_hours has confidence = 0.00475514\n",
      "cs_department.lost_and_found has confidence = 0.004430705\n",
      "important_date.drop_class has confidence = 0.0037177277\n",
      "class.professor has confidence = 0.0031971403\n",
      "undetermined has confidence = 0.0025721416\n"
     ]
    }
   ],
   "source": [
    "\n",
    "text = \"When does class start\"\n",
    "pred = predictions(text)\n",
    "get_final_output(pred, unique_intent)"
   ]
  },
  {
   "cell_type": "code",
   "execution_count": 42,
   "metadata": {},
   "outputs": [
    {
     "name": "stdout",
     "output_type": "stream",
     "text": [
      "['what', 'day', 'is', 'the', 'first', 'day', 'of', 'class']\n",
      "important_date.semester_start has confidence = 0.47262448\n",
      "important_date.semester_end has confidence = 0.23996478\n",
      "class.time has confidence = 0.0572898\n",
      "cs_department.time has confidence = 0.041748505\n",
      "important_date.break has confidence = 0.040201973\n",
      "employee.pay has confidence = 0.022894034\n",
      "important_date.registration has confidence = 0.021745028\n",
      "important_date.graduation has confidence = 0.0155054405\n",
      "cs_department.department_head has confidence = 0.011088861\n",
      "location.room has confidence = 0.009305677\n",
      "cs_department.candy has confidence = 0.008228852\n",
      "student.actions has confidence = 0.0068848077\n",
      "important_date.finals has confidence = 0.006128978\n",
      "location.lost_and_found has confidence = 0.0049523483\n",
      "important_date.add_class has confidence = 0.004923139\n",
      "professor.contact has confidence = 0.004215413\n",
      "cs_department.advisor has confidence = 0.0037628065\n",
      "class.assistant has confidence = 0.0037062506\n",
      "class.schedule has confidence = 0.0034810677\n",
      "important_date.class_actions has confidence = 0.0032695537\n",
      "professor.actions has confidence = 0.003237948\n",
      "class.actions has confidence = 0.002486462\n",
      "professor.general_information has confidence = 0.0021427139\n",
      "student.degree has confidence = 0.0016145619\n",
      "cs_department.employee has confidence = 0.0014960936\n",
      "professor.help.meetings has confidence = 0.0014179857\n",
      "student.tutor has confidence = 0.0013276119\n",
      "cs_department.lost_and_found has confidence = 0.0012471682\n",
      "professor.office_hours has confidence = 0.0010005645\n",
      "important_date.drop_class has confidence = 0.0009528706\n",
      "undetermined has confidence = 0.0007216679\n",
      "class.professor has confidence = 0.00043260076\n"
     ]
    }
   ],
   "source": [
    "\n",
    "text = \"What day is the first day of class\"\n",
    "pred = predictions(text)\n",
    "get_final_output(pred, unique_intent)"
   ]
  },
  {
   "cell_type": "code",
   "execution_count": 43,
   "metadata": {},
   "outputs": [
    {
     "name": "stdout",
     "output_type": "stream",
     "text": [
      "['what', 'days', 'off', 'do', 'we', 'have']\n",
      "important_date.break has confidence = 0.10852956\n",
      "cs_department.department_head has confidence = 0.06220601\n",
      "cs_department.candy has confidence = 0.06135723\n",
      "cs_department.time has confidence = 0.05287456\n",
      "important_date.semester_end has confidence = 0.048279174\n",
      "employee.pay has confidence = 0.046318375\n",
      "important_date.semester_start has confidence = 0.045832865\n",
      "professor.actions has confidence = 0.04221223\n",
      "student.degree has confidence = 0.041241072\n",
      "class.time has confidence = 0.03780835\n",
      "location.room has confidence = 0.0361469\n",
      "important_date.graduation has confidence = 0.03488124\n",
      "class.actions has confidence = 0.034471262\n",
      "important_date.finals has confidence = 0.033373248\n",
      "student.actions has confidence = 0.028275525\n",
      "professor.contact has confidence = 0.026553785\n",
      "student.tutor has confidence = 0.025194345\n",
      "location.lost_and_found has confidence = 0.024997849\n",
      "important_date.add_class has confidence = 0.023661029\n",
      "important_date.registration has confidence = 0.023290664\n",
      "class.schedule has confidence = 0.021289002\n",
      "cs_department.advisor has confidence = 0.020537253\n",
      "professor.general_information has confidence = 0.020040948\n",
      "important_date.class_actions has confidence = 0.015504652\n",
      "professor.help.meetings has confidence = 0.014732622\n",
      "cs_department.employee has confidence = 0.014711653\n",
      "professor.office_hours has confidence = 0.014639045\n",
      "class.professor has confidence = 0.013438333\n",
      "class.assistant has confidence = 0.010302552\n",
      "undetermined has confidence = 0.006983738\n",
      "cs_department.lost_and_found has confidence = 0.0055061732\n",
      "important_date.drop_class has confidence = 0.004808775\n"
     ]
    }
   ],
   "source": [
    "\n",
    "text = \"What days off do we have?\"\n",
    "pred = predictions(text)\n",
    "get_final_output(pred, unique_intent)"
   ]
  },
  {
   "cell_type": "code",
   "execution_count": null,
   "metadata": {},
   "outputs": [],
   "source": []
  }
 ],
 "metadata": {
  "kernelspec": {
   "display_name": "Python 3",
   "language": "python",
   "name": "python3"
  },
  "language_info": {
   "codemirror_mode": {
    "name": "ipython",
    "version": 3
   },
   "file_extension": ".py",
   "mimetype": "text/x-python",
   "name": "python",
   "nbconvert_exporter": "python",
   "pygments_lexer": "ipython3",
   "version": "3.7.4"
  }
 },
 "nbformat": 4,
 "nbformat_minor": 4
}
