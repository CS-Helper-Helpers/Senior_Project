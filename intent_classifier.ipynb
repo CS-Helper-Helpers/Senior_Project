{
 "cells": [
  {
   "cell_type": "code",
   "execution_count": 32,
   "metadata": {},
   "outputs": [],
   "source": [
    "# https://towardsdatascience.com/a-brief-introduction-to-intent-classification-96fda6b1f557\n",
    "# Classifies into 21 intents\n",
    "\n",
    "\n",
    "import numpy as np\n",
    "import pandas as pd\n",
    "from nltk.corpus import stopwords\n",
    "from nltk.tokenize import word_tokenize\n",
    "from nltk.stem.lancaster import LancasterStemmer\n",
    "import nltk\n",
    "import re\n",
    "from sklearn.preprocessing import OneHotEncoder\n",
    "import matplotlib.pyplot as plt\n",
    "from tensorflow.keras.preprocessing.text import Tokenizer\n",
    "from tensorflow.keras.preprocessing.sequence import pad_sequences\n",
    "from tensorflow.keras.utils import to_categorical\n",
    "from tensorflow.keras.models import Sequential, load_model\n",
    "from tensorflow.keras.layers import Dense, LSTM, Bidirectional, Embedding, Dropout\n",
    "from tensorflow.keras.callbacks import ModelCheckpoint"
   ]
  },
  {
   "cell_type": "markdown",
   "metadata": {},
   "source": [
    "# Load Dataset"
   ]
  },
  {
   "cell_type": "code",
   "execution_count": 33,
   "metadata": {},
   "outputs": [],
   "source": [
    "def load_dataset(filename):\n",
    "  df = pd.read_csv(filename, encoding = \"latin1\", names = [\"Sentence\", \"Intent\"])\n",
    "\n",
    "  df.Intent=df.Intent.astype(str)\n",
    "  df.Sentence=df.Sentence.astype(str)\n",
    "\n",
    "  #df = df.apply(lambda col: le.fit_transform(col.astype(str)), axis=0, result_type='expand')\n",
    "\n",
    "  print(df.head())\n",
    "  intent = df[\"Intent\"]\n",
    "  unique_intent = list(set(intent))\n",
    "  sentences = list(df[\"Sentence\"])\n",
    "  \n",
    "  return (intent, unique_intent, sentences)"
   ]
  },
  {
   "cell_type": "code",
   "execution_count": 100,
   "metadata": {},
   "outputs": [
    {
     "name": "stdout",
     "output_type": "stream",
     "text": [
      "                                Sentence              Intent\n",
      "0                 When do classes start?  faq.important_date\n",
      "1          When does the semester start?  faq.important_date\n",
      "2      What day does the semester start?  faq.important_date\n",
      "3     Which day does the semester start?  faq.important_date\n",
      "4  What date does the semester start on?  faq.important_date\n"
     ]
    }
   ],
   "source": [
    "intent, unique_intent, sentences = load_dataset(\"questions_categories.csv\")"
   ]
  },
  {
   "cell_type": "code",
   "execution_count": 101,
   "metadata": {},
   "outputs": [
    {
     "name": "stdout",
     "output_type": "stream",
     "text": [
      "Intents: \n",
      "0      faq.important_date\n",
      "1      faq.important_date\n",
      "2      faq.important_date\n",
      "3      faq.important_date\n",
      "4      faq.important_date\n",
      "              ...        \n",
      "114          faq.employee\n",
      "115          faq.employee\n",
      "116           faq.student\n",
      "117           faq.student\n",
      "118         faq.professor\n",
      "Name: Intent, Length: 119, dtype: object\n",
      "Unique Intents: \n",
      "['faq.professor', 'faq.department', 'class.professor', 'faq.employee', 'department.time', 'faq.important_date', 'faq.class', 'faq.student', 'class.location', 'class.time']\n",
      "Sentences: \n",
      "['When do classes start?', 'When does the semester start?', 'What day does the semester start?', 'Which day does the semester start?', 'What date does the semester start on?', 'When does school start?', 'What day does school start?', 'What is the first day of class?', 'What day do classes start?', 'What day do classes end?', 'When do classes end?', 'When does the semester end?', 'When is the last day of classes?', 'What day does the semester end on?', 'When is spring break?', 'When is finals week?', 'When are finals?', 'What day do finals start?', 'When is the first day of finals week?', 'When is Thanksgiving break?', 'When is Fall break?', 'When is the upcoming holiday?', 'When does registration open?', 'When can I register for classes?', 'When is the last day to register for a class?', 'When is the last day to add a class?', 'With/without permission', 'When is the last day to drop a class?', 'When is graduation?', 'What day is graduation?', 'How many holidays/days off are there?', 'Do we have any breaks this semester?', 'Which days off do we have?', 'Where is X?', 'Follow-up questions to figure out what theyâ\\x80\\x99re really asking', 'What room is class X in?', 'Location and time', 'Where is my classroom located?', 'Where is X located?', 'Where is my office located?', 'How do I get to X building?', 'Where is X building?', 'Where is professor Xâ\\x80\\x99s office?', 'Where is Dr. Xâ\\x80\\x99s office?', 'Where is room X? ', 'Where is room X located?', 'How do I get to office X?', 'How do I get to X floor?', 'Where is the Psychology department?', 'Where is the Sociology department?', 'Where can I find the elevator?', 'Where is the elevator?', 'Where can I find the restroom?', 'Men/Women', 'Where is the restroom?', 'Where is the Xâ\\x80\\x99s restroom?', 'Where is the lost and found?', 'Where is the YWIC office?', 'Where is my professor teaching?', 'Where is the tutoring center for X?', 'Where is the tutoring center?', 'Where is the X tutoring center?', 'What are professor Xâ\\x80\\x99s office hours?', 'What is professor Xâ\\x80\\x99s email?', 'Does X have any TAâ\\x80\\x99s?', 'Is X involved with any research?', 'What type of research does X do?', 'I want to drop a class but I donâ\\x80\\x99t know how', 'How do I drop a class?', 'I want to audit a class but I donâ\\x80\\x99t know how', 'How do I audit a class?', 'I want to change my class to be an SU/Audit', 'When does class X start?', 'When does X start?', 'What time does my professorâ\\x80\\x99s class end?', 'What time does the office close?', 'When does the office close?', 'What are the office hours?', 'How late is the department open until?', 'When does the department close?', 'Do you have a lost and found?', 'Is there a lost and found?', 'Can I speak with an advisor?', 'Can I speak with X?', 'Can I speak to Dr. Tran?', 'Is Dr. Tran available?', 'Could I talk to the department head?', 'Can I speak with the department head?', 'Who is in charge?', 'When are Dr. Tranâ\\x80\\x99s office hours?', 'Can you reserve a room for me?', 'Can I reserve a room?', 'Can I reserve room X?', 'Can you reserve room X for me?', 'Can I reserve X?', 'What do I do for a substitution?', 'What do I do for a class substitution?', 'Can I get a change of schedule form?', 'How do I apply to the graduate program?', 'What classes are offered next semester?', 'Where can I receive assistance for coding?', 'Where can I get help for coding?', 'Where can I find my degree plan?', 'Where can I get my degree plan?', 'Where do I find my degree plan?', 'Where do I get my degree plan?', 'How do I apply for my degree?', 'Is the candy free?', 'Can I have some candy?', 'Can I take some candy?', 'Where is the candy?', 'Who do I go to talk to about the amount of money on my paycheck being decreased?', 'When will I receive my paycheck?', 'When will I get my paycheck?', 'Where do I go to receive my paycheck?', 'Where do I go to get my paycheck?', 'Can you process an override for a change of major?', 'Can a department head override a request for a change of schedule?', 'What do I do if I canâ\\x80\\x99t attend the meeting?']\n"
     ]
    }
   ],
   "source": [
    "print(\"Intents: \")\n",
    "print(intent)\n",
    "print(\"Unique Intents: \")\n",
    "print(unique_intent)\n",
    "print(\"Sentences: \")\n",
    "print(sentences)\n"
   ]
  },
  {
   "cell_type": "markdown",
   "metadata": {},
   "source": [
    "# Get stopwords and punkt"
   ]
  },
  {
   "cell_type": "code",
   "execution_count": 102,
   "metadata": {},
   "outputs": [
    {
     "name": "stderr",
     "output_type": "stream",
     "text": [
      "[nltk_data] Downloading package stopwords to\n",
      "[nltk_data]     /Users/kathrine.swe/nltk_data...\n",
      "[nltk_data]   Package stopwords is already up-to-date!\n",
      "[nltk_data] Downloading package punkt to\n",
      "[nltk_data]     /Users/kathrine.swe/nltk_data...\n",
      "[nltk_data]   Package punkt is already up-to-date!\n"
     ]
    },
    {
     "data": {
      "text/plain": [
       "True"
      ]
     },
     "execution_count": 102,
     "metadata": {},
     "output_type": "execute_result"
    }
   ],
   "source": [
    "nltk.download(\"stopwords\")\n",
    "nltk.download(\"punkt\")"
   ]
  },
  {
   "cell_type": "markdown",
   "metadata": {},
   "source": [
    "# Define stemmer"
   ]
  },
  {
   "cell_type": "code",
   "execution_count": 103,
   "metadata": {},
   "outputs": [],
   "source": [
    "stemmer = LancasterStemmer()"
   ]
  },
  {
   "cell_type": "markdown",
   "metadata": {},
   "source": [
    "# Data cleaning"
   ]
  },
  {
   "cell_type": "code",
   "execution_count": 104,
   "metadata": {},
   "outputs": [],
   "source": [
    "def cleaning(sentences):\n",
    "    words = []\n",
    "    for s in sentences:\n",
    "        clean = re.sub(r'[^ a-z A-Z 0-9]', \" \", s)\n",
    "        w = word_tokenize(clean)\n",
    "        # lemmatizing\n",
    "        words.append([i.lower() for i in w])\n",
    "    return words"
   ]
  },
  {
   "cell_type": "code",
   "execution_count": 105,
   "metadata": {},
   "outputs": [
    {
     "name": "stdout",
     "output_type": "stream",
     "text": [
      "119\n",
      "[['when', 'do', 'classes', 'start'], ['when', 'does', 'the', 'semester', 'start']]\n"
     ]
    }
   ],
   "source": [
    "cleaned_words = cleaning(sentences)\n",
    "print(len(cleaned_words))\n",
    "print(cleaned_words[:2])"
   ]
  },
  {
   "cell_type": "markdown",
   "metadata": {},
   "source": [
    "# Input encoding"
   ]
  },
  {
   "cell_type": "code",
   "execution_count": 106,
   "metadata": {},
   "outputs": [],
   "source": [
    "def create_tokenizer( words, filters='!\"#$%&()*+,-./:;<=>?@[\\]^_`{|}~'):\n",
    "    \"\"\"Create tokenizer\n",
    "    \"\"\"\n",
    "    token = Tokenizer(filters=filters)\n",
    "    token.fit_on_texts(words)\n",
    "    return token\n",
    "\n",
    "def get_max_length(words):\n",
    "    \"\"\"Gets max length of a word\n",
    "    \"\"\"\n",
    "    return(len(max(words, key=len)))\n"
   ]
  },
  {
   "cell_type": "code",
   "execution_count": 107,
   "metadata": {},
   "outputs": [
    {
     "name": "stdout",
     "output_type": "stream",
     "text": [
      "Vocab size =  158  and Maximum length =  17\n"
     ]
    }
   ],
   "source": [
    "word_tokenizer = create_tokenizer(cleaned_words)\n",
    "vocab_size = len(word_tokenizer.word_index) + 1\n",
    "max_length = get_max_length(cleaned_words)\n",
    "\n",
    "print(\"Vocab size = \", vocab_size, \" and Maximum length = \", max_length)"
   ]
  },
  {
   "cell_type": "markdown",
   "metadata": {},
   "source": [
    "# Output Encoding"
   ]
  },
  {
   "cell_type": "code",
   "execution_count": 108,
   "metadata": {},
   "outputs": [],
   "source": [
    "def encoding_doc(token, words):\n",
    "    return(token.texts_to_sequences(words))"
   ]
  },
  {
   "cell_type": "code",
   "execution_count": 109,
   "metadata": {},
   "outputs": [],
   "source": [
    "encoded_doc = encoding_doc(word_tokenizer, cleaned_words)"
   ]
  },
  {
   "cell_type": "code",
   "execution_count": 110,
   "metadata": {},
   "outputs": [],
   "source": [
    "def padding_doc(encoded_doc, max_length):\n",
    "    return(pad_sequences(encoded_doc, maxlen=max_length, padding=\"post\"))"
   ]
  },
  {
   "cell_type": "code",
   "execution_count": 111,
   "metadata": {},
   "outputs": [
    {
     "data": {
      "text/plain": [
       "array([[ 6,  5, 24, 17,  0,  0,  0,  0,  0,  0,  0,  0,  0,  0,  0,  0,\n",
       "         0],\n",
       "       [ 6, 12,  3, 21, 17,  0,  0,  0,  0,  0,  0,  0,  0,  0,  0,  0,\n",
       "         0],\n",
       "       [ 9, 14, 12,  3, 21, 17,  0,  0,  0,  0,  0,  0,  0,  0,  0,  0,\n",
       "         0],\n",
       "       [66, 14, 12,  3, 21, 17,  0,  0,  0,  0,  0,  0,  0,  0,  0,  0,\n",
       "         0],\n",
       "       [ 9, 94, 12,  3, 21, 17, 46,  0,  0,  0,  0,  0,  0,  0,  0,  0,\n",
       "         0]], dtype=int32)"
      ]
     },
     "execution_count": 111,
     "metadata": {},
     "output_type": "execute_result"
    }
   ],
   "source": [
    "padded_doc = padding_doc(encoded_doc, max_length)\n",
    "padded_doc[:5]"
   ]
  },
  {
   "cell_type": "code",
   "execution_count": 112,
   "metadata": {},
   "outputs": [
    {
     "name": "stdout",
     "output_type": "stream",
     "text": [
      "Shape of padded docs =  (119, 17)\n"
     ]
    }
   ],
   "source": [
    "print(\"Shape of padded docs = \", padded_doc.shape)"
   ]
  },
  {
   "cell_type": "markdown",
   "metadata": {},
   "source": [
    "### Tokenizer"
   ]
  },
  {
   "cell_type": "code",
   "execution_count": 113,
   "metadata": {},
   "outputs": [],
   "source": [
    "# tokenizer with filter changed\n",
    "output_tokenizer = create_tokenizer(unique_intent, filters='!\"#$%&()*+,-/:;<=>?@[\\]^`{|}~')"
   ]
  },
  {
   "cell_type": "code",
   "execution_count": 114,
   "metadata": {},
   "outputs": [
    {
     "data": {
      "text/plain": [
       "{'faq.professor': 1,\n",
       " 'faq.department': 2,\n",
       " 'class.professor': 3,\n",
       " 'faq.employee': 4,\n",
       " 'department.time': 5,\n",
       " 'faq.important_date': 6,\n",
       " 'faq.class': 7,\n",
       " 'faq.student': 8,\n",
       " 'class.location': 9,\n",
       " 'class.time': 10}"
      ]
     },
     "execution_count": 114,
     "metadata": {},
     "output_type": "execute_result"
    }
   ],
   "source": [
    "output_tokenizer.word_index"
   ]
  },
  {
   "cell_type": "markdown",
   "metadata": {},
   "source": [
    "### Encode output given intent and tokenizer and reshape"
   ]
  },
  {
   "cell_type": "code",
   "execution_count": 115,
   "metadata": {},
   "outputs": [],
   "source": [
    "encoded_output = encoding_doc(output_tokenizer, intent)"
   ]
  },
  {
   "cell_type": "code",
   "execution_count": 117,
   "metadata": {},
   "outputs": [
    {
     "name": "stdout",
     "output_type": "stream",
     "text": [
      "[[6], [6], [6], [6], [6], [6], [6], [6], [6], [6], [6], [6], [6], [6], [6], [6], [6], [6], [6], [6], [6], [6], [6], [6], [6], [6], [6], [6], [6], [6], [6], [6], [6], [9], [9], [9], [9], [9], [9], [9], [9], [9], [9], [9], [9], [9], [9], [9], [9], [9], [9], [9], [9], [9], [9], [9], [9], [9], [9], [9], [9], [9], [3], [3], [3], [3], [3], [7], [7], [7], [7], [7], [10], [10], [10], [5], [5], [5], [5], [5], [2], [2], [2], [2], [2], [2], [2], [2], [2], [2], [1], [1], [1], [1], [1], [1], [1], [8], [8], [2], [8], [8], [8], [8], [8], [8], [8], [2], [2], [8], [8], [4], [4], [4], [4], [4], [8], [8], [1]]\n"
     ]
    }
   ],
   "source": [
    "print(encoded_output)"
   ]
  },
  {
   "cell_type": "code",
   "execution_count": 118,
   "metadata": {},
   "outputs": [],
   "source": [
    "encoded_output = np.array(encoded_output).reshape(len(encoded_output), 1)"
   ]
  },
  {
   "cell_type": "code",
   "execution_count": 119,
   "metadata": {},
   "outputs": [
    {
     "data": {
      "text/plain": [
       "(119, 1)"
      ]
     },
     "execution_count": 119,
     "metadata": {},
     "output_type": "execute_result"
    }
   ],
   "source": [
    "encoded_output.shape"
   ]
  },
  {
   "cell_type": "code",
   "execution_count": 120,
   "metadata": {},
   "outputs": [
    {
     "name": "stdout",
     "output_type": "stream",
     "text": [
      "[[ 6]\n",
      " [ 6]\n",
      " [ 6]\n",
      " [ 6]\n",
      " [ 6]\n",
      " [ 6]\n",
      " [ 6]\n",
      " [ 6]\n",
      " [ 6]\n",
      " [ 6]\n",
      " [ 6]\n",
      " [ 6]\n",
      " [ 6]\n",
      " [ 6]\n",
      " [ 6]\n",
      " [ 6]\n",
      " [ 6]\n",
      " [ 6]\n",
      " [ 6]\n",
      " [ 6]\n",
      " [ 6]\n",
      " [ 6]\n",
      " [ 6]\n",
      " [ 6]\n",
      " [ 6]\n",
      " [ 6]\n",
      " [ 6]\n",
      " [ 6]\n",
      " [ 6]\n",
      " [ 6]\n",
      " [ 6]\n",
      " [ 6]\n",
      " [ 6]\n",
      " [ 9]\n",
      " [ 9]\n",
      " [ 9]\n",
      " [ 9]\n",
      " [ 9]\n",
      " [ 9]\n",
      " [ 9]\n",
      " [ 9]\n",
      " [ 9]\n",
      " [ 9]\n",
      " [ 9]\n",
      " [ 9]\n",
      " [ 9]\n",
      " [ 9]\n",
      " [ 9]\n",
      " [ 9]\n",
      " [ 9]\n",
      " [ 9]\n",
      " [ 9]\n",
      " [ 9]\n",
      " [ 9]\n",
      " [ 9]\n",
      " [ 9]\n",
      " [ 9]\n",
      " [ 9]\n",
      " [ 9]\n",
      " [ 9]\n",
      " [ 9]\n",
      " [ 9]\n",
      " [ 3]\n",
      " [ 3]\n",
      " [ 3]\n",
      " [ 3]\n",
      " [ 3]\n",
      " [ 7]\n",
      " [ 7]\n",
      " [ 7]\n",
      " [ 7]\n",
      " [ 7]\n",
      " [10]\n",
      " [10]\n",
      " [10]\n",
      " [ 5]\n",
      " [ 5]\n",
      " [ 5]\n",
      " [ 5]\n",
      " [ 5]\n",
      " [ 2]\n",
      " [ 2]\n",
      " [ 2]\n",
      " [ 2]\n",
      " [ 2]\n",
      " [ 2]\n",
      " [ 2]\n",
      " [ 2]\n",
      " [ 2]\n",
      " [ 2]\n",
      " [ 1]\n",
      " [ 1]\n",
      " [ 1]\n",
      " [ 1]\n",
      " [ 1]\n",
      " [ 1]\n",
      " [ 1]\n",
      " [ 8]\n",
      " [ 8]\n",
      " [ 2]\n",
      " [ 8]\n",
      " [ 8]\n",
      " [ 8]\n",
      " [ 8]\n",
      " [ 8]\n",
      " [ 8]\n",
      " [ 8]\n",
      " [ 2]\n",
      " [ 2]\n",
      " [ 8]\n",
      " [ 8]\n",
      " [ 4]\n",
      " [ 4]\n",
      " [ 4]\n",
      " [ 4]\n",
      " [ 4]\n",
      " [ 8]\n",
      " [ 8]\n",
      " [ 1]]\n"
     ]
    }
   ],
   "source": [
    "print(encoded_output)"
   ]
  },
  {
   "cell_type": "markdown",
   "metadata": {},
   "source": [
    "### Create one hot encoding\n",
    "Example of one hot encoding:\n",
    "Consider a domain of [ a, e, i, o, u] and an intent of [ a, i, u ]\n",
    "The one hot encoding is [ 1, 0, 1, 0, 1] for the domain."
   ]
  },
  {
   "cell_type": "code",
   "execution_count": 121,
   "metadata": {},
   "outputs": [],
   "source": [
    "def one_hot(encode):\n",
    "    o = OneHotEncoder(sparse=False)\n",
    "    return(o.fit_transform(encode))"
   ]
  },
  {
   "cell_type": "code",
   "execution_count": 122,
   "metadata": {},
   "outputs": [
    {
     "name": "stderr",
     "output_type": "stream",
     "text": [
      "/Users/kathrine.swe/opt/anaconda3/lib/python3.7/site-packages/sklearn/preprocessing/_encoders.py:415: FutureWarning: The handling of integer data will change in version 0.22. Currently, the categories are determined based on the range [0, max(values)], while in the future they will be determined based on the unique values.\n",
      "If you want the future behaviour and silence this warning, you can specify \"categories='auto'\".\n",
      "In case you used a LabelEncoder before this OneHotEncoder to convert the categories to integers, then you can now use the OneHotEncoder directly.\n",
      "  warnings.warn(msg, FutureWarning)\n"
     ]
    }
   ],
   "source": [
    "output_one_hot = one_hot(encoded_output)"
   ]
  },
  {
   "cell_type": "code",
   "execution_count": 123,
   "metadata": {},
   "outputs": [
    {
     "data": {
      "text/plain": [
       "(119, 10)"
      ]
     },
     "execution_count": 123,
     "metadata": {},
     "output_type": "execute_result"
    }
   ],
   "source": [
    "output_one_hot.shape"
   ]
  },
  {
   "cell_type": "markdown",
   "metadata": {},
   "source": [
    "## Create Model"
   ]
  },
  {
   "cell_type": "code",
   "execution_count": 124,
   "metadata": {},
   "outputs": [],
   "source": [
    "from sklearn.model_selection import train_test_split"
   ]
  },
  {
   "cell_type": "code",
   "execution_count": 125,
   "metadata": {},
   "outputs": [],
   "source": [
    "\n",
    "train_X, val_X, train_Y, val_Y = train_test_split(padded_doc, output_one_hot, shuffle = True, test_size = 0.2)"
   ]
  },
  {
   "cell_type": "code",
   "execution_count": 126,
   "metadata": {},
   "outputs": [
    {
     "name": "stdout",
     "output_type": "stream",
     "text": [
      "Shape of train_X = (95, 17) and train_Y = (95, 10)\n",
      "Shape of val_X = (24, 17) and val_Y = (24, 10)\n"
     ]
    }
   ],
   "source": [
    "print(\"Shape of train_X = %s and train_Y = %s\" % (train_X.shape, train_Y.shape))\n",
    "print(\"Shape of val_X = %s and val_Y = %s\" % (val_X.shape, val_Y.shape))"
   ]
  },
  {
   "cell_type": "markdown",
   "metadata": {},
   "source": [
    "### Sequential Model\n",
    "[ conv ] -> [ batch norm ] -> [ relu ]\n",
    "\n",
    "A sequential model allows you to create models layer-by-layer in a step-by-step fashion\n",
    "\n",
    "We instantiate the sequential model first, then add each layer one at a time.\n",
    "Layers:\n",
    "    \n",
    "    Embedding:\n",
    "        Vocab size:\n",
    "        Input length:\n",
    "    Bidirectional:\n",
    "        LSTM:\n",
    "    Dense: Relu\n",
    "    Dropout: 0.5\n",
    "    Dense: Softmax"
   ]
  },
  {
   "cell_type": "code",
   "execution_count": 130,
   "metadata": {},
   "outputs": [],
   "source": [
    "def create_model(vocab_size, max_length):\n",
    "  model = Sequential()\n",
    "  model.add(Embedding(vocab_size, 128, input_length = max_length, trainable = False))\n",
    "  model.add(Bidirectional(LSTM(128)))\n",
    "#   model.add(LSTM(128))\n",
    "  model.add(Dense(32, activation = \"relu\"))\n",
    "  model.add(Dropout(0.5))\n",
    "  model.add(Dense(len(unique_intent), activation = \"softmax\"))\n",
    "  \n",
    "  return model"
   ]
  },
  {
   "cell_type": "code",
   "execution_count": 131,
   "metadata": {},
   "outputs": [
    {
     "name": "stdout",
     "output_type": "stream",
     "text": [
      "158 17\n",
      "10\n"
     ]
    }
   ],
   "source": [
    "print(vocab_size, max_length)\n",
    "print(len(unique_intent))"
   ]
  },
  {
   "cell_type": "markdown",
   "metadata": {},
   "source": [
    "### Compile and give summary of model\n",
    "#### Compile\n",
    "A loss function (or objective function, or optimization score function) is one of the two parameters required to compile a model. We use categorical cross entropy to train a CNN to output a probability over the C classes for each image. It is used for multi-class classification. It is also called softmax loss, a softmax activation plus a cross-entropy loss.\n",
    "\n",
    "Adam is an adaptive learning rate optimization algorithm designed to train deep neural nets. Adam computes individual learning rates for different parameters, using the first and second moments of gradient to adapt the learning rate for each weight of the neural network.\n",
    "\n"
   ]
  },
  {
   "cell_type": "code",
   "execution_count": 132,
   "metadata": {},
   "outputs": [
    {
     "name": "stdout",
     "output_type": "stream",
     "text": [
      "Model: \"sequential_5\"\n",
      "_________________________________________________________________\n",
      "Layer (type)                 Output Shape              Param #   \n",
      "=================================================================\n",
      "embedding_5 (Embedding)      (None, 17, 128)           20224     \n",
      "_________________________________________________________________\n",
      "bidirectional_5 (Bidirection (None, 256)               263168    \n",
      "_________________________________________________________________\n",
      "dense_10 (Dense)             (None, 32)                8224      \n",
      "_________________________________________________________________\n",
      "dropout_5 (Dropout)          (None, 32)                0         \n",
      "_________________________________________________________________\n",
      "dense_11 (Dense)             (None, 10)                330       \n",
      "=================================================================\n",
      "Total params: 291,946\n",
      "Trainable params: 271,722\n",
      "Non-trainable params: 20,224\n",
      "_________________________________________________________________\n"
     ]
    }
   ],
   "source": [
    "model = create_model(vocab_size, max_length)\n",
    "\n",
    "model.compile(loss = \"categorical_crossentropy\", optimizer = \"adam\", metrics = [\"accuracy\"])\n",
    "model.summary()"
   ]
  },
  {
   "cell_type": "markdown",
   "metadata": {},
   "source": [
    "## Train Model\n",
    "Uses checkpoint to save best model at each training"
   ]
  },
  {
   "cell_type": "code",
   "execution_count": 133,
   "metadata": {},
   "outputs": [
    {
     "name": "stdout",
     "output_type": "stream",
     "text": [
      "Train on 95 samples, validate on 24 samples\n",
      "Epoch 1/100\n",
      "64/95 [===================>..........] - ETA: 2s - loss: 2.3003 - accuracy: 0.0781 \n",
      "Epoch 00001: val_loss improved from inf to 2.27188, saving model to model.h5\n",
      "95/95 [==============================] - 7s 76ms/sample - loss: 2.2939 - accuracy: 0.1368 - val_loss: 2.2719 - val_accuracy: 0.3750\n",
      "Epoch 2/100\n",
      "64/95 [===================>..........] - ETA: 0s - loss: 2.2795 - accuracy: 0.2500\n",
      "Epoch 00002: val_loss improved from 2.27188 to 2.22835, saving model to model.h5\n",
      "95/95 [==============================] - 0s 4ms/sample - loss: 2.2667 - accuracy: 0.2526 - val_loss: 2.2283 - val_accuracy: 0.3750\n",
      "Epoch 3/100\n",
      "64/95 [===================>..........] - ETA: 0s - loss: 2.2445 - accuracy: 0.2500\n",
      "Epoch 00003: val_loss improved from 2.22835 to 2.15434, saving model to model.h5\n",
      "95/95 [==============================] - 0s 4ms/sample - loss: 2.2190 - accuracy: 0.2842 - val_loss: 2.1543 - val_accuracy: 0.3333\n",
      "Epoch 4/100\n",
      "64/95 [===================>..........] - ETA: 0s - loss: 2.1666 - accuracy: 0.2344\n",
      "Epoch 00004: val_loss improved from 2.15434 to 2.03957, saving model to model.h5\n",
      "95/95 [==============================] - 0s 4ms/sample - loss: 2.1582 - accuracy: 0.2421 - val_loss: 2.0396 - val_accuracy: 0.2083\n",
      "Epoch 5/100\n",
      "64/95 [===================>..........] - ETA: 0s - loss: 2.1910 - accuracy: 0.2500\n",
      "Epoch 00005: val_loss improved from 2.03957 to 1.96964, saving model to model.h5\n",
      "95/95 [==============================] - 0s 4ms/sample - loss: 2.1298 - accuracy: 0.2632 - val_loss: 1.9696 - val_accuracy: 0.2083\n",
      "Epoch 6/100\n",
      "64/95 [===================>..........] - ETA: 0s - loss: 2.0371 - accuracy: 0.2812\n",
      "Epoch 00006: val_loss improved from 1.96964 to 1.94586, saving model to model.h5\n",
      "95/95 [==============================] - 0s 4ms/sample - loss: 2.0649 - accuracy: 0.2842 - val_loss: 1.9459 - val_accuracy: 0.4167\n",
      "Epoch 7/100\n",
      "64/95 [===================>..........] - ETA: 0s - loss: 2.0567 - accuracy: 0.2500\n",
      "Epoch 00007: val_loss did not improve from 1.94586\n",
      "95/95 [==============================] - 0s 4ms/sample - loss: 2.0526 - accuracy: 0.2632 - val_loss: 1.9475 - val_accuracy: 0.5000\n",
      "Epoch 8/100\n",
      "64/95 [===================>..........] - ETA: 0s - loss: 2.1827 - accuracy: 0.2031\n",
      "Epoch 00008: val_loss did not improve from 1.94586\n",
      "95/95 [==============================] - 1s 6ms/sample - loss: 2.1659 - accuracy: 0.2000 - val_loss: 1.9833 - val_accuracy: 0.3333\n",
      "Epoch 9/100\n",
      "64/95 [===================>..........] - ETA: 0s - loss: 2.1498 - accuracy: 0.2344\n",
      "Epoch 00009: val_loss did not improve from 1.94586\n",
      "95/95 [==============================] - 1s 9ms/sample - loss: 2.0824 - accuracy: 0.2947 - val_loss: 2.0123 - val_accuracy: 0.2917\n",
      "Epoch 10/100\n",
      "64/95 [===================>..........] - ETA: 0s - loss: 2.0398 - accuracy: 0.2656\n",
      "Epoch 00010: val_loss did not improve from 1.94586\n",
      "95/95 [==============================] - 0s 4ms/sample - loss: 2.0950 - accuracy: 0.2316 - val_loss: 1.9863 - val_accuracy: 0.4167\n",
      "Epoch 11/100\n",
      "64/95 [===================>..........] - ETA: 0s - loss: 2.1092 - accuracy: 0.2500\n",
      "Epoch 00011: val_loss did not improve from 1.94586\n",
      "95/95 [==============================] - 1s 7ms/sample - loss: 2.1337 - accuracy: 0.2105 - val_loss: 1.9705 - val_accuracy: 0.4167\n",
      "Epoch 12/100\n",
      "64/95 [===================>..........] - ETA: 0s - loss: 2.0537 - accuracy: 0.3125\n",
      "Epoch 00012: val_loss did not improve from 1.94586\n",
      "95/95 [==============================] - 0s 4ms/sample - loss: 2.0754 - accuracy: 0.3053 - val_loss: 1.9527 - val_accuracy: 0.2500\n",
      "Epoch 13/100\n",
      "64/95 [===================>..........] - ETA: 0s - loss: 2.0266 - accuracy: 0.2812\n",
      "Epoch 00013: val_loss improved from 1.94586 to 1.93310, saving model to model.h5\n",
      "95/95 [==============================] - 0s 5ms/sample - loss: 2.0216 - accuracy: 0.2947 - val_loss: 1.9331 - val_accuracy: 0.2083\n",
      "Epoch 14/100\n",
      "64/95 [===================>..........] - ETA: 0s - loss: 2.0341 - accuracy: 0.2812\n",
      "Epoch 00014: val_loss improved from 1.93310 to 1.93048, saving model to model.h5\n",
      "95/95 [==============================] - 0s 4ms/sample - loss: 2.0154 - accuracy: 0.2842 - val_loss: 1.9305 - val_accuracy: 0.2083\n",
      "Epoch 15/100\n",
      "64/95 [===================>..........] - ETA: 0s - loss: 2.1188 - accuracy: 0.2656\n",
      "Epoch 00015: val_loss improved from 1.93048 to 1.92999, saving model to model.h5\n",
      "95/95 [==============================] - 0s 4ms/sample - loss: 2.0471 - accuracy: 0.2737 - val_loss: 1.9300 - val_accuracy: 0.2083\n",
      "Epoch 16/100\n",
      "64/95 [===================>..........] - ETA: 0s - loss: 1.9699 - accuracy: 0.2812\n",
      "Epoch 00016: val_loss improved from 1.92999 to 1.89130, saving model to model.h5\n",
      "95/95 [==============================] - 0s 5ms/sample - loss: 1.9369 - accuracy: 0.3263 - val_loss: 1.8913 - val_accuracy: 0.5000\n",
      "Epoch 17/100\n",
      "64/95 [===================>..........] - ETA: 0s - loss: 1.9785 - accuracy: 0.3281\n",
      "Epoch 00017: val_loss improved from 1.89130 to 1.83718, saving model to model.h5\n",
      "95/95 [==============================] - 0s 4ms/sample - loss: 2.0053 - accuracy: 0.3158 - val_loss: 1.8372 - val_accuracy: 0.4167\n",
      "Epoch 18/100\n",
      "64/95 [===================>..........] - ETA: 0s - loss: 1.9652 - accuracy: 0.3906\n",
      "Epoch 00018: val_loss improved from 1.83718 to 1.80452, saving model to model.h5\n",
      "95/95 [==============================] - 0s 4ms/sample - loss: 1.9047 - accuracy: 0.3789 - val_loss: 1.8045 - val_accuracy: 0.5000\n",
      "Epoch 19/100\n",
      "64/95 [===================>..........] - ETA: 0s - loss: 1.8022 - accuracy: 0.3281\n",
      "Epoch 00019: val_loss did not improve from 1.80452\n",
      "95/95 [==============================] - 0s 4ms/sample - loss: 1.9622 - accuracy: 0.3158 - val_loss: 1.8052 - val_accuracy: 0.3750\n",
      "Epoch 20/100\n",
      "64/95 [===================>..........] - ETA: 0s - loss: 2.0433 - accuracy: 0.2812\n",
      "Epoch 00020: val_loss did not improve from 1.80452\n",
      "95/95 [==============================] - 0s 4ms/sample - loss: 1.9379 - accuracy: 0.3368 - val_loss: 1.8548 - val_accuracy: 0.5417\n",
      "Epoch 21/100\n",
      "64/95 [===================>..........] - ETA: 0s - loss: 1.9076 - accuracy: 0.4375\n",
      "Epoch 00021: val_loss improved from 1.80452 to 1.74443, saving model to model.h5\n",
      "95/95 [==============================] - 0s 4ms/sample - loss: 1.9211 - accuracy: 0.3895 - val_loss: 1.7444 - val_accuracy: 0.5417\n",
      "Epoch 22/100\n",
      "64/95 [===================>..........] - ETA: 0s - loss: 1.8739 - accuracy: 0.3125\n",
      "Epoch 00022: val_loss improved from 1.74443 to 1.70718, saving model to model.h5\n",
      "95/95 [==============================] - 0s 5ms/sample - loss: 1.8644 - accuracy: 0.3368 - val_loss: 1.7072 - val_accuracy: 0.6250\n",
      "Epoch 23/100\n",
      "64/95 [===================>..........] - ETA: 0s - loss: 1.6008 - accuracy: 0.5156\n",
      "Epoch 00023: val_loss improved from 1.70718 to 1.66207, saving model to model.h5\n",
      "95/95 [==============================] - 0s 4ms/sample - loss: 1.7374 - accuracy: 0.4105 - val_loss: 1.6621 - val_accuracy: 0.6250\n",
      "Epoch 24/100\n",
      "64/95 [===================>..........] - ETA: 0s - loss: 1.8475 - accuracy: 0.3438\n",
      "Epoch 00024: val_loss did not improve from 1.66207\n",
      "95/95 [==============================] - 0s 4ms/sample - loss: 1.7719 - accuracy: 0.3895 - val_loss: 1.7457 - val_accuracy: 0.2917\n",
      "Epoch 25/100\n",
      "64/95 [===================>..........] - ETA: 0s - loss: 1.6636 - accuracy: 0.4531\n",
      "Epoch 00025: val_loss did not improve from 1.66207\n",
      "95/95 [==============================] - 0s 4ms/sample - loss: 1.7653 - accuracy: 0.4316 - val_loss: 1.6758 - val_accuracy: 0.5000\n",
      "Epoch 26/100\n",
      "64/95 [===================>..........] - ETA: 0s - loss: 1.6428 - accuracy: 0.4062\n",
      "Epoch 00026: val_loss improved from 1.66207 to 1.64045, saving model to model.h5\n",
      "95/95 [==============================] - 0s 4ms/sample - loss: 1.7423 - accuracy: 0.3895 - val_loss: 1.6405 - val_accuracy: 0.5833\n",
      "Epoch 27/100\n",
      "64/95 [===================>..........] - ETA: 0s - loss: 1.5106 - accuracy: 0.4844\n",
      "Epoch 00027: val_loss did not improve from 1.64045\n",
      "95/95 [==============================] - 0s 4ms/sample - loss: 1.6347 - accuracy: 0.4526 - val_loss: 1.8186 - val_accuracy: 0.3333\n",
      "Epoch 28/100\n",
      "64/95 [===================>..........] - ETA: 0s - loss: 1.6633 - accuracy: 0.4844\n",
      "Epoch 00028: val_loss improved from 1.64045 to 1.61635, saving model to model.h5\n",
      "95/95 [==============================] - 0s 4ms/sample - loss: 1.6188 - accuracy: 0.4737 - val_loss: 1.6164 - val_accuracy: 0.5000\n",
      "Epoch 29/100\n",
      "64/95 [===================>..........] - ETA: 0s - loss: 1.6146 - accuracy: 0.4062\n",
      "Epoch 00029: val_loss did not improve from 1.61635\n",
      "95/95 [==============================] - 0s 4ms/sample - loss: 1.5861 - accuracy: 0.4421 - val_loss: 1.6461 - val_accuracy: 0.5833\n",
      "Epoch 30/100\n",
      "64/95 [===================>..........] - ETA: 0s - loss: 1.6186 - accuracy: 0.4219\n",
      "Epoch 00030: val_loss did not improve from 1.61635\n",
      "95/95 [==============================] - 0s 4ms/sample - loss: 1.5553 - accuracy: 0.4632 - val_loss: 1.7809 - val_accuracy: 0.4167\n",
      "Epoch 31/100\n",
      "64/95 [===================>..........] - ETA: 0s - loss: 1.6878 - accuracy: 0.4688\n",
      "Epoch 00031: val_loss did not improve from 1.61635\n",
      "95/95 [==============================] - 0s 4ms/sample - loss: 1.6508 - accuracy: 0.4632 - val_loss: 1.6617 - val_accuracy: 0.5833\n",
      "Epoch 32/100\n",
      "64/95 [===================>..........] - ETA: 0s - loss: 1.5748 - accuracy: 0.4688\n",
      "Epoch 00032: val_loss improved from 1.61635 to 1.57292, saving model to model.h5\n",
      "95/95 [==============================] - 0s 5ms/sample - loss: 1.5472 - accuracy: 0.4526 - val_loss: 1.5729 - val_accuracy: 0.6250\n",
      "Epoch 33/100\n",
      "64/95 [===================>..........] - ETA: 0s - loss: 1.7094 - accuracy: 0.3906\n",
      "Epoch 00033: val_loss did not improve from 1.57292\n",
      "95/95 [==============================] - 0s 4ms/sample - loss: 1.6501 - accuracy: 0.4105 - val_loss: 1.6176 - val_accuracy: 0.5417\n",
      "Epoch 34/100\n",
      "64/95 [===================>..........] - ETA: 0s - loss: 1.5041 - accuracy: 0.4531\n",
      "Epoch 00034: val_loss did not improve from 1.57292\n",
      "95/95 [==============================] - 0s 4ms/sample - loss: 1.4785 - accuracy: 0.4632 - val_loss: 1.6815 - val_accuracy: 0.3750\n",
      "Epoch 35/100\n",
      "64/95 [===================>..........] - ETA: 0s - loss: 1.4738 - accuracy: 0.5000\n",
      "Epoch 00035: val_loss improved from 1.57292 to 1.53144, saving model to model.h5\n",
      "95/95 [==============================] - 0s 5ms/sample - loss: 1.4121 - accuracy: 0.4947 - val_loss: 1.5314 - val_accuracy: 0.6250\n",
      "Epoch 36/100\n",
      "64/95 [===================>..........] - ETA: 0s - loss: 1.5366 - accuracy: 0.5000\n",
      "Epoch 00036: val_loss improved from 1.53144 to 1.51477, saving model to model.h5\n",
      "95/95 [==============================] - 1s 6ms/sample - loss: 1.4087 - accuracy: 0.5474 - val_loss: 1.5148 - val_accuracy: 0.6667\n",
      "Epoch 37/100\n",
      "64/95 [===================>..........] - ETA: 0s - loss: 1.3654 - accuracy: 0.5938\n",
      "Epoch 00037: val_loss did not improve from 1.51477\n",
      "95/95 [==============================] - 0s 5ms/sample - loss: 1.3559 - accuracy: 0.5684 - val_loss: 1.5445 - val_accuracy: 0.6667\n",
      "Epoch 38/100\n",
      "64/95 [===================>..........] - ETA: 0s - loss: 1.1156 - accuracy: 0.6250\n",
      "Epoch 00038: val_loss did not improve from 1.51477\n",
      "95/95 [==============================] - 1s 6ms/sample - loss: 1.3279 - accuracy: 0.5158 - val_loss: 1.5245 - val_accuracy: 0.6667\n",
      "Epoch 39/100\n",
      "64/95 [===================>..........] - ETA: 0s - loss: 1.4159 - accuracy: 0.4531\n",
      "Epoch 00039: val_loss did not improve from 1.51477\n",
      "95/95 [==============================] - 0s 5ms/sample - loss: 1.3657 - accuracy: 0.4947 - val_loss: 1.5996 - val_accuracy: 0.5833\n",
      "Epoch 40/100\n",
      "64/95 [===================>..........] - ETA: 0s - loss: 1.2840 - accuracy: 0.5781\n",
      "Epoch 00040: val_loss did not improve from 1.51477\n",
      "95/95 [==============================] - 1s 6ms/sample - loss: 1.3099 - accuracy: 0.5474 - val_loss: 1.5799 - val_accuracy: 0.6667\n",
      "Epoch 41/100\n",
      "64/95 [===================>..........] - ETA: 0s - loss: 1.2821 - accuracy: 0.5312\n",
      "Epoch 00041: val_loss did not improve from 1.51477\n",
      "95/95 [==============================] - 1s 6ms/sample - loss: 1.3353 - accuracy: 0.4947 - val_loss: 1.6796 - val_accuracy: 0.6667\n",
      "Epoch 42/100\n",
      "64/95 [===================>..........] - ETA: 0s - loss: 1.2460 - accuracy: 0.6250\n",
      "Epoch 00042: val_loss did not improve from 1.51477\n",
      "95/95 [==============================] - 0s 4ms/sample - loss: 1.3410 - accuracy: 0.5789 - val_loss: 1.6403 - val_accuracy: 0.5000\n",
      "Epoch 43/100\n",
      "64/95 [===================>..........] - ETA: 0s - loss: 1.3638 - accuracy: 0.5312\n",
      "Epoch 00043: val_loss did not improve from 1.51477\n",
      "95/95 [==============================] - 1s 8ms/sample - loss: 1.2765 - accuracy: 0.5474 - val_loss: 1.5796 - val_accuracy: 0.6667\n",
      "Epoch 44/100\n",
      "64/95 [===================>..........] - ETA: 0s - loss: 1.2797 - accuracy: 0.5000\n",
      "Epoch 00044: val_loss did not improve from 1.51477\n",
      "95/95 [==============================] - 1s 8ms/sample - loss: 1.1913 - accuracy: 0.5579 - val_loss: 1.6024 - val_accuracy: 0.6667\n",
      "Epoch 45/100\n",
      "64/95 [===================>..........] - ETA: 0s - loss: 1.1940 - accuracy: 0.5781\n",
      "Epoch 00045: val_loss did not improve from 1.51477\n",
      "95/95 [==============================] - 1s 6ms/sample - loss: 1.2221 - accuracy: 0.5895 - val_loss: 1.7429 - val_accuracy: 0.6667\n",
      "Epoch 46/100\n",
      "64/95 [===================>..........] - ETA: 0s - loss: 1.2228 - accuracy: 0.5625\n",
      "Epoch 00046: val_loss did not improve from 1.51477\n",
      "95/95 [==============================] - 0s 5ms/sample - loss: 1.2190 - accuracy: 0.5789 - val_loss: 1.5967 - val_accuracy: 0.6667\n",
      "Epoch 47/100\n",
      "64/95 [===================>..........] - ETA: 0s - loss: 1.3092 - accuracy: 0.5156\n",
      "Epoch 00047: val_loss did not improve from 1.51477\n",
      "95/95 [==============================] - 0s 4ms/sample - loss: 1.2218 - accuracy: 0.5579 - val_loss: 1.5269 - val_accuracy: 0.6250\n",
      "Epoch 48/100\n",
      "64/95 [===================>..........] - ETA: 0s - loss: 1.1356 - accuracy: 0.6406\n",
      "Epoch 00048: val_loss improved from 1.51477 to 1.48261, saving model to model.h5\n",
      "95/95 [==============================] - 0s 5ms/sample - loss: 1.1852 - accuracy: 0.6105 - val_loss: 1.4826 - val_accuracy: 0.6667\n",
      "Epoch 49/100\n",
      "64/95 [===================>..........] - ETA: 0s - loss: 1.1896 - accuracy: 0.6562\n",
      "Epoch 00049: val_loss did not improve from 1.48261\n",
      "95/95 [==============================] - 1s 6ms/sample - loss: 1.1693 - accuracy: 0.6526 - val_loss: 1.5311 - val_accuracy: 0.6250\n",
      "Epoch 50/100\n",
      "64/95 [===================>..........] - ETA: 0s - loss: 1.1677 - accuracy: 0.5938\n",
      "Epoch 00050: val_loss did not improve from 1.48261\n",
      "95/95 [==============================] - 0s 4ms/sample - loss: 1.1574 - accuracy: 0.5684 - val_loss: 1.5376 - val_accuracy: 0.5833\n",
      "Epoch 51/100\n",
      "64/95 [===================>..........] - ETA: 0s - loss: 1.1620 - accuracy: 0.5781\n",
      "Epoch 00051: val_loss did not improve from 1.48261\n",
      "95/95 [==============================] - 0s 5ms/sample - loss: 1.1638 - accuracy: 0.5684 - val_loss: 1.5951 - val_accuracy: 0.6250\n",
      "Epoch 52/100\n",
      "64/95 [===================>..........] - ETA: 0s - loss: 1.2275 - accuracy: 0.6250\n",
      "Epoch 00052: val_loss did not improve from 1.48261\n",
      "95/95 [==============================] - 0s 5ms/sample - loss: 1.1495 - accuracy: 0.6211 - val_loss: 1.5726 - val_accuracy: 0.7500\n",
      "Epoch 53/100\n",
      "64/95 [===================>..........] - ETA: 0s - loss: 1.0880 - accuracy: 0.6250\n",
      "Epoch 00053: val_loss did not improve from 1.48261\n",
      "95/95 [==============================] - 0s 4ms/sample - loss: 1.1069 - accuracy: 0.6211 - val_loss: 1.5724 - val_accuracy: 0.6667\n",
      "Epoch 54/100\n",
      "64/95 [===================>..........] - ETA: 0s - loss: 1.0104 - accuracy: 0.6719\n",
      "Epoch 00054: val_loss did not improve from 1.48261\n",
      "95/95 [==============================] - 0s 4ms/sample - loss: 1.0211 - accuracy: 0.6526 - val_loss: 1.8899 - val_accuracy: 0.4167\n",
      "Epoch 55/100\n",
      "64/95 [===================>..........] - ETA: 0s - loss: 1.1385 - accuracy: 0.6406\n",
      "Epoch 00055: val_loss did not improve from 1.48261\n",
      "95/95 [==============================] - 0s 4ms/sample - loss: 1.1541 - accuracy: 0.6211 - val_loss: 1.5677 - val_accuracy: 0.6667\n",
      "Epoch 56/100\n",
      "64/95 [===================>..........] - ETA: 0s - loss: 1.1060 - accuracy: 0.5625\n",
      "Epoch 00056: val_loss did not improve from 1.48261\n",
      "95/95 [==============================] - 0s 5ms/sample - loss: 1.0680 - accuracy: 0.6316 - val_loss: 1.5934 - val_accuracy: 0.7083\n",
      "Epoch 57/100\n",
      "64/95 [===================>..........] - ETA: 0s - loss: 1.0695 - accuracy: 0.6094\n",
      "Epoch 00057: val_loss did not improve from 1.48261\n",
      "95/95 [==============================] - 0s 4ms/sample - loss: 1.1207 - accuracy: 0.6105 - val_loss: 1.7542 - val_accuracy: 0.5833\n",
      "Epoch 58/100\n",
      "64/95 [===================>..........] - ETA: 0s - loss: 0.9582 - accuracy: 0.7031\n",
      "Epoch 00058: val_loss did not improve from 1.48261\n",
      "95/95 [==============================] - 0s 4ms/sample - loss: 0.9581 - accuracy: 0.7053 - val_loss: 1.7924 - val_accuracy: 0.5833\n",
      "Epoch 59/100\n",
      "64/95 [===================>..........] - ETA: 0s - loss: 1.0205 - accuracy: 0.6719\n",
      "Epoch 00059: val_loss did not improve from 1.48261\n",
      "95/95 [==============================] - 0s 4ms/sample - loss: 1.0521 - accuracy: 0.6316 - val_loss: 1.7387 - val_accuracy: 0.5833\n",
      "Epoch 60/100\n",
      "64/95 [===================>..........] - ETA: 0s - loss: 0.9620 - accuracy: 0.6875\n",
      "Epoch 00060: val_loss did not improve from 1.48261\n",
      "95/95 [==============================] - 0s 4ms/sample - loss: 1.0618 - accuracy: 0.6632 - val_loss: 1.5571 - val_accuracy: 0.7500\n",
      "Epoch 61/100\n",
      "64/95 [===================>..........] - ETA: 0s - loss: 1.0331 - accuracy: 0.5938\n",
      "Epoch 00061: val_loss did not improve from 1.48261\n",
      "95/95 [==============================] - 0s 4ms/sample - loss: 1.0187 - accuracy: 0.5895 - val_loss: 1.6200 - val_accuracy: 0.5833\n",
      "Epoch 62/100\n",
      "64/95 [===================>..........] - ETA: 0s - loss: 0.9700 - accuracy: 0.6250\n",
      "Epoch 00062: val_loss did not improve from 1.48261\n",
      "95/95 [==============================] - 0s 4ms/sample - loss: 0.9914 - accuracy: 0.6421 - val_loss: 1.6292 - val_accuracy: 0.5833\n",
      "Epoch 63/100\n",
      "64/95 [===================>..........] - ETA: 0s - loss: 0.8350 - accuracy: 0.7188\n",
      "Epoch 00063: val_loss did not improve from 1.48261\n",
      "95/95 [==============================] - 0s 4ms/sample - loss: 0.9743 - accuracy: 0.6632 - val_loss: 1.5418 - val_accuracy: 0.6667\n",
      "Epoch 64/100\n",
      "64/95 [===================>..........] - ETA: 0s - loss: 1.0283 - accuracy: 0.5938\n",
      "Epoch 00064: val_loss did not improve from 1.48261\n",
      "95/95 [==============================] - 0s 5ms/sample - loss: 0.9515 - accuracy: 0.6421 - val_loss: 1.6364 - val_accuracy: 0.7083\n",
      "Epoch 65/100\n",
      "64/95 [===================>..........] - ETA: 0s - loss: 0.9410 - accuracy: 0.6562\n",
      "Epoch 00065: val_loss did not improve from 1.48261\n",
      "95/95 [==============================] - 0s 5ms/sample - loss: 0.8846 - accuracy: 0.6526 - val_loss: 1.6444 - val_accuracy: 0.6667\n",
      "Epoch 66/100\n",
      "64/95 [===================>..........] - ETA: 0s - loss: 0.9302 - accuracy: 0.6719\n",
      "Epoch 00066: val_loss did not improve from 1.48261\n",
      "95/95 [==============================] - 0s 4ms/sample - loss: 0.9310 - accuracy: 0.6632 - val_loss: 1.6566 - val_accuracy: 0.6667\n",
      "Epoch 67/100\n",
      "64/95 [===================>..........] - ETA: 0s - loss: 0.9006 - accuracy: 0.6719\n",
      "Epoch 00067: val_loss did not improve from 1.48261\n",
      "95/95 [==============================] - 0s 5ms/sample - loss: 0.9571 - accuracy: 0.6632 - val_loss: 1.8232 - val_accuracy: 0.5417\n",
      "Epoch 68/100\n",
      "64/95 [===================>..........] - ETA: 0s - loss: 0.9309 - accuracy: 0.6562\n",
      "Epoch 00068: val_loss did not improve from 1.48261\n",
      "95/95 [==============================] - 0s 4ms/sample - loss: 0.9617 - accuracy: 0.6632 - val_loss: 1.7341 - val_accuracy: 0.6250\n",
      "Epoch 69/100\n",
      "64/95 [===================>..........] - ETA: 0s - loss: 1.0594 - accuracy: 0.6250\n",
      "Epoch 00069: val_loss did not improve from 1.48261\n",
      "95/95 [==============================] - 0s 5ms/sample - loss: 0.9234 - accuracy: 0.6842 - val_loss: 1.5917 - val_accuracy: 0.6667\n",
      "Epoch 70/100\n",
      "64/95 [===================>..........] - ETA: 0s - loss: 0.8662 - accuracy: 0.6406\n",
      "Epoch 00070: val_loss did not improve from 1.48261\n",
      "95/95 [==============================] - 0s 4ms/sample - loss: 0.8423 - accuracy: 0.6947 - val_loss: 1.6760 - val_accuracy: 0.6667\n",
      "Epoch 71/100\n",
      "64/95 [===================>..........] - ETA: 0s - loss: 1.0544 - accuracy: 0.6250\n",
      "Epoch 00071: val_loss did not improve from 1.48261\n",
      "95/95 [==============================] - 0s 5ms/sample - loss: 0.9344 - accuracy: 0.6421 - val_loss: 1.5587 - val_accuracy: 0.6250\n",
      "Epoch 72/100\n",
      "64/95 [===================>..........] - ETA: 0s - loss: 0.9326 - accuracy: 0.6875\n",
      "Epoch 00072: val_loss improved from 1.48261 to 1.47122, saving model to model.h5\n",
      "95/95 [==============================] - 0s 5ms/sample - loss: 0.8854 - accuracy: 0.7053 - val_loss: 1.4712 - val_accuracy: 0.7500\n",
      "Epoch 73/100\n",
      "64/95 [===================>..........] - ETA: 0s - loss: 0.8363 - accuracy: 0.6719\n",
      "Epoch 00073: val_loss did not improve from 1.47122\n",
      "95/95 [==============================] - 0s 4ms/sample - loss: 0.8500 - accuracy: 0.6421 - val_loss: 1.5177 - val_accuracy: 0.7083\n",
      "Epoch 74/100\n",
      "64/95 [===================>..........] - ETA: 0s - loss: 0.8431 - accuracy: 0.7031\n",
      "Epoch 00074: val_loss did not improve from 1.47122\n",
      "95/95 [==============================] - 0s 5ms/sample - loss: 0.8207 - accuracy: 0.7263 - val_loss: 1.6163 - val_accuracy: 0.6250\n",
      "Epoch 75/100\n",
      "64/95 [===================>..........] - ETA: 0s - loss: 0.8028 - accuracy: 0.6562\n",
      "Epoch 00075: val_loss did not improve from 1.47122\n",
      "95/95 [==============================] - 0s 4ms/sample - loss: 0.7705 - accuracy: 0.6947 - val_loss: 1.6253 - val_accuracy: 0.6667\n",
      "Epoch 76/100\n",
      "64/95 [===================>..........] - ETA: 0s - loss: 0.9024 - accuracy: 0.6406\n",
      "Epoch 00076: val_loss did not improve from 1.47122\n",
      "95/95 [==============================] - 0s 5ms/sample - loss: 0.8686 - accuracy: 0.6632 - val_loss: 1.6615 - val_accuracy: 0.6250\n",
      "Epoch 77/100\n",
      "64/95 [===================>..........] - ETA: 0s - loss: 1.1107 - accuracy: 0.6875\n",
      "Epoch 00077: val_loss did not improve from 1.47122\n",
      "95/95 [==============================] - 0s 5ms/sample - loss: 1.0061 - accuracy: 0.7053 - val_loss: 1.5433 - val_accuracy: 0.7083\n",
      "Epoch 78/100\n",
      "64/95 [===================>..........] - ETA: 0s - loss: 0.8842 - accuracy: 0.6719\n",
      "Epoch 00078: val_loss did not improve from 1.47122\n",
      "95/95 [==============================] - 0s 5ms/sample - loss: 0.8793 - accuracy: 0.6842 - val_loss: 1.7199 - val_accuracy: 0.6667\n",
      "Epoch 79/100\n",
      "64/95 [===================>..........] - ETA: 0s - loss: 0.9852 - accuracy: 0.6094\n",
      "Epoch 00079: val_loss did not improve from 1.47122\n",
      "95/95 [==============================] - 0s 5ms/sample - loss: 0.9202 - accuracy: 0.6316 - val_loss: 1.5154 - val_accuracy: 0.7500\n",
      "Epoch 80/100\n",
      "64/95 [===================>..........] - ETA: 0s - loss: 0.7175 - accuracy: 0.7656\n",
      "Epoch 00080: val_loss did not improve from 1.47122\n",
      "95/95 [==============================] - 0s 5ms/sample - loss: 0.7983 - accuracy: 0.7368 - val_loss: 1.5614 - val_accuracy: 0.7500\n",
      "Epoch 81/100\n",
      "64/95 [===================>..........] - ETA: 0s - loss: 1.1059 - accuracy: 0.6250\n",
      "Epoch 00081: val_loss did not improve from 1.47122\n",
      "95/95 [==============================] - 0s 5ms/sample - loss: 0.9894 - accuracy: 0.6842 - val_loss: 1.5735 - val_accuracy: 0.6250\n",
      "Epoch 82/100\n",
      "64/95 [===================>..........] - ETA: 0s - loss: 0.8533 - accuracy: 0.6250\n",
      "Epoch 00082: val_loss did not improve from 1.47122\n",
      "95/95 [==============================] - 0s 5ms/sample - loss: 0.8733 - accuracy: 0.6842 - val_loss: 1.6501 - val_accuracy: 0.5833\n",
      "Epoch 83/100\n",
      "64/95 [===================>..........] - ETA: 0s - loss: 0.9144 - accuracy: 0.7500\n",
      "Epoch 00083: val_loss did not improve from 1.47122\n",
      "95/95 [==============================] - 0s 5ms/sample - loss: 0.8368 - accuracy: 0.7684 - val_loss: 1.7290 - val_accuracy: 0.5833\n",
      "Epoch 84/100\n",
      "64/95 [===================>..........] - ETA: 0s - loss: 0.9283 - accuracy: 0.6406\n",
      "Epoch 00084: val_loss did not improve from 1.47122\n",
      "95/95 [==============================] - 0s 4ms/sample - loss: 0.8647 - accuracy: 0.6947 - val_loss: 1.6124 - val_accuracy: 0.6250\n",
      "Epoch 85/100\n",
      "64/95 [===================>..........] - ETA: 0s - loss: 0.7443 - accuracy: 0.7969\n",
      "Epoch 00085: val_loss did not improve from 1.47122\n",
      "95/95 [==============================] - 0s 5ms/sample - loss: 0.8029 - accuracy: 0.7474 - val_loss: 1.6294 - val_accuracy: 0.6667\n",
      "Epoch 86/100\n",
      "64/95 [===================>..........] - ETA: 0s - loss: 0.7139 - accuracy: 0.7500\n",
      "Epoch 00086: val_loss did not improve from 1.47122\n",
      "95/95 [==============================] - 0s 5ms/sample - loss: 0.7326 - accuracy: 0.7368 - val_loss: 1.6101 - val_accuracy: 0.6667\n",
      "Epoch 87/100\n",
      "64/95 [===================>..........] - ETA: 0s - loss: 0.6308 - accuracy: 0.8125\n",
      "Epoch 00087: val_loss did not improve from 1.47122\n",
      "95/95 [==============================] - 0s 5ms/sample - loss: 0.7356 - accuracy: 0.7579 - val_loss: 1.5822 - val_accuracy: 0.7083\n",
      "Epoch 88/100\n",
      "64/95 [===================>..........] - ETA: 0s - loss: 0.7323 - accuracy: 0.8125\n",
      "Epoch 00088: val_loss did not improve from 1.47122\n",
      "95/95 [==============================] - 0s 5ms/sample - loss: 0.6922 - accuracy: 0.8000 - val_loss: 1.6423 - val_accuracy: 0.6667\n",
      "Epoch 89/100\n",
      "64/95 [===================>..........] - ETA: 0s - loss: 0.6367 - accuracy: 0.7969\n",
      "Epoch 00089: val_loss did not improve from 1.47122\n",
      "95/95 [==============================] - 0s 5ms/sample - loss: 0.6096 - accuracy: 0.8105 - val_loss: 1.6253 - val_accuracy: 0.6667\n",
      "Epoch 90/100\n",
      "64/95 [===================>..........] - ETA: 0s - loss: 0.8965 - accuracy: 0.6406\n",
      "Epoch 00090: val_loss did not improve from 1.47122\n",
      "95/95 [==============================] - 1s 7ms/sample - loss: 0.7470 - accuracy: 0.6947 - val_loss: 1.5903 - val_accuracy: 0.6667\n",
      "Epoch 91/100\n",
      "64/95 [===================>..........] - ETA: 0s - loss: 0.5902 - accuracy: 0.7969\n",
      "Epoch 00091: val_loss did not improve from 1.47122\n",
      "95/95 [==============================] - 1s 10ms/sample - loss: 0.6625 - accuracy: 0.7579 - val_loss: 1.8835 - val_accuracy: 0.5000\n",
      "Epoch 92/100\n",
      "64/95 [===================>..........] - ETA: 0s - loss: 0.6348 - accuracy: 0.8125\n",
      "Epoch 00092: val_loss did not improve from 1.47122\n",
      "95/95 [==============================] - 2s 16ms/sample - loss: 0.6925 - accuracy: 0.7474 - val_loss: 1.6436 - val_accuracy: 0.6667\n",
      "Epoch 93/100\n",
      "64/95 [===================>..........] - ETA: 0s - loss: 0.5685 - accuracy: 0.8125\n",
      "Epoch 00093: val_loss did not improve from 1.47122\n",
      "95/95 [==============================] - 1s 5ms/sample - loss: 0.6341 - accuracy: 0.7895 - val_loss: 1.6268 - val_accuracy: 0.7083\n",
      "Epoch 94/100\n",
      "64/95 [===================>..........] - ETA: 0s - loss: 0.5405 - accuracy: 0.8125\n",
      "Epoch 00094: val_loss did not improve from 1.47122\n",
      "95/95 [==============================] - 1s 6ms/sample - loss: 0.6250 - accuracy: 0.7895 - val_loss: 1.8130 - val_accuracy: 0.5417\n",
      "Epoch 95/100\n",
      "64/95 [===================>..........] - ETA: 0s - loss: 0.5820 - accuracy: 0.7812\n",
      "Epoch 00095: val_loss did not improve from 1.47122\n",
      "95/95 [==============================] - 0s 5ms/sample - loss: 0.5460 - accuracy: 0.8105 - val_loss: 1.7235 - val_accuracy: 0.6250\n",
      "Epoch 96/100\n",
      "64/95 [===================>..........] - ETA: 0s - loss: 0.7527 - accuracy: 0.7031\n",
      "Epoch 00096: val_loss did not improve from 1.47122\n",
      "95/95 [==============================] - 0s 5ms/sample - loss: 0.6484 - accuracy: 0.7579 - val_loss: 1.7132 - val_accuracy: 0.6667\n",
      "Epoch 97/100\n",
      "64/95 [===================>..........] - ETA: 0s - loss: 0.8412 - accuracy: 0.7344\n",
      "Epoch 00097: val_loss did not improve from 1.47122\n",
      "95/95 [==============================] - 0s 4ms/sample - loss: 0.7658 - accuracy: 0.7789 - val_loss: 1.8361 - val_accuracy: 0.5833\n",
      "Epoch 98/100\n",
      "64/95 [===================>..........] - ETA: 0s - loss: 0.7783 - accuracy: 0.7188\n",
      "Epoch 00098: val_loss did not improve from 1.47122\n",
      "95/95 [==============================] - 0s 5ms/sample - loss: 0.7151 - accuracy: 0.7579 - val_loss: 1.5236 - val_accuracy: 0.7500\n",
      "Epoch 99/100\n",
      "64/95 [===================>..........] - ETA: 0s - loss: 0.6734 - accuracy: 0.7812\n",
      "Epoch 00099: val_loss did not improve from 1.47122\n",
      "95/95 [==============================] - 0s 5ms/sample - loss: 0.7763 - accuracy: 0.7158 - val_loss: 1.5871 - val_accuracy: 0.6250\n",
      "Epoch 100/100\n",
      "64/95 [===================>..........] - ETA: 0s - loss: 0.6900 - accuracy: 0.8125\n",
      "Epoch 00100: val_loss did not improve from 1.47122\n",
      "95/95 [==============================] - 0s 5ms/sample - loss: 0.6832 - accuracy: 0.8105 - val_loss: 1.6255 - val_accuracy: 0.6667\n"
     ]
    }
   ],
   "source": [
    "filename = 'model.h5'\n",
    "checkpoint = ModelCheckpoint(filename, monitor='val_loss', verbose=1, save_best_only=True, mode='min')\n",
    "\n",
    "hist = model.fit(train_X, train_Y, epochs = 100, batch_size = 32, validation_data = (val_X, val_Y), callbacks = [checkpoint])"
   ]
  },
  {
   "cell_type": "markdown",
   "metadata": {},
   "source": [
    "## Load Model\n",
    "Loads the best model found from training above, model.h5"
   ]
  },
  {
   "cell_type": "code",
   "execution_count": 134,
   "metadata": {},
   "outputs": [],
   "source": [
    "model = load_model(\"model.h5\")"
   ]
  },
  {
   "cell_type": "markdown",
   "metadata": {},
   "source": [
    "### Get predicted probability for a given text"
   ]
  },
  {
   "cell_type": "code",
   "execution_count": 135,
   "metadata": {},
   "outputs": [],
   "source": [
    "\n",
    "def predictions(text):\n",
    "  clean = re.sub(r'[^ a-z A-Z 0-9]', \" \", text)\n",
    "  test_word = word_tokenize(clean)\n",
    "  test_word = [w.lower() for w in test_word]\n",
    "  test_ls = word_tokenizer.texts_to_sequences(test_word)\n",
    "  print(test_word)\n",
    "  #Check for unknown words\n",
    "  if [] in test_ls:\n",
    "    test_ls = list(filter(None, test_ls))\n",
    "    \n",
    "  test_ls = np.array(test_ls).reshape(1, len(test_ls))\n",
    " \n",
    "  x = padding_doc(test_ls, max_length)\n",
    "  \n",
    "  pred = model.predict_proba(x)\n",
    "  \n",
    "  \n",
    "  return pred"
   ]
  },
  {
   "cell_type": "markdown",
   "metadata": {},
   "source": [
    "### Get final output for the prediction and the classes of intents"
   ]
  },
  {
   "cell_type": "code",
   "execution_count": 136,
   "metadata": {},
   "outputs": [],
   "source": [
    "\n",
    "def get_final_output(pred, classes):\n",
    "  predictions = pred[0]\n",
    " \n",
    "  classes = np.array(classes)\n",
    "  ids = np.argsort(-predictions)\n",
    "  classes = classes[ids]\n",
    "  predictions = -np.sort(-predictions)\n",
    " \n",
    "  for i in range(pred.shape[1]):\n",
    "    print(\"%s has confidence = %s\" % (classes[i], (predictions[i])))"
   ]
  },
  {
   "cell_type": "markdown",
   "metadata": {},
   "source": [
    "### Use the model =]"
   ]
  },
  {
   "cell_type": "code",
   "execution_count": 137,
   "metadata": {},
   "outputs": [
    {
     "name": "stdout",
     "output_type": "stream",
     "text": [
      "['can', 'you', 'help', 'me']\n",
      "department.time has confidence = 0.21431595\n",
      "faq.department has confidence = 0.17673804\n",
      "class.location has confidence = 0.15498534\n",
      "class.professor has confidence = 0.14523438\n",
      "faq.professor has confidence = 0.09591928\n",
      "faq.student has confidence = 0.075154\n",
      "faq.important_date has confidence = 0.051016223\n",
      "class.time has confidence = 0.036218736\n",
      "faq.employee has confidence = 0.027541487\n",
      "faq.class has confidence = 0.022876546\n"
     ]
    }
   ],
   "source": [
    "\n",
    "text = \"Can you help me?\"\n",
    "pred = predictions(text)\n",
    "get_final_output(pred, unique_intent)"
   ]
  },
  {
   "cell_type": "code",
   "execution_count": 138,
   "metadata": {},
   "outputs": [
    {
     "name": "stdout",
     "output_type": "stream",
     "text": [
      "['how', 'do', 'i', 'apply', 'for', 'this', 'position']\n",
      "faq.student has confidence = 0.2879084\n",
      "faq.department has confidence = 0.18928896\n",
      "faq.class has confidence = 0.15100592\n",
      "faq.professor has confidence = 0.13906564\n",
      "faq.employee has confidence = 0.08079777\n",
      "department.time has confidence = 0.05024669\n",
      "class.location has confidence = 0.037927132\n",
      "class.professor has confidence = 0.031630915\n",
      "faq.important_date has confidence = 0.018002763\n",
      "class.time has confidence = 0.014125747\n"
     ]
    }
   ],
   "source": [
    "\n",
    "text = \"How do I apply for this position?\"\n",
    "pred = predictions(text)\n",
    "get_final_output(pred, unique_intent)"
   ]
  },
  {
   "cell_type": "code",
   "execution_count": 139,
   "metadata": {},
   "outputs": [
    {
     "name": "stdout",
     "output_type": "stream",
     "text": [
      "['wait', 'for', 'me']\n",
      "faq.important_date has confidence = 0.4579492\n",
      "class.location has confidence = 0.41506466\n",
      "class.professor has confidence = 0.11208097\n",
      "faq.department has confidence = 0.0049666595\n",
      "department.time has confidence = 0.0033122844\n",
      "faq.student has confidence = 0.0032640186\n",
      "class.time has confidence = 0.0025997008\n",
      "faq.employee has confidence = 0.00046487432\n",
      "faq.professor has confidence = 0.00022244213\n",
      "faq.class has confidence = 7.513198e-05\n"
     ]
    }
   ],
   "source": [
    "\n",
    "text = \"Wait for me\"\n",
    "pred = predictions(text)\n",
    "get_final_output(pred, unique_intent)"
   ]
  },
  {
   "cell_type": "code",
   "execution_count": 141,
   "metadata": {},
   "outputs": [
    {
     "name": "stdout",
     "output_type": "stream",
     "text": [
      "['where', 'is', 'the', 'bathroom']\n",
      "class.location has confidence = 0.8445389\n",
      "class.professor has confidence = 0.05849019\n",
      "faq.important_date has confidence = 0.056206543\n",
      "faq.department has confidence = 0.01820569\n",
      "faq.student has confidence = 0.009420158\n",
      "department.time has confidence = 0.0061977515\n",
      "faq.employee has confidence = 0.002738522\n",
      "class.time has confidence = 0.0026168828\n",
      "faq.professor has confidence = 0.0012651766\n",
      "faq.class has confidence = 0.00032005287\n"
     ]
    }
   ],
   "source": [
    "\n",
    "text = \"Where is the bathroom?\"\n",
    "pred = predictions(text)\n",
    "get_final_output(pred, unique_intent)"
   ]
  },
  {
   "cell_type": "code",
   "execution_count": 142,
   "metadata": {},
   "outputs": [
    {
     "name": "stdout",
     "output_type": "stream",
     "text": [
      "['where', 'is', 'the', 'cs', 'lab']\n",
      "class.location has confidence = 0.8445389\n",
      "class.professor has confidence = 0.05849019\n",
      "faq.important_date has confidence = 0.056206543\n",
      "faq.department has confidence = 0.01820569\n",
      "faq.student has confidence = 0.009420158\n",
      "department.time has confidence = 0.0061977515\n",
      "faq.employee has confidence = 0.002738522\n",
      "class.time has confidence = 0.0026168828\n",
      "faq.professor has confidence = 0.0012651766\n",
      "faq.class has confidence = 0.00032005287\n"
     ]
    }
   ],
   "source": [
    "\n",
    "text = \"Where is the CS Lab?\"\n",
    "pred = predictions(text)\n",
    "get_final_output(pred, unique_intent)"
   ]
  },
  {
   "cell_type": "code",
   "execution_count": null,
   "metadata": {},
   "outputs": [],
   "source": []
  }
 ],
 "metadata": {
  "kernelspec": {
   "display_name": "Python 3",
   "language": "python",
   "name": "python3"
  },
  "language_info": {
   "codemirror_mode": {
    "name": "ipython",
    "version": 3
   },
   "file_extension": ".py",
   "mimetype": "text/x-python",
   "name": "python",
   "nbconvert_exporter": "python",
   "pygments_lexer": "ipython3",
   "version": "3.7.4"
  }
 },
 "nbformat": 4,
 "nbformat_minor": 4
}
