{
 "cells": [
  {
   "cell_type": "code",
   "execution_count": 34,
   "metadata": {},
   "outputs": [],
   "source": [
    "# https://towardsdatascience.com/a-brief-introduction-to-intent-classification-96fda6b1f557\n",
    "# Classifies into 21 intents\n",
    "\n",
    "\n",
    "import numpy as np\n",
    "import pandas as pd\n",
    "from nltk.corpus import stopwords\n",
    "from nltk.tokenize import word_tokenize\n",
    "from nltk.stem.lancaster import LancasterStemmer\n",
    "import nltk\n",
    "import re\n",
    "from sklearn.preprocessing import OneHotEncoder\n",
    "import matplotlib.pyplot as plt\n",
    "from tensorflow.keras.preprocessing.text import Tokenizer\n",
    "from tensorflow.keras.preprocessing.sequence import pad_sequences\n",
    "from tensorflow.keras.utils import to_categorical\n",
    "from tensorflow.keras.models import Sequential, load_model\n",
    "from tensorflow.keras.layers import Dense, LSTM, Bidirectional, Embedding, Dropout\n",
    "from tensorflow.keras.callbacks import ModelCheckpoint"
   ]
  },
  {
   "cell_type": "markdown",
   "metadata": {},
   "source": [
    "# Load Dataset"
   ]
  },
  {
   "cell_type": "code",
   "execution_count": 2,
   "metadata": {},
   "outputs": [],
   "source": [
    "def load_dataset(filename):\n",
    "  df = pd.read_csv(filename, encoding = \"latin1\", names = [\"Sentence\", \"Intent\"])\n",
    "  print(df.head())\n",
    "  intent = df[\"Intent\"]\n",
    "  unique_intent = list(set(intent))\n",
    "  sentences = list(df[\"Sentence\"])\n",
    "  \n",
    "  return (intent, unique_intent, sentences)"
   ]
  },
  {
   "cell_type": "code",
   "execution_count": 3,
   "metadata": {},
   "outputs": [
    {
     "name": "stdout",
     "output_type": "stream",
     "text": [
      "                Sentence          Intent\n",
      "0       Need help pleese  commonQ.assist\n",
      "1              Need help  commonQ.assist\n",
      "2       I need some info  commonQ.assist\n",
      "3      Will you help me?  commonQ.assist\n",
      "4  What else can you do?  commonQ.assist\n"
     ]
    }
   ],
   "source": [
    "intent, unique_intent, sentences = load_dataset(\"Dataset.csv\")"
   ]
  },
  {
   "cell_type": "markdown",
   "metadata": {},
   "source": [
    "# Get stopwords and punkt"
   ]
  },
  {
   "cell_type": "code",
   "execution_count": 4,
   "metadata": {},
   "outputs": [
    {
     "name": "stderr",
     "output_type": "stream",
     "text": [
      "[nltk_data] Downloading package stopwords to\n",
      "[nltk_data]     /Users/kathrine.swe/nltk_data...\n",
      "[nltk_data]   Package stopwords is already up-to-date!\n",
      "[nltk_data] Downloading package punkt to\n",
      "[nltk_data]     /Users/kathrine.swe/nltk_data...\n",
      "[nltk_data]   Package punkt is already up-to-date!\n"
     ]
    },
    {
     "data": {
      "text/plain": [
       "True"
      ]
     },
     "execution_count": 4,
     "metadata": {},
     "output_type": "execute_result"
    }
   ],
   "source": [
    "nltk.download(\"stopwords\")\n",
    "nltk.download(\"punkt\")"
   ]
  },
  {
   "cell_type": "markdown",
   "metadata": {},
   "source": [
    "# Define stemmer"
   ]
  },
  {
   "cell_type": "code",
   "execution_count": 5,
   "metadata": {},
   "outputs": [],
   "source": [
    "stemmer = LancasterStemmer()"
   ]
  },
  {
   "cell_type": "markdown",
   "metadata": {},
   "source": [
    "# Data cleaning"
   ]
  },
  {
   "cell_type": "code",
   "execution_count": 6,
   "metadata": {},
   "outputs": [],
   "source": [
    "def cleaning(sentences):\n",
    "    words = []\n",
    "    for s in sentences:\n",
    "        clean = re.sub(r'[^ a-z A-Z 0-9]', \" \", s)\n",
    "        w = word_tokenize(clean)\n",
    "        # lemmatizing\n",
    "        words.append([i.lower() for i in w])\n",
    "    return words"
   ]
  },
  {
   "cell_type": "code",
   "execution_count": 7,
   "metadata": {},
   "outputs": [
    {
     "name": "stdout",
     "output_type": "stream",
     "text": [
      "1113\n",
      "[['need', 'help', 'pleese'], ['need', 'help']]\n"
     ]
    }
   ],
   "source": [
    "cleaned_words = cleaning(sentences)\n",
    "print(len(cleaned_words))\n",
    "print(cleaned_words[:2])"
   ]
  },
  {
   "cell_type": "markdown",
   "metadata": {},
   "source": [
    "# Input encoding"
   ]
  },
  {
   "cell_type": "code",
   "execution_count": 8,
   "metadata": {},
   "outputs": [],
   "source": [
    "def create_tokenizer( words, filters='!\"#$%&()*+,-./:;<=>?@[\\]^_`{|}~'):\n",
    "    \"\"\"Create tokenizer\n",
    "    \"\"\"\n",
    "    token = Tokenizer(filters=filters)\n",
    "    token.fit_on_texts(words)\n",
    "    return token\n",
    "\n",
    "def get_max_length(words):\n",
    "    \"\"\"Gets max length of a word\n",
    "    \"\"\"\n",
    "    return(len(max(words, key=len)))\n"
   ]
  },
  {
   "cell_type": "code",
   "execution_count": 9,
   "metadata": {},
   "outputs": [
    {
     "name": "stdout",
     "output_type": "stream",
     "text": [
      "Vocab size =  492  and Maximum length =  28\n"
     ]
    }
   ],
   "source": [
    "word_tokenizer = create_tokenizer(cleaned_words)\n",
    "vocab_size = len(word_tokenizer.word_index) + 1\n",
    "max_length = get_max_length(cleaned_words)\n",
    "\n",
    "print(\"Vocab size = \", vocab_size, \" and Maximum length = \", max_length)"
   ]
  },
  {
   "cell_type": "markdown",
   "metadata": {},
   "source": [
    "# Output Encoding"
   ]
  },
  {
   "cell_type": "code",
   "execution_count": 10,
   "metadata": {},
   "outputs": [],
   "source": [
    "def encoding_doc(token, words):\n",
    "    return(token.texts_to_sequences(words))"
   ]
  },
  {
   "cell_type": "code",
   "execution_count": 11,
   "metadata": {},
   "outputs": [],
   "source": [
    "encoded_doc = encoding_doc(word_tokenizer, cleaned_words)"
   ]
  },
  {
   "cell_type": "code",
   "execution_count": 12,
   "metadata": {},
   "outputs": [],
   "source": [
    "def padding_doc(encoded_doc, max_length):\n",
    "    return(pad_sequences(encoded_doc, maxlen=max_length, padding=\"post\"))"
   ]
  },
  {
   "cell_type": "code",
   "execution_count": 13,
   "metadata": {},
   "outputs": [
    {
     "data": {
      "text/plain": [
       "array([[ 25,  77, 332,   0,   0,   0,   0,   0,   0,   0,   0,   0,   0,\n",
       "          0,   0,   0,   0,   0,   0,   0,   0,   0,   0,   0,   0,   0,\n",
       "          0,   0],\n",
       "       [ 25,  77,   0,   0,   0,   0,   0,   0,   0,   0,   0,   0,   0,\n",
       "          0,   0,   0,   0,   0,   0,   0,   0,   0,   0,   0,   0,   0,\n",
       "          0,   0],\n",
       "       [  1,  25, 198, 181,   0,   0,   0,   0,   0,   0,   0,   0,   0,\n",
       "          0,   0,   0,   0,   0,   0,   0,   0,   0,   0,   0,   0,   0,\n",
       "          0,   0],\n",
       "       [ 51,  10,  77,  16,   0,   0,   0,   0,   0,   0,   0,   0,   0,\n",
       "          0,   0,   0,   0,   0,   0,   0,   0,   0,   0,   0,   0,   0,\n",
       "          0,   0],\n",
       "       [  8, 268,   4,  10,  30,   0,   0,   0,   0,   0,   0,   0,   0,\n",
       "          0,   0,   0,   0,   0,   0,   0,   0,   0,   0,   0,   0,   0,\n",
       "          0,   0]], dtype=int32)"
      ]
     },
     "execution_count": 13,
     "metadata": {},
     "output_type": "execute_result"
    }
   ],
   "source": [
    "padded_doc = padding_doc(encoded_doc, max_length)\n",
    "padded_doc[:5]"
   ]
  },
  {
   "cell_type": "code",
   "execution_count": 14,
   "metadata": {},
   "outputs": [
    {
     "name": "stdout",
     "output_type": "stream",
     "text": [
      "Shape of padded docs =  (1113, 28)\n"
     ]
    }
   ],
   "source": [
    "print(\"Shape of padded docs = \", padded_doc.shape)"
   ]
  },
  {
   "cell_type": "markdown",
   "metadata": {},
   "source": [
    "### Tokenizer"
   ]
  },
  {
   "cell_type": "code",
   "execution_count": 15,
   "metadata": {},
   "outputs": [],
   "source": [
    "# tokenizer with filter changed\n",
    "output_tokenizer = create_tokenizer(unique_intent, filters='!\"#$%&()*+,-/:;<=>?@[\\]^`{|}~')"
   ]
  },
  {
   "cell_type": "code",
   "execution_count": 16,
   "metadata": {},
   "outputs": [
    {
     "data": {
      "text/plain": [
       "{'faq.borrow_limit': 1,\n",
       " 'contact.contact': 2,\n",
       " 'commonq.assist': 3,\n",
       " 'faq.application_process': 4,\n",
       " 'commonq.not_giving': 5,\n",
       " 'faq.borrow_use': 6,\n",
       " 'faq.biz_new': 7,\n",
       " 'faq.bad_service': 8,\n",
       " 'commonq.name': 9,\n",
       " 'commonq.query': 10,\n",
       " 'commonq.just_details': 11,\n",
       " 'faq.biz_simpler': 12,\n",
       " 'faq.aadhaar_missing': 13,\n",
       " 'faq.address_proof': 14,\n",
       " 'commonq.bot': 15,\n",
       " 'commonq.wait': 16,\n",
       " 'faq.banking_option_missing': 17,\n",
       " 'faq.apply_register': 18,\n",
       " 'faq.biz_category_missing': 19,\n",
       " 'commonq.how': 20,\n",
       " 'faq.approval_time': 21}"
      ]
     },
     "execution_count": 16,
     "metadata": {},
     "output_type": "execute_result"
    }
   ],
   "source": [
    "output_tokenizer.word_index"
   ]
  },
  {
   "cell_type": "markdown",
   "metadata": {},
   "source": [
    "### Encode output given intent and tokenizer and reshape"
   ]
  },
  {
   "cell_type": "code",
   "execution_count": 17,
   "metadata": {},
   "outputs": [],
   "source": [
    "encoded_output = encoding_doc(output_tokenizer, intent)"
   ]
  },
  {
   "cell_type": "code",
   "execution_count": 18,
   "metadata": {},
   "outputs": [],
   "source": [
    "encoded_output = np.array(encoded_output).reshape(len(encoded_output), 1)"
   ]
  },
  {
   "cell_type": "code",
   "execution_count": 19,
   "metadata": {},
   "outputs": [
    {
     "data": {
      "text/plain": [
       "(1113, 1)"
      ]
     },
     "execution_count": 19,
     "metadata": {},
     "output_type": "execute_result"
    }
   ],
   "source": [
    "encoded_output.shape"
   ]
  },
  {
   "cell_type": "markdown",
   "metadata": {},
   "source": [
    "### Create one hot encoding\n",
    "Example of one hot encoding:\n",
    "Consider a domain of [ a, e, i, o, u] and an intent of [ a, i, u ]\n",
    "The one hot encoding is [ 1, 0, 1, 0, 1] for the domain."
   ]
  },
  {
   "cell_type": "code",
   "execution_count": 20,
   "metadata": {},
   "outputs": [],
   "source": [
    "def one_hot(encode):\n",
    "    o = OneHotEncoder(sparse=False)\n",
    "    return(o.fit_transform(encode))"
   ]
  },
  {
   "cell_type": "code",
   "execution_count": 21,
   "metadata": {},
   "outputs": [
    {
     "name": "stderr",
     "output_type": "stream",
     "text": [
      "/Users/kathrine.swe/opt/anaconda3/lib/python3.7/site-packages/sklearn/preprocessing/_encoders.py:415: FutureWarning: The handling of integer data will change in version 0.22. Currently, the categories are determined based on the range [0, max(values)], while in the future they will be determined based on the unique values.\n",
      "If you want the future behaviour and silence this warning, you can specify \"categories='auto'\".\n",
      "In case you used a LabelEncoder before this OneHotEncoder to convert the categories to integers, then you can now use the OneHotEncoder directly.\n",
      "  warnings.warn(msg, FutureWarning)\n"
     ]
    }
   ],
   "source": [
    "output_one_hot = one_hot(encoded_output)"
   ]
  },
  {
   "cell_type": "code",
   "execution_count": 22,
   "metadata": {},
   "outputs": [
    {
     "data": {
      "text/plain": [
       "(1113, 21)"
      ]
     },
     "execution_count": 22,
     "metadata": {},
     "output_type": "execute_result"
    }
   ],
   "source": [
    "output_one_hot.shape"
   ]
  },
  {
   "cell_type": "markdown",
   "metadata": {},
   "source": [
    "## Create Model"
   ]
  },
  {
   "cell_type": "code",
   "execution_count": 24,
   "metadata": {},
   "outputs": [],
   "source": [
    "from sklearn.model_selection import train_test_split"
   ]
  },
  {
   "cell_type": "code",
   "execution_count": 25,
   "metadata": {},
   "outputs": [],
   "source": [
    "\n",
    "train_X, val_X, train_Y, val_Y = train_test_split(padded_doc, output_one_hot, shuffle = True, test_size = 0.2)"
   ]
  },
  {
   "cell_type": "code",
   "execution_count": 26,
   "metadata": {},
   "outputs": [
    {
     "name": "stdout",
     "output_type": "stream",
     "text": [
      "Shape of train_X = (890, 28) and train_Y = (890, 21)\n",
      "Shape of val_X = (223, 28) and val_Y = (223, 21)\n"
     ]
    }
   ],
   "source": [
    "print(\"Shape of train_X = %s and train_Y = %s\" % (train_X.shape, train_Y.shape))\n",
    "print(\"Shape of val_X = %s and val_Y = %s\" % (val_X.shape, val_Y.shape))"
   ]
  },
  {
   "cell_type": "markdown",
   "metadata": {},
   "source": [
    "### Sequential Model\n",
    "[ conv ] -> [ batch norm ] -> [ relu ]\n",
    "\n",
    "A sequential model allows you to create models layer-by-layer in a step-by-step fashion\n",
    "\n",
    "We instantiate the sequential model first, then add each layer one at a time.\n",
    "Layers:\n",
    "    \n",
    "    Embedding:\n",
    "        Vocab size:\n",
    "        Input length:\n",
    "    Bidirectional:\n",
    "        LSTM:\n",
    "    Dense: Relu\n",
    "    Dropout: 0.5\n",
    "    Dense: Softmax"
   ]
  },
  {
   "cell_type": "code",
   "execution_count": 27,
   "metadata": {},
   "outputs": [],
   "source": [
    "def create_model(vocab_size, max_length):\n",
    "  model = Sequential()\n",
    "  model.add(Embedding(vocab_size, 128, input_length = max_length, trainable = False))\n",
    "  model.add(Bidirectional(LSTM(128)))\n",
    "#   model.add(LSTM(128))\n",
    "  model.add(Dense(32, activation = \"relu\"))\n",
    "  model.add(Dropout(0.5))\n",
    "  model.add(Dense(21, activation = \"softmax\"))\n",
    "  \n",
    "  return model"
   ]
  },
  {
   "cell_type": "markdown",
   "metadata": {},
   "source": [
    "### Compile and give summary of model\n",
    "#### Compile\n",
    "A loss function (or objective function, or optimization score function) is one of the two parameters required to compile a model. We use categorical cross entropy to train a CNN to output a probability over the C classes for each image. It is used for multi-class classification. It is also called softmax loss, a softmax activation plus a cross-entropy loss.\n",
    "\n",
    "Adam is an adaptive learning rate optimization algorithm designed to train deep neural nets. Adam computes individual learning rates for different parameters, using the first and second moments of gradient to adapt the learning rate for each weight of the neural network.\n",
    "\n"
   ]
  },
  {
   "cell_type": "code",
   "execution_count": 28,
   "metadata": {},
   "outputs": [
    {
     "name": "stdout",
     "output_type": "stream",
     "text": [
      "Model: \"sequential\"\n",
      "_________________________________________________________________\n",
      "Layer (type)                 Output Shape              Param #   \n",
      "=================================================================\n",
      "embedding (Embedding)        (None, 28, 128)           62976     \n",
      "_________________________________________________________________\n",
      "bidirectional (Bidirectional (None, 256)               263168    \n",
      "_________________________________________________________________\n",
      "dense (Dense)                (None, 32)                8224      \n",
      "_________________________________________________________________\n",
      "dropout (Dropout)            (None, 32)                0         \n",
      "_________________________________________________________________\n",
      "dense_1 (Dense)              (None, 21)                693       \n",
      "=================================================================\n",
      "Total params: 335,061\n",
      "Trainable params: 272,085\n",
      "Non-trainable params: 62,976\n",
      "_________________________________________________________________\n"
     ]
    }
   ],
   "source": [
    "model = create_model(vocab_size, max_length)\n",
    "\n",
    "model.compile(loss = \"categorical_crossentropy\", optimizer = \"adam\", metrics = [\"accuracy\"])\n",
    "model.summary()"
   ]
  },
  {
   "cell_type": "markdown",
   "metadata": {},
   "source": [
    "## Train Model\n",
    "Uses checkpoint to save best model at each training"
   ]
  },
  {
   "cell_type": "code",
   "execution_count": 29,
   "metadata": {},
   "outputs": [
    {
     "name": "stdout",
     "output_type": "stream",
     "text": [
      "Train on 890 samples, validate on 223 samples\n",
      "Epoch 1/100\n",
      "864/890 [============================>.] - ETA: 0s - loss: 2.9805 - accuracy: 0.1181\n",
      "Epoch 00001: val_loss improved from inf to 2.89138, saving model to model.h5\n",
      "890/890 [==============================] - 16s 18ms/sample - loss: 2.9801 - accuracy: 0.1180 - val_loss: 2.8914 - val_accuracy: 0.1256\n",
      "Epoch 2/100\n",
      "864/890 [============================>.] - ETA: 0s - loss: 2.9056 - accuracy: 0.1481\n",
      "Epoch 00002: val_loss improved from 2.89138 to 2.81374, saving model to model.h5\n",
      "890/890 [==============================] - 5s 6ms/sample - loss: 2.9081 - accuracy: 0.1483 - val_loss: 2.8137 - val_accuracy: 0.2646\n",
      "Epoch 3/100\n",
      "864/890 [============================>.] - ETA: 0s - loss: 2.8218 - accuracy: 0.1412\n",
      "Epoch 00003: val_loss improved from 2.81374 to 2.73351, saving model to model.h5\n",
      "890/890 [==============================] - 5s 6ms/sample - loss: 2.8217 - accuracy: 0.1404 - val_loss: 2.7335 - val_accuracy: 0.1839\n",
      "Epoch 4/100\n",
      "864/890 [============================>.] - ETA: 0s - loss: 2.7848 - accuracy: 0.1470\n",
      "Epoch 00004: val_loss improved from 2.73351 to 2.70432, saving model to model.h5\n",
      "890/890 [==============================] - 5s 6ms/sample - loss: 2.7786 - accuracy: 0.1506 - val_loss: 2.7043 - val_accuracy: 0.2422\n",
      "Epoch 5/100\n",
      "864/890 [============================>.] - ETA: 0s - loss: 2.7122 - accuracy: 0.1655\n",
      "Epoch 00005: val_loss improved from 2.70432 to 2.56915, saving model to model.h5\n",
      "890/890 [==============================] - 6s 7ms/sample - loss: 2.7094 - accuracy: 0.1652 - val_loss: 2.5692 - val_accuracy: 0.1839\n",
      "Epoch 6/100\n",
      "864/890 [============================>.] - ETA: 0s - loss: 2.5823 - accuracy: 0.2002\n",
      "Epoch 00006: val_loss improved from 2.56915 to 2.43322, saving model to model.h5\n",
      "890/890 [==============================] - 6s 6ms/sample - loss: 2.5744 - accuracy: 0.2022 - val_loss: 2.4332 - val_accuracy: 0.2735\n",
      "Epoch 7/100\n",
      "864/890 [============================>.] - ETA: 0s - loss: 2.4854 - accuracy: 0.2303\n",
      "Epoch 00007: val_loss improved from 2.43322 to 2.39440, saving model to model.h5\n",
      "890/890 [==============================] - 6s 7ms/sample - loss: 2.4883 - accuracy: 0.2281 - val_loss: 2.3944 - val_accuracy: 0.2915\n",
      "Epoch 8/100\n",
      "864/890 [============================>.] - ETA: 0s - loss: 2.3966 - accuracy: 0.2650\n",
      "Epoch 00008: val_loss improved from 2.39440 to 2.29890, saving model to model.h5\n",
      "890/890 [==============================] - 6s 7ms/sample - loss: 2.3983 - accuracy: 0.2640 - val_loss: 2.2989 - val_accuracy: 0.3587\n",
      "Epoch 9/100\n",
      "864/890 [============================>.] - ETA: 0s - loss: 2.2932 - accuracy: 0.2917\n",
      "Epoch 00009: val_loss improved from 2.29890 to 2.18376, saving model to model.h5\n",
      "890/890 [==============================] - 8s 8ms/sample - loss: 2.2843 - accuracy: 0.2944 - val_loss: 2.1838 - val_accuracy: 0.3498\n",
      "Epoch 10/100\n",
      "864/890 [============================>.] - ETA: 0s - loss: 2.1904 - accuracy: 0.3299\n",
      "Epoch 00010: val_loss improved from 2.18376 to 2.02262, saving model to model.h5\n",
      "890/890 [==============================] - 6s 7ms/sample - loss: 2.1815 - accuracy: 0.3303 - val_loss: 2.0226 - val_accuracy: 0.4170\n",
      "Epoch 11/100\n",
      "864/890 [============================>.] - ETA: 0s - loss: 2.0838 - accuracy: 0.3704\n",
      "Epoch 00011: val_loss improved from 2.02262 to 2.00725, saving model to model.h5\n",
      "890/890 [==============================] - 5s 6ms/sample - loss: 2.0825 - accuracy: 0.3719 - val_loss: 2.0072 - val_accuracy: 0.4126\n",
      "Epoch 12/100\n",
      "864/890 [============================>.] - ETA: 0s - loss: 1.9848 - accuracy: 0.3831\n",
      "Epoch 00012: val_loss improved from 2.00725 to 1.79204, saving model to model.h5\n",
      "890/890 [==============================] - 5s 6ms/sample - loss: 1.9869 - accuracy: 0.3820 - val_loss: 1.7920 - val_accuracy: 0.5067\n",
      "Epoch 13/100\n",
      "864/890 [============================>.] - ETA: 0s - loss: 1.9059 - accuracy: 0.4178\n",
      "Epoch 00013: val_loss improved from 1.79204 to 1.72724, saving model to model.h5\n",
      "890/890 [==============================] - 7s 8ms/sample - loss: 1.9067 - accuracy: 0.4191 - val_loss: 1.7272 - val_accuracy: 0.4798\n",
      "Epoch 14/100\n",
      "864/890 [============================>.] - ETA: 0s - loss: 1.8384 - accuracy: 0.4583\n",
      "Epoch 00014: val_loss improved from 1.72724 to 1.60256, saving model to model.h5\n",
      "890/890 [==============================] - 6s 7ms/sample - loss: 1.8255 - accuracy: 0.4584 - val_loss: 1.6026 - val_accuracy: 0.5381\n",
      "Epoch 15/100\n",
      "864/890 [============================>.] - ETA: 0s - loss: 1.7359 - accuracy: 0.4850\n",
      "Epoch 00015: val_loss improved from 1.60256 to 1.55740, saving model to model.h5\n",
      "890/890 [==============================] - 6s 7ms/sample - loss: 1.7299 - accuracy: 0.4843 - val_loss: 1.5574 - val_accuracy: 0.5830\n",
      "Epoch 16/100\n",
      "864/890 [============================>.] - ETA: 0s - loss: 1.6326 - accuracy: 0.5069\n",
      "Epoch 00016: val_loss improved from 1.55740 to 1.54971, saving model to model.h5\n",
      "890/890 [==============================] - 6s 7ms/sample - loss: 1.6332 - accuracy: 0.5056 - val_loss: 1.5497 - val_accuracy: 0.6323\n",
      "Epoch 17/100\n",
      "864/890 [============================>.] - ETA: 0s - loss: 1.6983 - accuracy: 0.4711\n",
      "Epoch 00017: val_loss improved from 1.54971 to 1.52417, saving model to model.h5\n",
      "890/890 [==============================] - 6s 6ms/sample - loss: 1.6999 - accuracy: 0.4730 - val_loss: 1.5242 - val_accuracy: 0.5695\n",
      "Epoch 18/100\n",
      "864/890 [============================>.] - ETA: 0s - loss: 1.5902 - accuracy: 0.5521\n",
      "Epoch 00018: val_loss improved from 1.52417 to 1.45109, saving model to model.h5\n",
      "890/890 [==============================] - 6s 7ms/sample - loss: 1.5895 - accuracy: 0.5517 - val_loss: 1.4511 - val_accuracy: 0.5561\n",
      "Epoch 19/100\n",
      "864/890 [============================>.] - ETA: 0s - loss: 1.4534 - accuracy: 0.5706\n",
      "Epoch 00019: val_loss improved from 1.45109 to 1.33293, saving model to model.h5\n",
      "890/890 [==============================] - 6s 6ms/sample - loss: 1.4477 - accuracy: 0.5697 - val_loss: 1.3329 - val_accuracy: 0.6188\n",
      "Epoch 20/100\n",
      "864/890 [============================>.] - ETA: 0s - loss: 1.4315 - accuracy: 0.5822\n",
      "Epoch 00020: val_loss improved from 1.33293 to 1.32293, saving model to model.h5\n",
      "890/890 [==============================] - 6s 7ms/sample - loss: 1.4311 - accuracy: 0.5820 - val_loss: 1.3229 - val_accuracy: 0.6143\n",
      "Epoch 21/100\n",
      "864/890 [============================>.] - ETA: 0s - loss: 1.3680 - accuracy: 0.5961\n",
      "Epoch 00021: val_loss did not improve from 1.32293\n",
      "890/890 [==============================] - 8s 9ms/sample - loss: 1.3677 - accuracy: 0.5944 - val_loss: 1.3477 - val_accuracy: 0.6188\n",
      "Epoch 22/100\n",
      "864/890 [============================>.] - ETA: 0s - loss: 1.2739 - accuracy: 0.6088\n",
      "Epoch 00022: val_loss improved from 1.32293 to 1.18546, saving model to model.h5\n",
      "890/890 [==============================] - 8s 9ms/sample - loss: 1.2695 - accuracy: 0.6079 - val_loss: 1.1855 - val_accuracy: 0.6726\n",
      "Epoch 23/100\n",
      "864/890 [============================>.] - ETA: 0s - loss: 1.2630 - accuracy: 0.6343\n",
      "Epoch 00023: val_loss did not improve from 1.18546\n",
      "890/890 [==============================] - 9s 10ms/sample - loss: 1.2537 - accuracy: 0.6348 - val_loss: 1.1954 - val_accuracy: 0.6771\n",
      "Epoch 24/100\n",
      "864/890 [============================>.] - ETA: 0s - loss: 1.2013 - accuracy: 0.6319\n",
      "Epoch 00024: val_loss improved from 1.18546 to 1.17347, saving model to model.h5\n",
      "890/890 [==============================] - 6s 6ms/sample - loss: 1.1999 - accuracy: 0.6348 - val_loss: 1.1735 - val_accuracy: 0.6771\n",
      "Epoch 25/100\n",
      "864/890 [============================>.] - ETA: 0s - loss: 1.1842 - accuracy: 0.6516\n",
      "Epoch 00025: val_loss improved from 1.17347 to 1.12220, saving model to model.h5\n",
      "890/890 [==============================] - 6s 7ms/sample - loss: 1.1816 - accuracy: 0.6494 - val_loss: 1.1222 - val_accuracy: 0.7040\n",
      "Epoch 26/100\n",
      "864/890 [============================>.] - ETA: 0s - loss: 1.1860 - accuracy: 0.6586\n",
      "Epoch 00026: val_loss did not improve from 1.12220\n",
      "890/890 [==============================] - 6s 6ms/sample - loss: 1.1824 - accuracy: 0.6596 - val_loss: 1.3115 - val_accuracy: 0.6726\n",
      "Epoch 27/100\n",
      "864/890 [============================>.] - ETA: 0s - loss: 1.1549 - accuracy: 0.6597\n",
      "Epoch 00027: val_loss improved from 1.12220 to 1.11011, saving model to model.h5\n",
      "890/890 [==============================] - 6s 7ms/sample - loss: 1.1468 - accuracy: 0.6618 - val_loss: 1.1101 - val_accuracy: 0.6951\n",
      "Epoch 28/100\n",
      "864/890 [============================>.] - ETA: 0s - loss: 1.1640 - accuracy: 0.6551\n",
      "Epoch 00028: val_loss did not improve from 1.11011\n",
      "890/890 [==============================] - 7s 7ms/sample - loss: 1.1615 - accuracy: 0.6562 - val_loss: 1.1163 - val_accuracy: 0.7085\n",
      "Epoch 29/100\n",
      "864/890 [============================>.] - ETA: 0s - loss: 1.0835 - accuracy: 0.6829\n",
      "Epoch 00029: val_loss improved from 1.11011 to 1.02076, saving model to model.h5\n",
      "890/890 [==============================] - 6s 6ms/sample - loss: 1.0881 - accuracy: 0.6798 - val_loss: 1.0208 - val_accuracy: 0.7130\n",
      "Epoch 30/100\n",
      "864/890 [============================>.] - ETA: 0s - loss: 1.0258 - accuracy: 0.6921\n",
      "Epoch 00030: val_loss did not improve from 1.02076\n",
      "890/890 [==============================] - 5s 6ms/sample - loss: 1.0310 - accuracy: 0.6899 - val_loss: 1.0614 - val_accuracy: 0.7040\n",
      "Epoch 31/100\n",
      "864/890 [============================>.] - ETA: 0s - loss: 1.0186 - accuracy: 0.6910\n",
      "Epoch 00031: val_loss improved from 1.02076 to 0.95400, saving model to model.h5\n",
      "890/890 [==============================] - 7s 8ms/sample - loss: 1.0293 - accuracy: 0.6899 - val_loss: 0.9540 - val_accuracy: 0.7399\n",
      "Epoch 32/100\n",
      "864/890 [============================>.] - ETA: 0s - loss: 1.0480 - accuracy: 0.6794\n",
      "Epoch 00032: val_loss did not improve from 0.95400\n",
      "890/890 [==============================] - 6s 7ms/sample - loss: 1.0395 - accuracy: 0.6820 - val_loss: 1.2427 - val_accuracy: 0.6502\n",
      "Epoch 33/100\n",
      "864/890 [============================>.] - ETA: 0s - loss: 1.1172 - accuracy: 0.6667\n",
      "Epoch 00033: val_loss did not improve from 0.95400\n",
      "890/890 [==============================] - 6s 7ms/sample - loss: 1.1080 - accuracy: 0.6685 - val_loss: 1.0062 - val_accuracy: 0.7175\n",
      "Epoch 34/100\n",
      "864/890 [============================>.] - ETA: 0s - loss: 1.0039 - accuracy: 0.6910\n",
      "Epoch 00034: val_loss did not improve from 0.95400\n",
      "890/890 [==============================] - 6s 7ms/sample - loss: 1.0113 - accuracy: 0.6888 - val_loss: 1.0455 - val_accuracy: 0.7130\n",
      "Epoch 35/100\n",
      "864/890 [============================>.] - ETA: 0s - loss: 0.9897 - accuracy: 0.7083\n",
      "Epoch 00035: val_loss did not improve from 0.95400\n",
      "890/890 [==============================] - 6s 7ms/sample - loss: 0.9838 - accuracy: 0.7079 - val_loss: 1.0223 - val_accuracy: 0.7444\n",
      "Epoch 36/100\n",
      "864/890 [============================>.] - ETA: 0s - loss: 0.9407 - accuracy: 0.6910\n",
      "Epoch 00036: val_loss did not improve from 0.95400\n",
      "890/890 [==============================] - 6s 7ms/sample - loss: 0.9267 - accuracy: 0.6944 - val_loss: 0.9952 - val_accuracy: 0.7309\n",
      "Epoch 37/100\n",
      "864/890 [============================>.] - ETA: 0s - loss: 0.9129 - accuracy: 0.7245\n",
      "Epoch 00037: val_loss did not improve from 0.95400\n",
      "890/890 [==============================] - 6s 7ms/sample - loss: 0.9093 - accuracy: 0.7247 - val_loss: 0.9987 - val_accuracy: 0.7220\n",
      "Epoch 38/100\n",
      "864/890 [============================>.] - ETA: 0s - loss: 0.8630 - accuracy: 0.7338\n",
      "Epoch 00038: val_loss did not improve from 0.95400\n",
      "890/890 [==============================] - 7s 8ms/sample - loss: 0.8565 - accuracy: 0.7360 - val_loss: 1.2123 - val_accuracy: 0.7489\n",
      "Epoch 39/100\n",
      "864/890 [============================>.] - ETA: 0s - loss: 0.9940 - accuracy: 0.7153\n",
      "Epoch 00039: val_loss did not improve from 0.95400\n",
      "890/890 [==============================] - 6s 7ms/sample - loss: 0.9935 - accuracy: 0.7146 - val_loss: 1.1001 - val_accuracy: 0.7220\n",
      "Epoch 40/100\n",
      "864/890 [============================>.] - ETA: 0s - loss: 0.8932 - accuracy: 0.7130\n",
      "Epoch 00040: val_loss improved from 0.95400 to 0.93627, saving model to model.h5\n",
      "890/890 [==============================] - 7s 7ms/sample - loss: 0.8993 - accuracy: 0.7124 - val_loss: 0.9363 - val_accuracy: 0.7265\n",
      "Epoch 41/100\n",
      "864/890 [============================>.] - ETA: 0s - loss: 0.8317 - accuracy: 0.7303\n",
      "Epoch 00041: val_loss did not improve from 0.93627\n",
      "890/890 [==============================] - 9s 11ms/sample - loss: 0.8245 - accuracy: 0.7348 - val_loss: 0.9603 - val_accuracy: 0.7309\n",
      "Epoch 42/100\n",
      "864/890 [============================>.] - ETA: 0s - loss: 0.7923 - accuracy: 0.7593\n",
      "Epoch 00042: val_loss improved from 0.93627 to 0.85778, saving model to model.h5\n",
      "890/890 [==============================] - 6s 6ms/sample - loss: 0.7874 - accuracy: 0.7618 - val_loss: 0.8578 - val_accuracy: 0.7668\n",
      "Epoch 43/100\n",
      "864/890 [============================>.] - ETA: 0s - loss: 0.7706 - accuracy: 0.7616\n",
      "Epoch 00043: val_loss did not improve from 0.85778\n",
      "890/890 [==============================] - 6s 7ms/sample - loss: 0.7779 - accuracy: 0.7607 - val_loss: 1.0607 - val_accuracy: 0.7489\n",
      "Epoch 44/100\n",
      "864/890 [============================>.] - ETA: 0s - loss: 0.7870 - accuracy: 0.7384\n",
      "Epoch 00044: val_loss did not improve from 0.85778\n",
      "890/890 [==============================] - 5s 6ms/sample - loss: 0.7841 - accuracy: 0.7393 - val_loss: 0.9656 - val_accuracy: 0.7578\n",
      "Epoch 45/100\n",
      "864/890 [============================>.] - ETA: 0s - loss: 0.7769 - accuracy: 0.7616\n",
      "Epoch 00045: val_loss did not improve from 0.85778\n",
      "890/890 [==============================] - 6s 6ms/sample - loss: 0.7740 - accuracy: 0.7629 - val_loss: 1.0267 - val_accuracy: 0.7578\n",
      "Epoch 46/100\n",
      "864/890 [============================>.] - ETA: 0s - loss: 0.8028 - accuracy: 0.7650\n",
      "Epoch 00046: val_loss did not improve from 0.85778\n",
      "890/890 [==============================] - 10s 11ms/sample - loss: 0.8050 - accuracy: 0.7652 - val_loss: 0.9129 - val_accuracy: 0.7534\n",
      "Epoch 47/100\n",
      "864/890 [============================>.] - ETA: 0s - loss: 0.7187 - accuracy: 0.7731\n",
      "Epoch 00047: val_loss did not improve from 0.85778\n",
      "890/890 [==============================] - 7s 8ms/sample - loss: 0.7216 - accuracy: 0.7730 - val_loss: 0.9630 - val_accuracy: 0.7758\n",
      "Epoch 48/100\n",
      "864/890 [============================>.] - ETA: 0s - loss: 0.6778 - accuracy: 0.7905\n",
      "Epoch 00048: val_loss did not improve from 0.85778\n",
      "890/890 [==============================] - 6s 7ms/sample - loss: 0.6731 - accuracy: 0.7921 - val_loss: 0.9436 - val_accuracy: 0.7713\n",
      "Epoch 49/100\n",
      "864/890 [============================>.] - ETA: 0s - loss: 0.6666 - accuracy: 0.7824\n",
      "Epoch 00049: val_loss did not improve from 0.85778\n",
      "890/890 [==============================] - 6s 6ms/sample - loss: 0.6761 - accuracy: 0.7787 - val_loss: 0.8869 - val_accuracy: 0.7444\n",
      "Epoch 50/100\n",
      "864/890 [============================>.] - ETA: 0s - loss: 0.6946 - accuracy: 0.7708\n",
      "Epoch 00050: val_loss did not improve from 0.85778\n",
      "890/890 [==============================] - 7s 8ms/sample - loss: 0.6906 - accuracy: 0.7719 - val_loss: 0.8584 - val_accuracy: 0.7758\n",
      "Epoch 51/100\n",
      "864/890 [============================>.] - ETA: 0s - loss: 0.7046 - accuracy: 0.7685\n",
      "Epoch 00051: val_loss did not improve from 0.85778\n",
      "890/890 [==============================] - 6s 7ms/sample - loss: 0.7092 - accuracy: 0.7674 - val_loss: 0.8970 - val_accuracy: 0.7668\n",
      "Epoch 52/100\n",
      "864/890 [============================>.] - ETA: 0s - loss: 0.6626 - accuracy: 0.7975\n",
      "Epoch 00052: val_loss did not improve from 0.85778\n",
      "890/890 [==============================] - 6s 6ms/sample - loss: 0.6610 - accuracy: 0.7955 - val_loss: 0.9983 - val_accuracy: 0.7399\n",
      "Epoch 53/100\n",
      "864/890 [============================>.] - ETA: 0s - loss: 0.7297 - accuracy: 0.7731\n",
      "Epoch 00053: val_loss improved from 0.85778 to 0.84099, saving model to model.h5\n",
      "890/890 [==============================] - 6s 7ms/sample - loss: 0.7301 - accuracy: 0.7730 - val_loss: 0.8410 - val_accuracy: 0.7668\n",
      "Epoch 54/100\n",
      "864/890 [============================>.] - ETA: 0s - loss: 0.6736 - accuracy: 0.7894\n",
      "Epoch 00054: val_loss did not improve from 0.84099\n",
      "890/890 [==============================] - 6s 6ms/sample - loss: 0.6780 - accuracy: 0.7876 - val_loss: 0.9052 - val_accuracy: 0.7534\n",
      "Epoch 55/100\n",
      "864/890 [============================>.] - ETA: 0s - loss: 0.6617 - accuracy: 0.7812\n",
      "Epoch 00055: val_loss did not improve from 0.84099\n",
      "890/890 [==============================] - 6s 7ms/sample - loss: 0.6623 - accuracy: 0.7809 - val_loss: 0.9995 - val_accuracy: 0.7713\n",
      "Epoch 56/100\n",
      "864/890 [============================>.] - ETA: 0s - loss: 0.6070 - accuracy: 0.7986\n",
      "Epoch 00056: val_loss did not improve from 0.84099\n",
      "890/890 [==============================] - 6s 6ms/sample - loss: 0.6053 - accuracy: 0.7989 - val_loss: 1.1289 - val_accuracy: 0.7489\n",
      "Epoch 57/100\n",
      "864/890 [============================>.] - ETA: 0s - loss: 0.6658 - accuracy: 0.7975\n",
      "Epoch 00057: val_loss did not improve from 0.84099\n",
      "890/890 [==============================] - 6s 6ms/sample - loss: 0.6624 - accuracy: 0.7989 - val_loss: 1.0008 - val_accuracy: 0.7444\n",
      "Epoch 58/100\n",
      "864/890 [============================>.] - ETA: 0s - loss: 0.5739 - accuracy: 0.8218\n",
      "Epoch 00058: val_loss did not improve from 0.84099\n",
      "890/890 [==============================] - 6s 6ms/sample - loss: 0.5828 - accuracy: 0.8213 - val_loss: 0.9184 - val_accuracy: 0.7713\n",
      "Epoch 59/100\n",
      "864/890 [============================>.] - ETA: 0s - loss: 0.5854 - accuracy: 0.8160\n",
      "Epoch 00059: val_loss improved from 0.84099 to 0.82054, saving model to model.h5\n",
      "890/890 [==============================] - 6s 7ms/sample - loss: 0.5837 - accuracy: 0.8157 - val_loss: 0.8205 - val_accuracy: 0.7803\n",
      "Epoch 60/100\n",
      "864/890 [============================>.] - ETA: 0s - loss: 0.5527 - accuracy: 0.8113\n",
      "Epoch 00060: val_loss did not improve from 0.82054\n",
      "890/890 [==============================] - 6s 7ms/sample - loss: 0.5462 - accuracy: 0.8157 - val_loss: 0.9952 - val_accuracy: 0.7623\n",
      "Epoch 61/100\n",
      "864/890 [============================>.] - ETA: 0s - loss: 0.5781 - accuracy: 0.8137\n",
      "Epoch 00061: val_loss did not improve from 0.82054\n",
      "890/890 [==============================] - 6s 6ms/sample - loss: 0.5769 - accuracy: 0.8157 - val_loss: 0.9699 - val_accuracy: 0.7534\n",
      "Epoch 62/100\n",
      "864/890 [============================>.] - ETA: 0s - loss: 0.5743 - accuracy: 0.8160\n",
      "Epoch 00062: val_loss did not improve from 0.82054\n",
      "890/890 [==============================] - 6s 6ms/sample - loss: 0.5734 - accuracy: 0.8146 - val_loss: 1.1523 - val_accuracy: 0.7668\n",
      "Epoch 63/100\n",
      "864/890 [============================>.] - ETA: 0s - loss: 0.5330 - accuracy: 0.8206\n",
      "Epoch 00063: val_loss did not improve from 0.82054\n",
      "890/890 [==============================] - 6s 6ms/sample - loss: 0.5369 - accuracy: 0.8202 - val_loss: 1.0992 - val_accuracy: 0.7758\n",
      "Epoch 64/100\n",
      "864/890 [============================>.] - ETA: 0s - loss: 0.5847 - accuracy: 0.8137\n",
      "Epoch 00064: val_loss did not improve from 0.82054\n",
      "890/890 [==============================] - 6s 7ms/sample - loss: 0.5806 - accuracy: 0.8146 - val_loss: 1.2094 - val_accuracy: 0.7713\n",
      "Epoch 65/100\n",
      "864/890 [============================>.] - ETA: 0s - loss: 0.5957 - accuracy: 0.7963\n",
      "Epoch 00065: val_loss did not improve from 0.82054\n",
      "890/890 [==============================] - 6s 6ms/sample - loss: 0.5945 - accuracy: 0.7955 - val_loss: 1.0335 - val_accuracy: 0.7534\n",
      "Epoch 66/100\n",
      "864/890 [============================>.] - ETA: 0s - loss: 0.5693 - accuracy: 0.8206\n",
      "Epoch 00066: val_loss did not improve from 0.82054\n",
      "890/890 [==============================] - 7s 8ms/sample - loss: 0.5755 - accuracy: 0.8202 - val_loss: 0.9045 - val_accuracy: 0.7803\n",
      "Epoch 67/100\n",
      "864/890 [============================>.] - ETA: 0s - loss: 0.6187 - accuracy: 0.8090\n",
      "Epoch 00067: val_loss did not improve from 0.82054\n",
      "890/890 [==============================] - 6s 7ms/sample - loss: 0.6496 - accuracy: 0.8045 - val_loss: 0.9309 - val_accuracy: 0.7713\n",
      "Epoch 68/100\n",
      "864/890 [============================>.] - ETA: 0s - loss: 0.7283 - accuracy: 0.7778\n",
      "Epoch 00068: val_loss improved from 0.82054 to 0.81093, saving model to model.h5\n",
      "890/890 [==============================] - 6s 7ms/sample - loss: 0.7215 - accuracy: 0.7775 - val_loss: 0.8109 - val_accuracy: 0.7399\n",
      "Epoch 69/100\n",
      "864/890 [============================>.] - ETA: 0s - loss: 0.5778 - accuracy: 0.8113\n",
      "Epoch 00069: val_loss did not improve from 0.81093\n",
      "890/890 [==============================] - 6s 7ms/sample - loss: 0.5808 - accuracy: 0.8101 - val_loss: 0.8237 - val_accuracy: 0.7892\n",
      "Epoch 70/100\n",
      "864/890 [============================>.] - ETA: 0s - loss: 0.5694 - accuracy: 0.8183\n",
      "Epoch 00070: val_loss did not improve from 0.81093\n",
      "890/890 [==============================] - 6s 6ms/sample - loss: 0.5628 - accuracy: 0.8213 - val_loss: 0.9994 - val_accuracy: 0.7534\n",
      "Epoch 71/100\n",
      "864/890 [============================>.] - ETA: 0s - loss: 0.5566 - accuracy: 0.8241\n",
      "Epoch 00071: val_loss improved from 0.81093 to 0.78249, saving model to model.h5\n",
      "890/890 [==============================] - 6s 6ms/sample - loss: 0.5611 - accuracy: 0.8202 - val_loss: 0.7825 - val_accuracy: 0.7758\n",
      "Epoch 72/100\n",
      "864/890 [============================>.] - ETA: 0s - loss: 0.5364 - accuracy: 0.8241\n",
      "Epoch 00072: val_loss did not improve from 0.78249\n",
      "890/890 [==============================] - 6s 7ms/sample - loss: 0.5315 - accuracy: 0.8247 - val_loss: 0.8608 - val_accuracy: 0.7668\n",
      "Epoch 73/100\n",
      "864/890 [============================>.] - ETA: 0s - loss: 0.4693 - accuracy: 0.8484\n",
      "Epoch 00073: val_loss improved from 0.78249 to 0.78180, saving model to model.h5\n",
      "890/890 [==============================] - 6s 7ms/sample - loss: 0.4742 - accuracy: 0.8472 - val_loss: 0.7818 - val_accuracy: 0.7892\n",
      "Epoch 74/100\n",
      "864/890 [============================>.] - ETA: 0s - loss: 0.4741 - accuracy: 0.8403\n",
      "Epoch 00074: val_loss did not improve from 0.78180\n",
      "890/890 [==============================] - 6s 7ms/sample - loss: 0.4757 - accuracy: 0.8404 - val_loss: 0.9355 - val_accuracy: 0.7892\n",
      "Epoch 75/100\n",
      "864/890 [============================>.] - ETA: 0s - loss: 0.4842 - accuracy: 0.8426\n",
      "Epoch 00075: val_loss did not improve from 0.78180\n",
      "890/890 [==============================] - 6s 6ms/sample - loss: 0.4851 - accuracy: 0.8427 - val_loss: 0.8733 - val_accuracy: 0.7982\n",
      "Epoch 76/100\n",
      "864/890 [============================>.] - ETA: 0s - loss: 0.4684 - accuracy: 0.8600\n",
      "Epoch 00076: val_loss improved from 0.78180 to 0.76922, saving model to model.h5\n",
      "890/890 [==============================] - 6s 6ms/sample - loss: 0.4630 - accuracy: 0.8618 - val_loss: 0.7692 - val_accuracy: 0.8072\n",
      "Epoch 77/100\n",
      "864/890 [============================>.] - ETA: 0s - loss: 0.4654 - accuracy: 0.8449\n",
      "Epoch 00077: val_loss did not improve from 0.76922\n",
      "890/890 [==============================] - 6s 7ms/sample - loss: 0.4590 - accuracy: 0.8472 - val_loss: 0.8729 - val_accuracy: 0.7937\n",
      "Epoch 78/100\n",
      "864/890 [============================>.] - ETA: 0s - loss: 0.4372 - accuracy: 0.8542\n",
      "Epoch 00078: val_loss did not improve from 0.76922\n",
      "890/890 [==============================] - 6s 6ms/sample - loss: 0.4376 - accuracy: 0.8551 - val_loss: 0.9067 - val_accuracy: 0.7982\n",
      "Epoch 79/100\n",
      "864/890 [============================>.] - ETA: 0s - loss: 0.4393 - accuracy: 0.8623\n",
      "Epoch 00079: val_loss did not improve from 0.76922\n",
      "890/890 [==============================] - 6s 7ms/sample - loss: 0.4296 - accuracy: 0.8652 - val_loss: 1.0294 - val_accuracy: 0.7848\n",
      "Epoch 80/100\n",
      "864/890 [============================>.] - ETA: 0s - loss: 0.4795 - accuracy: 0.8438\n",
      "Epoch 00080: val_loss did not improve from 0.76922\n",
      "890/890 [==============================] - 6s 7ms/sample - loss: 0.4799 - accuracy: 0.8438 - val_loss: 0.8351 - val_accuracy: 0.7982\n",
      "Epoch 81/100\n",
      "864/890 [============================>.] - ETA: 0s - loss: 0.4315 - accuracy: 0.8750\n",
      "Epoch 00081: val_loss improved from 0.76922 to 0.74217, saving model to model.h5\n",
      "890/890 [==============================] - 6s 7ms/sample - loss: 0.4390 - accuracy: 0.8730 - val_loss: 0.7422 - val_accuracy: 0.8296\n",
      "Epoch 82/100\n",
      "864/890 [============================>.] - ETA: 0s - loss: 0.4195 - accuracy: 0.8611\n",
      "Epoch 00082: val_loss did not improve from 0.74217\n",
      "890/890 [==============================] - 6s 7ms/sample - loss: 0.4179 - accuracy: 0.8618 - val_loss: 0.7567 - val_accuracy: 0.8251\n",
      "Epoch 83/100\n",
      "864/890 [============================>.] - ETA: 0s - loss: 0.3791 - accuracy: 0.8634\n",
      "Epoch 00083: val_loss did not improve from 0.74217\n",
      "890/890 [==============================] - 6s 7ms/sample - loss: 0.3818 - accuracy: 0.8629 - val_loss: 0.9656 - val_accuracy: 0.8072\n",
      "Epoch 84/100\n",
      "864/890 [============================>.] - ETA: 0s - loss: 0.5798 - accuracy: 0.8414\n",
      "Epoch 00084: val_loss did not improve from 0.74217\n",
      "890/890 [==============================] - 6s 6ms/sample - loss: 0.5738 - accuracy: 0.8427 - val_loss: 0.7637 - val_accuracy: 0.7982\n",
      "Epoch 85/100\n",
      "864/890 [============================>.] - ETA: 0s - loss: 0.5242 - accuracy: 0.8368\n",
      "Epoch 00085: val_loss did not improve from 0.74217\n",
      "890/890 [==============================] - 6s 6ms/sample - loss: 0.5284 - accuracy: 0.8348 - val_loss: 0.8313 - val_accuracy: 0.8206\n",
      "Epoch 86/100\n",
      "864/890 [============================>.] - ETA: 0s - loss: 0.4459 - accuracy: 0.8565\n",
      "Epoch 00086: val_loss did not improve from 0.74217\n",
      "890/890 [==============================] - 9s 10ms/sample - loss: 0.4422 - accuracy: 0.8573 - val_loss: 0.9649 - val_accuracy: 0.8072\n",
      "Epoch 87/100\n",
      "864/890 [============================>.] - ETA: 0s - loss: 0.4005 - accuracy: 0.8738\n",
      "Epoch 00087: val_loss did not improve from 0.74217\n",
      "890/890 [==============================] - 12s 13ms/sample - loss: 0.4000 - accuracy: 0.8753 - val_loss: 0.9976 - val_accuracy: 0.8072\n",
      "Epoch 88/100\n",
      "864/890 [============================>.] - ETA: 0s - loss: 0.3934 - accuracy: 0.8669\n",
      "Epoch 00088: val_loss did not improve from 0.74217\n",
      "890/890 [==============================] - 6s 7ms/sample - loss: 0.3909 - accuracy: 0.8663 - val_loss: 0.9463 - val_accuracy: 0.8117\n",
      "Epoch 89/100\n",
      "864/890 [============================>.] - ETA: 0s - loss: 0.3900 - accuracy: 0.8646\n",
      "Epoch 00089: val_loss did not improve from 0.74217\n",
      "890/890 [==============================] - 6s 7ms/sample - loss: 0.3858 - accuracy: 0.8674 - val_loss: 1.0578 - val_accuracy: 0.7803\n",
      "Epoch 90/100\n",
      "864/890 [============================>.] - ETA: 0s - loss: 0.4100 - accuracy: 0.8657\n",
      "Epoch 00090: val_loss did not improve from 0.74217\n",
      "890/890 [==============================] - 6s 7ms/sample - loss: 0.4073 - accuracy: 0.8663 - val_loss: 0.9458 - val_accuracy: 0.7848\n",
      "Epoch 91/100\n",
      "864/890 [============================>.] - ETA: 0s - loss: 0.5158 - accuracy: 0.8507\n",
      "Epoch 00091: val_loss did not improve from 0.74217\n",
      "890/890 [==============================] - 6s 7ms/sample - loss: 0.5201 - accuracy: 0.8483 - val_loss: 0.8382 - val_accuracy: 0.7982\n",
      "Epoch 92/100\n",
      "864/890 [============================>.] - ETA: 0s - loss: 0.4709 - accuracy: 0.8542 E\n",
      "Epoch 00092: val_loss did not improve from 0.74217\n",
      "890/890 [==============================] - 6s 7ms/sample - loss: 0.4778 - accuracy: 0.8506 - val_loss: 0.8425 - val_accuracy: 0.8027\n",
      "Epoch 93/100\n",
      "864/890 [============================>.] - ETA: 0s - loss: 0.4539 - accuracy: 0.8611\n",
      "Epoch 00093: val_loss improved from 0.74217 to 0.73219, saving model to model.h5\n",
      "890/890 [==============================] - 6s 6ms/sample - loss: 0.4465 - accuracy: 0.8629 - val_loss: 0.7322 - val_accuracy: 0.8027\n",
      "Epoch 94/100\n",
      "864/890 [============================>.] - ETA: 0s - loss: 0.4063 - accuracy: 0.8715\n",
      "Epoch 00094: val_loss did not improve from 0.73219\n",
      "890/890 [==============================] - 6s 6ms/sample - loss: 0.4027 - accuracy: 0.8719 - val_loss: 0.7927 - val_accuracy: 0.8341\n",
      "Epoch 95/100\n",
      "864/890 [============================>.] - ETA: 0s - loss: 0.3962 - accuracy: 0.8634\n",
      "Epoch 00095: val_loss did not improve from 0.73219\n",
      "890/890 [==============================] - 6s 7ms/sample - loss: 0.4038 - accuracy: 0.8596 - val_loss: 0.7945 - val_accuracy: 0.8206\n",
      "Epoch 96/100\n",
      "864/890 [============================>.] - ETA: 0s - loss: 0.3686 - accuracy: 0.8715\n",
      "Epoch 00096: val_loss did not improve from 0.73219\n",
      "890/890 [==============================] - 6s 7ms/sample - loss: 0.3731 - accuracy: 0.8708 - val_loss: 0.8076 - val_accuracy: 0.8161\n",
      "Epoch 97/100\n",
      "864/890 [============================>.] - ETA: 0s - loss: 0.3593 - accuracy: 0.8773\n",
      "Epoch 00097: val_loss did not improve from 0.73219\n",
      "890/890 [==============================] - 6s 7ms/sample - loss: 0.3561 - accuracy: 0.8775 - val_loss: 0.8993 - val_accuracy: 0.8117\n",
      "Epoch 98/100\n",
      "864/890 [============================>.] - ETA: 0s - loss: 0.3433 - accuracy: 0.8750\n",
      "Epoch 00098: val_loss did not improve from 0.73219\n",
      "890/890 [==============================] - 7s 8ms/sample - loss: 0.3463 - accuracy: 0.8742 - val_loss: 0.9196 - val_accuracy: 0.8027\n",
      "Epoch 99/100\n",
      "864/890 [============================>.] - ETA: 0s - loss: 0.3283 - accuracy: 0.8993\n",
      "Epoch 00099: val_loss did not improve from 0.73219\n",
      "890/890 [==============================] - 6s 7ms/sample - loss: 0.3359 - accuracy: 0.8944 - val_loss: 0.8494 - val_accuracy: 0.8206\n",
      "Epoch 100/100\n",
      "864/890 [============================>.] - ETA: 0s - loss: 0.3525 - accuracy: 0.8866\n",
      "Epoch 00100: val_loss did not improve from 0.73219\n",
      "890/890 [==============================] - 6s 7ms/sample - loss: 0.3474 - accuracy: 0.8876 - val_loss: 0.9110 - val_accuracy: 0.8117\n"
     ]
    }
   ],
   "source": [
    "filename = 'model.h5'\n",
    "checkpoint = ModelCheckpoint(filename, monitor='val_loss', verbose=1, save_best_only=True, mode='min')\n",
    "\n",
    "hist = model.fit(train_X, train_Y, epochs = 100, batch_size = 32, validation_data = (val_X, val_Y), callbacks = [checkpoint])"
   ]
  },
  {
   "cell_type": "markdown",
   "metadata": {},
   "source": [
    "## Load Model\n",
    "Loads the best model found from training above, model.h5"
   ]
  },
  {
   "cell_type": "code",
   "execution_count": 37,
   "metadata": {},
   "outputs": [],
   "source": [
    "model = load_model(\"model.h5\")"
   ]
  },
  {
   "cell_type": "markdown",
   "metadata": {},
   "source": [
    "### Get predicted probability for a given text"
   ]
  },
  {
   "cell_type": "code",
   "execution_count": 31,
   "metadata": {},
   "outputs": [],
   "source": [
    "\n",
    "def predictions(text):\n",
    "  clean = re.sub(r'[^ a-z A-Z 0-9]', \" \", text)\n",
    "  test_word = word_tokenize(clean)\n",
    "  test_word = [w.lower() for w in test_word]\n",
    "  test_ls = word_tokenizer.texts_to_sequences(test_word)\n",
    "  print(test_word)\n",
    "  #Check for unknown words\n",
    "  if [] in test_ls:\n",
    "    test_ls = list(filter(None, test_ls))\n",
    "    \n",
    "  test_ls = np.array(test_ls).reshape(1, len(test_ls))\n",
    " \n",
    "  x = padding_doc(test_ls, max_length)\n",
    "  \n",
    "  pred = model.predict_proba(x)\n",
    "  \n",
    "  \n",
    "  return pred"
   ]
  },
  {
   "cell_type": "markdown",
   "metadata": {},
   "source": [
    "### Get final output for the prediction and the classes of intents"
   ]
  },
  {
   "cell_type": "code",
   "execution_count": 32,
   "metadata": {},
   "outputs": [],
   "source": [
    "\n",
    "def get_final_output(pred, classes):\n",
    "  predictions = pred[0]\n",
    " \n",
    "  classes = np.array(classes)\n",
    "  ids = np.argsort(-predictions)\n",
    "  classes = classes[ids]\n",
    "  predictions = -np.sort(-predictions)\n",
    " \n",
    "  for i in range(pred.shape[1]):\n",
    "    print(\"%s has confidence = %s\" % (classes[i], (predictions[i])))"
   ]
  },
  {
   "cell_type": "markdown",
   "metadata": {},
   "source": [
    "### Use the model =]"
   ]
  },
  {
   "cell_type": "code",
   "execution_count": 33,
   "metadata": {},
   "outputs": [
    {
     "name": "stdout",
     "output_type": "stream",
     "text": [
      "['can', 'you', 'help', 'me']\n",
      "commonQ.assist has confidence = 0.32932204\n",
      "commonQ.query has confidence = 0.139143\n",
      "contact.contact has confidence = 0.09659231\n",
      "commonQ.bot has confidence = 0.08079043\n",
      "faq.biz_new has confidence = 0.077273935\n",
      "commonQ.name has confidence = 0.07718031\n",
      "commonQ.how has confidence = 0.069322\n",
      "faq.bad_service has confidence = 0.059703138\n",
      "faq.apply_register has confidence = 0.022363504\n",
      "commonQ.wait has confidence = 0.014274337\n",
      "commonQ.not_giving has confidence = 0.013744186\n",
      "faq.aadhaar_missing has confidence = 0.006254018\n",
      "commonQ.just_details has confidence = 0.0044244975\n",
      "faq.application_process has confidence = 0.0040695267\n",
      "faq.borrow_use has confidence = 0.0026477\n",
      "faq.borrow_limit has confidence = 0.0013174948\n",
      "faq.biz_simpler has confidence = 0.00070938957\n",
      "faq.approval_time has confidence = 0.00048008468\n",
      "faq.biz_category_missing has confidence = 0.00029588217\n",
      "faq.banking_option_missing has confidence = 6.383373e-05\n",
      "faq.address_proof has confidence = 2.8412622e-05\n"
     ]
    }
   ],
   "source": [
    "\n",
    "text = \"Can you help me?\"\n",
    "pred = predictions(text)\n",
    "get_final_output(pred, unique_intent)"
   ]
  },
  {
   "cell_type": "code",
   "execution_count": 38,
   "metadata": {},
   "outputs": [
    {
     "name": "stdout",
     "output_type": "stream",
     "text": [
      "['how', 'do', 'i', 'apply', 'for', 'this', 'position']\n",
      "faq.application_process has confidence = 0.9228019\n",
      "faq.apply_register has confidence = 0.07120995\n",
      "commonQ.assist has confidence = 0.0022965271\n",
      "contact.contact has confidence = 0.0022584863\n",
      "faq.borrow_use has confidence = 0.0011869266\n",
      "faq.biz_simpler has confidence = 7.222695e-05\n",
      "faq.approval_time has confidence = 3.9839113e-05\n",
      "faq.biz_new has confidence = 3.6369358e-05\n",
      "faq.borrow_limit has confidence = 2.3749713e-05\n",
      "faq.bad_service has confidence = 2.2953378e-05\n",
      "faq.biz_category_missing has confidence = 2.0747395e-05\n",
      "faq.banking_option_missing has confidence = 1.7692144e-05\n",
      "commonQ.how has confidence = 8.244553e-06\n",
      "commonQ.wait has confidence = 1.4011844e-06\n",
      "commonQ.query has confidence = 1.3473338e-06\n",
      "commonQ.name has confidence = 1.0343318e-06\n",
      "faq.aadhaar_missing has confidence = 3.699744e-07\n",
      "faq.address_proof has confidence = 1.3429752e-07\n",
      "commonQ.just_details has confidence = 1.1053147e-07\n",
      "commonQ.bot has confidence = 7.3278206e-09\n",
      "commonQ.not_giving has confidence = 4.5010147e-09\n"
     ]
    }
   ],
   "source": [
    "\n",
    "text = \"How do I apply for this position?\"\n",
    "pred = predictions(text)\n",
    "get_final_output(pred, unique_intent)"
   ]
  },
  {
   "cell_type": "code",
   "execution_count": 40,
   "metadata": {},
   "outputs": [
    {
     "name": "stdout",
     "output_type": "stream",
     "text": [
      "['wait', 'for', 'me']\n",
      "faq.apply_register has confidence = 0.2630215\n",
      "commonQ.assist has confidence = 0.1846362\n",
      "commonQ.how has confidence = 0.119165204\n",
      "commonQ.wait has confidence = 0.112347364\n",
      "contact.contact has confidence = 0.07797397\n",
      "commonQ.name has confidence = 0.052337676\n",
      "commonQ.bot has confidence = 0.045500476\n",
      "commonQ.query has confidence = 0.030452987\n",
      "faq.aadhaar_missing has confidence = 0.027099965\n",
      "faq.biz_new has confidence = 0.01953664\n",
      "commonQ.not_giving has confidence = 0.015911063\n",
      "faq.application_process has confidence = 0.01587559\n",
      "faq.bad_service has confidence = 0.01562931\n",
      "commonQ.just_details has confidence = 0.012118423\n",
      "faq.approval_time has confidence = 0.0032076482\n",
      "faq.borrow_use has confidence = 0.0016377135\n",
      "faq.banking_option_missing has confidence = 0.0010719093\n",
      "faq.biz_category_missing has confidence = 0.00094919227\n",
      "faq.borrow_limit has confidence = 0.0007261337\n",
      "faq.address_proof has confidence = 0.00048034557\n",
      "faq.biz_simpler has confidence = 0.00032065253\n"
     ]
    }
   ],
   "source": [
    "\n",
    "text = \"Wait for me\"\n",
    "pred = predictions(text)\n",
    "get_final_output(pred, unique_intent)"
   ]
  },
  {
   "cell_type": "code",
   "execution_count": 41,
   "metadata": {},
   "outputs": [
    {
     "name": "stdout",
     "output_type": "stream",
     "text": [
      "['who', 'can', 'i', 'call', 'to', 'help', 'me']\n",
      "faq.apply_register has confidence = 0.89374787\n",
      "faq.application_process has confidence = 0.036169574\n",
      "commonQ.assist has confidence = 0.031955425\n",
      "contact.contact has confidence = 0.030594548\n",
      "commonQ.how has confidence = 0.005335092\n",
      "commonQ.wait has confidence = 0.001275502\n",
      "commonQ.name has confidence = 0.00029222755\n",
      "faq.bad_service has confidence = 0.00012833613\n",
      "faq.biz_new has confidence = 0.00011115512\n",
      "commonQ.query has confidence = 0.00010855391\n",
      "faq.approval_time has confidence = 8.3946055e-05\n",
      "commonQ.just_details has confidence = 5.583135e-05\n",
      "faq.aadhaar_missing has confidence = 3.8708153e-05\n",
      "faq.banking_option_missing has confidence = 3.30851e-05\n",
      "faq.borrow_use has confidence = 2.912586e-05\n",
      "commonQ.bot has confidence = 1.8081726e-05\n",
      "faq.biz_category_missing has confidence = 7.941922e-06\n",
      "commonQ.not_giving has confidence = 7.613979e-06\n",
      "faq.borrow_limit has confidence = 4.9950563e-06\n",
      "faq.biz_simpler has confidence = 1.3852948e-06\n",
      "faq.address_proof has confidence = 1.0545323e-06\n"
     ]
    }
   ],
   "source": [
    "\n",
    "text = \"Who can I call to help me?\"\n",
    "pred = predictions(text)\n",
    "get_final_output(pred, unique_intent)"
   ]
  },
  {
   "cell_type": "code",
   "execution_count": null,
   "metadata": {},
   "outputs": [],
   "source": []
  }
 ],
 "metadata": {
  "kernelspec": {
   "display_name": "Python 3",
   "language": "python",
   "name": "python3"
  },
  "language_info": {
   "codemirror_mode": {
    "name": "ipython",
    "version": 3
   },
   "file_extension": ".py",
   "mimetype": "text/x-python",
   "name": "python",
   "nbconvert_exporter": "python",
   "pygments_lexer": "ipython3",
   "version": "3.7.4"
  }
 },
 "nbformat": 4,
 "nbformat_minor": 4
}
