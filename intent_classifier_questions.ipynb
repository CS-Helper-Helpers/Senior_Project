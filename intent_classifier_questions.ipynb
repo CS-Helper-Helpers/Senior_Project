{
 "cells": [
  {
   "cell_type": "code",
   "execution_count": 1,
   "metadata": {},
   "outputs": [],
   "source": [
    "# https://towardsdatascience.com/a-brief-introduction-to-intent-classification-96fda6b1f557\n",
    "# Classifies into 21 intents\n",
    "\n",
    "\n",
    "import numpy as np\n",
    "import pandas as pd\n",
    "from nltk.corpus import stopwords\n",
    "from nltk.tokenize import word_tokenize\n",
    "from nltk.stem.lancaster import LancasterStemmer\n",
    "import nltk\n",
    "import re\n",
    "from sklearn.preprocessing import OneHotEncoder\n",
    "import matplotlib.pyplot as plt\n",
    "from tensorflow.keras.preprocessing.text import Tokenizer\n",
    "from tensorflow.keras.preprocessing.sequence import pad_sequences\n",
    "from tensorflow.keras.utils import to_categorical\n",
    "from tensorflow.keras.models import Sequential, load_model\n",
    "from tensorflow.keras.layers import Dense, LSTM, Bidirectional, Embedding, Dropout\n",
    "from tensorflow.keras.callbacks import ModelCheckpoint"
   ]
  },
  {
   "cell_type": "markdown",
   "metadata": {},
   "source": [
    "# Load Dataset"
   ]
  },
  {
   "cell_type": "code",
   "execution_count": 2,
   "metadata": {},
   "outputs": [],
   "source": [
    "def load_dataset(filename):\n",
    "    df = pd.read_csv(filename, encoding = \"latin1\", names = [\"Sentence\", \"Intent\"])\n",
    "\n",
    "    print(df.head())\n",
    "    intent = df[\"Intent\"]\n",
    "    unique_intent = list(set(intent))\n",
    "    sentences = list(df[\"Sentence\"])\n",
    "  \n",
    "    return (intent, unique_intent, sentences)"
   ]
  },
  {
   "cell_type": "code",
   "execution_count": 3,
   "metadata": {},
   "outputs": [
    {
     "name": "stdout",
     "output_type": "stream",
     "text": [
      "                                Sentence              Intent\n",
      "0                 When do classes start?  faq.important_date\n",
      "1          When does the semester start?  faq.important_date\n",
      "2      What day does the semester start?  faq.important_date\n",
      "3     Which day does the semester start?  faq.important_date\n",
      "4  What date does the semester start on?  faq.important_date\n"
     ]
    }
   ],
   "source": [
    "intent, unique_intent, sentences = load_dataset(\"questions_categories.csv\")"
   ]
  },
  {
   "cell_type": "markdown",
   "metadata": {},
   "source": [
    "# Get stopwords and punkt"
   ]
  },
  {
   "cell_type": "code",
   "execution_count": 4,
   "metadata": {},
   "outputs": [
    {
     "name": "stderr",
     "output_type": "stream",
     "text": [
      "[nltk_data] Downloading package stopwords to\n",
      "[nltk_data]     C:\\Users\\arima\\AppData\\Roaming\\nltk_data...\n",
      "[nltk_data]   Package stopwords is already up-to-date!\n",
      "[nltk_data] Downloading package punkt to\n",
      "[nltk_data]     C:\\Users\\arima\\AppData\\Roaming\\nltk_data...\n",
      "[nltk_data]   Package punkt is already up-to-date!\n"
     ]
    },
    {
     "data": {
      "text/plain": [
       "True"
      ]
     },
     "execution_count": 4,
     "metadata": {},
     "output_type": "execute_result"
    }
   ],
   "source": [
    "nltk.download(\"stopwords\")\n",
    "nltk.download(\"punkt\")"
   ]
  },
  {
   "cell_type": "markdown",
   "metadata": {},
   "source": [
    "# Define stemmer"
   ]
  },
  {
   "cell_type": "code",
   "execution_count": 5,
   "metadata": {},
   "outputs": [],
   "source": [
    "stemmer = LancasterStemmer()"
   ]
  },
  {
   "cell_type": "markdown",
   "metadata": {},
   "source": [
    "# Data cleaning"
   ]
  },
  {
   "cell_type": "code",
   "execution_count": 6,
   "metadata": {},
   "outputs": [],
   "source": [
    "def cleaning(sentences):\n",
    "    words = []\n",
    "    for s in sentences:\n",
    "        clean = re.sub(r'[^ a-z A-Z 0-9]', \" \", s)\n",
    "        w = word_tokenize(clean)\n",
    "        # lemmatizing\n",
    "        words.append([i.lower() for i in w])\n",
    "    return words"
   ]
  },
  {
   "cell_type": "code",
   "execution_count": 7,
   "metadata": {},
   "outputs": [
    {
     "name": "stdout",
     "output_type": "stream",
     "text": [
      "119\n",
      "[['when', 'do', 'classes', 'start'], ['when', 'does', 'the', 'semester', 'start'], ['what', 'day', 'does', 'the', 'semester', 'start']]\n"
     ]
    }
   ],
   "source": [
    "cleaned_words = cleaning(sentences)\n",
    "print(len(cleaned_words))\n",
    "print(cleaned_words[:3])"
   ]
  },
  {
   "cell_type": "markdown",
   "metadata": {},
   "source": [
    "# Input encoding"
   ]
  },
  {
   "cell_type": "code",
   "execution_count": 8,
   "metadata": {},
   "outputs": [],
   "source": [
    "def create_tokenizer( words, filters='!\"#$%&()*+,-./:;<=>?@[\\]^_`{|}~'):\n",
    "    \"\"\"Create tokenizer\n",
    "    \"\"\"\n",
    "    token = Tokenizer(filters=filters)\n",
    "    token.fit_on_texts(words)\n",
    "    return token\n",
    "\n",
    "def get_max_length(words):\n",
    "    \"\"\"Gets max length of a word\n",
    "    \"\"\"\n",
    "    return(len(max(words, key=len)))\n"
   ]
  },
  {
   "cell_type": "code",
   "execution_count": 9,
   "metadata": {},
   "outputs": [
    {
     "name": "stdout",
     "output_type": "stream",
     "text": [
      "Vocab size =  158  and Maximum length =  17\n"
     ]
    }
   ],
   "source": [
    "word_tokenizer = create_tokenizer(cleaned_words)\n",
    "vocab_size = len(word_tokenizer.word_index) + 1\n",
    "max_length = get_max_length(cleaned_words)\n",
    "\n",
    "print(\"Vocab size = \", vocab_size, \" and Maximum length = \", max_length)"
   ]
  },
  {
   "cell_type": "markdown",
   "metadata": {},
   "source": [
    "# Output Encoding"
   ]
  },
  {
   "cell_type": "code",
   "execution_count": 10,
   "metadata": {},
   "outputs": [],
   "source": [
    "def encoding_doc(token, words):\n",
    "    return(token.texts_to_sequences(words))"
   ]
  },
  {
   "cell_type": "code",
   "execution_count": 11,
   "metadata": {},
   "outputs": [],
   "source": [
    "encoded_doc = encoding_doc(word_tokenizer, cleaned_words)"
   ]
  },
  {
   "cell_type": "code",
   "execution_count": 12,
   "metadata": {},
   "outputs": [],
   "source": [
    "def padding_doc(encoded_doc, max_length):\n",
    "    return(pad_sequences(encoded_doc, maxlen=max_length, padding=\"post\"))"
   ]
  },
  {
   "cell_type": "code",
   "execution_count": 13,
   "metadata": {},
   "outputs": [
    {
     "data": {
      "text/plain": [
       "array([[ 6,  5, 24, 17,  0,  0,  0,  0,  0,  0,  0,  0,  0,  0,  0,  0,\n",
       "         0],\n",
       "       [ 6, 12,  3, 21, 17,  0,  0,  0,  0,  0,  0,  0,  0,  0,  0,  0,\n",
       "         0],\n",
       "       [ 9, 14, 12,  3, 21, 17,  0,  0,  0,  0,  0,  0,  0,  0,  0,  0,\n",
       "         0],\n",
       "       [66, 14, 12,  3, 21, 17,  0,  0,  0,  0,  0,  0,  0,  0,  0,  0,\n",
       "         0],\n",
       "       [ 9, 94, 12,  3, 21, 17, 46,  0,  0,  0,  0,  0,  0,  0,  0,  0,\n",
       "         0]])"
      ]
     },
     "execution_count": 13,
     "metadata": {},
     "output_type": "execute_result"
    }
   ],
   "source": [
    "padded_doc = padding_doc(encoded_doc, max_length)\n",
    "padded_doc[:5]"
   ]
  },
  {
   "cell_type": "code",
   "execution_count": 14,
   "metadata": {},
   "outputs": [
    {
     "name": "stdout",
     "output_type": "stream",
     "text": [
      "Shape of padded docs =  (119, 17)\n"
     ]
    }
   ],
   "source": [
    "print(\"Shape of padded docs = \", padded_doc.shape)"
   ]
  },
  {
   "cell_type": "markdown",
   "metadata": {},
   "source": [
    "### Tokenizer"
   ]
  },
  {
   "cell_type": "code",
   "execution_count": 15,
   "metadata": {},
   "outputs": [],
   "source": [
    "# tokenizer with filter changed\n",
    "output_tokenizer = create_tokenizer(unique_intent, filters='!\"#$%&()*+,-/:;<=>?@[\\]^`{|}~')"
   ]
  },
  {
   "cell_type": "code",
   "execution_count": 16,
   "metadata": {},
   "outputs": [
    {
     "data": {
      "text/plain": [
       "{'faq.professor': 1,\n",
       " 'faq.important_date': 2,\n",
       " 'class.time': 3,\n",
       " 'class.location': 4,\n",
       " 'faq.department': 5,\n",
       " 'department.time': 6,\n",
       " 'faq.class': 7,\n",
       " 'faq.student': 8,\n",
       " 'faq.employee': 9,\n",
       " 'class.professor': 10}"
      ]
     },
     "execution_count": 16,
     "metadata": {},
     "output_type": "execute_result"
    }
   ],
   "source": [
    "output_tokenizer.word_index"
   ]
  },
  {
   "cell_type": "markdown",
   "metadata": {},
   "source": [
    "### Encode output given intent and tokenizer and reshape"
   ]
  },
  {
   "cell_type": "code",
   "execution_count": 17,
   "metadata": {},
   "outputs": [],
   "source": [
    "encoded_output = encoding_doc(output_tokenizer, intent)"
   ]
  },
  {
   "cell_type": "code",
   "execution_count": 18,
   "metadata": {},
   "outputs": [],
   "source": [
    "encoded_output = np.array(encoded_output).reshape(len(encoded_output), 1)"
   ]
  },
  {
   "cell_type": "code",
   "execution_count": 19,
   "metadata": {},
   "outputs": [
    {
     "data": {
      "text/plain": [
       "(119, 1)"
      ]
     },
     "execution_count": 19,
     "metadata": {},
     "output_type": "execute_result"
    }
   ],
   "source": [
    "encoded_output.shape"
   ]
  },
  {
   "cell_type": "markdown",
   "metadata": {},
   "source": [
    "### Create one hot encoding\n",
    "Example of one hot encoding:\n",
    "Consider a domain of [ a, e, i, o, u] and an intent of [ a, i, u ]\n",
    "The one hot encoding is [ 1, 0, 1, 0, 1] for the domain."
   ]
  },
  {
   "cell_type": "code",
   "execution_count": 20,
   "metadata": {},
   "outputs": [],
   "source": [
    "def one_hot(encode):\n",
    "    o = OneHotEncoder(sparse=False)\n",
    "    return(o.fit_transform(encode))"
   ]
  },
  {
   "cell_type": "code",
   "execution_count": 21,
   "metadata": {},
   "outputs": [
    {
     "name": "stdout",
     "output_type": "stream",
     "text": [
      "[[ 2]\n",
      " [ 2]\n",
      " [ 2]\n",
      " [ 2]\n",
      " [ 2]\n",
      " [ 2]\n",
      " [ 2]\n",
      " [ 2]\n",
      " [ 2]\n",
      " [ 2]\n",
      " [ 2]\n",
      " [ 2]\n",
      " [ 2]\n",
      " [ 2]\n",
      " [ 2]\n",
      " [ 2]\n",
      " [ 2]\n",
      " [ 2]\n",
      " [ 2]\n",
      " [ 2]\n",
      " [ 2]\n",
      " [ 2]\n",
      " [ 2]\n",
      " [ 2]\n",
      " [ 2]\n",
      " [ 2]\n",
      " [ 2]\n",
      " [ 2]\n",
      " [ 2]\n",
      " [ 2]\n",
      " [ 2]\n",
      " [ 2]\n",
      " [ 2]\n",
      " [ 4]\n",
      " [ 4]\n",
      " [ 4]\n",
      " [ 4]\n",
      " [ 4]\n",
      " [ 4]\n",
      " [ 4]\n",
      " [ 4]\n",
      " [ 4]\n",
      " [ 4]\n",
      " [ 4]\n",
      " [ 4]\n",
      " [ 4]\n",
      " [ 4]\n",
      " [ 4]\n",
      " [ 4]\n",
      " [ 4]\n",
      " [ 4]\n",
      " [ 4]\n",
      " [ 4]\n",
      " [ 4]\n",
      " [ 4]\n",
      " [ 4]\n",
      " [ 4]\n",
      " [ 4]\n",
      " [ 4]\n",
      " [ 4]\n",
      " [ 4]\n",
      " [ 4]\n",
      " [10]\n",
      " [10]\n",
      " [10]\n",
      " [10]\n",
      " [10]\n",
      " [ 7]\n",
      " [ 7]\n",
      " [ 7]\n",
      " [ 7]\n",
      " [ 7]\n",
      " [ 3]\n",
      " [ 3]\n",
      " [ 3]\n",
      " [ 6]\n",
      " [ 6]\n",
      " [ 6]\n",
      " [ 6]\n",
      " [ 6]\n",
      " [ 5]\n",
      " [ 5]\n",
      " [ 5]\n",
      " [ 5]\n",
      " [ 5]\n",
      " [ 5]\n",
      " [ 5]\n",
      " [ 5]\n",
      " [ 5]\n",
      " [ 5]\n",
      " [ 1]\n",
      " [ 1]\n",
      " [ 1]\n",
      " [ 1]\n",
      " [ 1]\n",
      " [ 1]\n",
      " [ 1]\n",
      " [ 8]\n",
      " [ 8]\n",
      " [ 5]\n",
      " [ 8]\n",
      " [ 8]\n",
      " [ 8]\n",
      " [ 8]\n",
      " [ 8]\n",
      " [ 8]\n",
      " [ 8]\n",
      " [ 5]\n",
      " [ 5]\n",
      " [ 8]\n",
      " [ 8]\n",
      " [ 9]\n",
      " [ 9]\n",
      " [ 9]\n",
      " [ 9]\n",
      " [ 9]\n",
      " [ 8]\n",
      " [ 8]\n",
      " [ 1]]\n"
     ]
    }
   ],
   "source": [
    "print(encoded_output)"
   ]
  },
  {
   "cell_type": "code",
   "execution_count": 22,
   "metadata": {},
   "outputs": [],
   "source": [
    "output_one_hot = one_hot(encoded_output)"
   ]
  },
  {
   "cell_type": "code",
   "execution_count": 23,
   "metadata": {},
   "outputs": [
    {
     "data": {
      "text/plain": [
       "(119, 10)"
      ]
     },
     "execution_count": 23,
     "metadata": {},
     "output_type": "execute_result"
    }
   ],
   "source": [
    "output_one_hot.shape"
   ]
  },
  {
   "cell_type": "markdown",
   "metadata": {},
   "source": [
    "## Create Model"
   ]
  },
  {
   "cell_type": "code",
   "execution_count": 24,
   "metadata": {},
   "outputs": [],
   "source": [
    "from sklearn.model_selection import train_test_split"
   ]
  },
  {
   "cell_type": "code",
   "execution_count": 25,
   "metadata": {},
   "outputs": [],
   "source": [
    "\n",
    "train_X, val_X, train_Y, val_Y = train_test_split(padded_doc, output_one_hot, shuffle = True, test_size = 0.2)"
   ]
  },
  {
   "cell_type": "code",
   "execution_count": 26,
   "metadata": {},
   "outputs": [
    {
     "name": "stdout",
     "output_type": "stream",
     "text": [
      "Shape of train_X = (95, 17) and train_Y = (95, 10)\n",
      "Shape of val_X = (24, 17) and val_Y = (24, 10)\n"
     ]
    }
   ],
   "source": [
    "print(\"Shape of train_X = %s and train_Y = %s\" % (train_X.shape, train_Y.shape))\n",
    "print(\"Shape of val_X = %s and val_Y = %s\" % (val_X.shape, val_Y.shape))"
   ]
  },
  {
   "cell_type": "markdown",
   "metadata": {},
   "source": [
    "### Sequential Model\n",
    "[ conv ] -> [ batch norm ] -> [ relu ]\n",
    "\n",
    "A sequential model allows you to create models layer-by-layer in a step-by-step fashion\n",
    "\n",
    "We instantiate the sequential model first, then add each layer one at a time.\n",
    "Layers:\n",
    "    \n",
    "    Embedding:\n",
    "        Vocab size:\n",
    "        Input length:\n",
    "    Bidirectional:\n",
    "        LSTM:\n",
    "    Dense: Relu\n",
    "    Dropout: 0.5\n",
    "    Dense: Softmax"
   ]
  },
  {
   "cell_type": "code",
   "execution_count": 27,
   "metadata": {},
   "outputs": [],
   "source": [
    "def create_model(vocab_size, max_length):\n",
    "  model = Sequential()\n",
    "  model.add(Embedding(vocab_size, 128, input_length = max_length, trainable = False))\n",
    "  model.add(Bidirectional(LSTM(128)))\n",
    "#   model.add(LSTM(128))\n",
    "  model.add(Dense(32, activation = \"relu\"))\n",
    "  model.add(Dropout(0.5))\n",
    "  model.add(Dense(10, activation = \"softmax\"))\n",
    "  \n",
    "  return model"
   ]
  },
  {
   "cell_type": "markdown",
   "metadata": {},
   "source": [
    "### Compile and give summary of model\n",
    "#### Compile\n",
    "A loss function (or objective function, or optimization score function) is one of the two parameters required to compile a model. We use categorical cross entropy to train a CNN to output a probability over the C classes for each image. It is used for multi-class classification. It is also called softmax loss, a softmax activation plus a cross-entropy loss.\n",
    "\n",
    "Adam is an adaptive learning rate optimization algorithm designed to train deep neural nets. Adam computes individual learning rates for different parameters, using the first and second moments of gradient to adapt the learning rate for each weight of the neural network.\n",
    "\n"
   ]
  },
  {
   "cell_type": "code",
   "execution_count": 28,
   "metadata": {},
   "outputs": [
    {
     "name": "stdout",
     "output_type": "stream",
     "text": [
      "Model: \"sequential\"\n",
      "_________________________________________________________________\n",
      "Layer (type)                 Output Shape              Param #   \n",
      "=================================================================\n",
      "embedding (Embedding)        (None, 17, 128)           20224     \n",
      "_________________________________________________________________\n",
      "bidirectional (Bidirectional (None, 256)               263168    \n",
      "_________________________________________________________________\n",
      "dense (Dense)                (None, 32)                8224      \n",
      "_________________________________________________________________\n",
      "dropout (Dropout)            (None, 32)                0         \n",
      "_________________________________________________________________\n",
      "dense_1 (Dense)              (None, 10)                330       \n",
      "=================================================================\n",
      "Total params: 291,946\n",
      "Trainable params: 271,722\n",
      "Non-trainable params: 20,224\n",
      "_________________________________________________________________\n"
     ]
    }
   ],
   "source": [
    "model = create_model(vocab_size, max_length)\n",
    "\n",
    "model.compile(loss = \"categorical_crossentropy\", optimizer = \"adam\", metrics = [\"accuracy\"])\n",
    "model.summary()"
   ]
  },
  {
   "cell_type": "markdown",
   "metadata": {},
   "source": [
    "## Train Model\n",
    "Uses checkpoint to save best model at each training"
   ]
  },
  {
   "cell_type": "code",
   "execution_count": 29,
   "metadata": {},
   "outputs": [
    {
     "name": "stdout",
     "output_type": "stream",
     "text": [
      "Train on 95 samples, validate on 24 samples\n",
      "Epoch 1/100\n",
      "32/95 [=========>....................] - ETA: 8s - loss: 2.3025 - accuracy: 0.0938\n",
      "Epoch 00001: val_loss improved from inf to 2.27336, saving model to model.h5\n",
      "95/95 [==============================] - 5s 57ms/sample - loss: 2.2907 - accuracy: 0.1895 - val_loss: 2.2734 - val_accuracy: 0.2500\n",
      "Epoch 2/100\n",
      "32/95 [=========>....................] - ETA: 0s - loss: 2.2256 - accuracy: 0.3438\n",
      "Epoch 00002: val_loss improved from 2.27336 to 2.24055, saving model to model.h5\n",
      "95/95 [==============================] - 0s 2ms/sample - loss: 2.2556 - accuracy: 0.2526 - val_loss: 2.2405 - val_accuracy: 0.2500\n",
      "Epoch 3/100\n",
      "32/95 [=========>....................] - ETA: 0s - loss: 2.1906 - accuracy: 0.3750\n",
      "Epoch 00003: val_loss improved from 2.24055 to 2.19928, saving model to model.h5\n",
      "95/95 [==============================] - 0s 1ms/sample - loss: 2.2113 - accuracy: 0.2947 - val_loss: 2.1993 - val_accuracy: 0.2500\n",
      "Epoch 4/100\n",
      "32/95 [=========>....................] - ETA: 0s - loss: 2.2178 - accuracy: 0.2188\n",
      "Epoch 00004: val_loss improved from 2.19928 to 2.15108, saving model to model.h5\n",
      "95/95 [==============================] - 0s 1ms/sample - loss: 2.1388 - accuracy: 0.2526 - val_loss: 2.1511 - val_accuracy: 0.2500\n",
      "Epoch 5/100\n",
      "32/95 [=========>....................] - ETA: 0s - loss: 2.3599 - accuracy: 0.0938\n",
      "Epoch 00005: val_loss did not improve from 2.15108\n",
      "95/95 [==============================] - 0s 1ms/sample - loss: 2.0838 - accuracy: 0.2000 - val_loss: 2.1516 - val_accuracy: 0.1667\n",
      "Epoch 6/100\n",
      "32/95 [=========>....................] - ETA: 0s - loss: 2.0180 - accuracy: 0.2188\n",
      "Epoch 00006: val_loss did not improve from 2.15108\n",
      "95/95 [==============================] - 0s 1ms/sample - loss: 2.0420 - accuracy: 0.2526 - val_loss: 2.1743 - val_accuracy: 0.1667\n",
      "Epoch 7/100\n",
      "32/95 [=========>....................] - ETA: 0s - loss: 2.2087 - accuracy: 0.2500\n",
      "Epoch 00007: val_loss improved from 2.15108 to 2.14212, saving model to model.h5\n",
      "95/95 [==============================] - 0s 1ms/sample - loss: 2.1225 - accuracy: 0.2737 - val_loss: 2.1421 - val_accuracy: 0.1667\n",
      "Epoch 8/100\n",
      "32/95 [=========>....................] - ETA: 0s - loss: 1.9274 - accuracy: 0.2188\n",
      "Epoch 00008: val_loss improved from 2.14212 to 2.13008, saving model to model.h5\n",
      "95/95 [==============================] - 0s 1ms/sample - loss: 1.9809 - accuracy: 0.2737 - val_loss: 2.1301 - val_accuracy: 0.4167\n",
      "Epoch 9/100\n",
      "32/95 [=========>....................] - ETA: 0s - loss: 2.1291 - accuracy: 0.1875\n",
      "Epoch 00009: val_loss improved from 2.13008 to 2.12255, saving model to model.h5\n",
      "95/95 [==============================] - 0s 1ms/sample - loss: 2.0160 - accuracy: 0.2421 - val_loss: 2.1226 - val_accuracy: 0.4167\n",
      "Epoch 10/100\n",
      "32/95 [=========>....................] - ETA: 0s - loss: 2.0689 - accuracy: 0.2188\n",
      "Epoch 00010: val_loss improved from 2.12255 to 2.11054, saving model to model.h5\n",
      "95/95 [==============================] - 0s 2ms/sample - loss: 1.9912 - accuracy: 0.2632 - val_loss: 2.1105 - val_accuracy: 0.4167\n",
      "Epoch 11/100\n",
      "32/95 [=========>....................] - ETA: 0s - loss: 2.0468 - accuracy: 0.2500\n",
      "Epoch 00011: val_loss improved from 2.11054 to 2.10964, saving model to model.h5\n",
      "95/95 [==============================] - 0s 2ms/sample - loss: 1.9630 - accuracy: 0.2105 - val_loss: 2.1096 - val_accuracy: 0.2917\n",
      "Epoch 12/100\n",
      "32/95 [=========>....................] - ETA: 0s - loss: 2.2669 - accuracy: 0.1562\n",
      "Epoch 00012: val_loss improved from 2.10964 to 2.09011, saving model to model.h5\n",
      "95/95 [==============================] - 0s 2ms/sample - loss: 2.0241 - accuracy: 0.2737 - val_loss: 2.0901 - val_accuracy: 0.2917\n",
      "Epoch 13/100\n",
      "32/95 [=========>....................] - ETA: 0s - loss: 1.9153 - accuracy: 0.3750\n",
      "Epoch 00013: val_loss improved from 2.09011 to 2.07035, saving model to model.h5\n",
      "95/95 [==============================] - 0s 2ms/sample - loss: 1.9884 - accuracy: 0.2526 - val_loss: 2.0703 - val_accuracy: 0.3750\n",
      "Epoch 14/100\n",
      "32/95 [=========>....................] - ETA: 0s - loss: 1.8925 - accuracy: 0.3438\n",
      "Epoch 00014: val_loss improved from 2.07035 to 2.04959, saving model to model.h5\n",
      "95/95 [==============================] - 0s 2ms/sample - loss: 1.8768 - accuracy: 0.3158 - val_loss: 2.0496 - val_accuracy: 0.3750\n",
      "Epoch 15/100\n",
      "32/95 [=========>....................] - ETA: 0s - loss: 1.8834 - accuracy: 0.3750\n",
      "Epoch 00015: val_loss improved from 2.04959 to 2.02299, saving model to model.h5\n",
      "95/95 [==============================] - 0s 3ms/sample - loss: 1.9432 - accuracy: 0.3158 - val_loss: 2.0230 - val_accuracy: 0.2500\n",
      "Epoch 16/100\n",
      "64/95 [===================>..........] - ETA: 0s - loss: 1.9429 - accuracy: 0.2031\n",
      "Epoch 00016: val_loss improved from 2.02299 to 2.00850, saving model to model.h5\n",
      "95/95 [==============================] - 1s 12ms/sample - loss: 1.8675 - accuracy: 0.2526 - val_loss: 2.0085 - val_accuracy: 0.2083\n",
      "Epoch 17/100\n",
      "64/95 [===================>..........] - ETA: 0s - loss: 1.9468 - accuracy: 0.3125\n",
      "Epoch 00017: val_loss improved from 2.00850 to 1.96440, saving model to model.h5\n",
      "95/95 [==============================] - 1s 11ms/sample - loss: 1.8797 - accuracy: 0.3158 - val_loss: 1.9644 - val_accuracy: 0.2500\n",
      "Epoch 18/100\n",
      "64/95 [===================>..........] - ETA: 0s - loss: 1.7344 - accuracy: 0.3750\n",
      "Epoch 00018: val_loss did not improve from 1.96440\n",
      "95/95 [==============================] - 1s 8ms/sample - loss: 1.7206 - accuracy: 0.4000 - val_loss: 1.9747 - val_accuracy: 0.3333\n",
      "Epoch 19/100\n",
      "64/95 [===================>..........] - ETA: 0s - loss: 1.7533 - accuracy: 0.3594\n",
      "Epoch 00019: val_loss improved from 1.96440 to 1.90926, saving model to model.h5\n",
      "95/95 [==============================] - 0s 5ms/sample - loss: 1.7398 - accuracy: 0.3789 - val_loss: 1.9093 - val_accuracy: 0.4167\n",
      "Epoch 20/100\n",
      "64/95 [===================>..........] - ETA: 0s - loss: 1.6764 - accuracy: 0.4375\n",
      "Epoch 00020: val_loss improved from 1.90926 to 1.89037, saving model to model.h5\n",
      "95/95 [==============================] - 0s 4ms/sample - loss: 1.7089 - accuracy: 0.3895 - val_loss: 1.8904 - val_accuracy: 0.4167\n",
      "Epoch 21/100\n",
      "64/95 [===================>..........] - ETA: 0s - loss: 1.6174 - accuracy: 0.4375\n",
      "Epoch 00021: val_loss improved from 1.89037 to 1.84427, saving model to model.h5\n",
      "95/95 [==============================] - 0s 5ms/sample - loss: 1.6798 - accuracy: 0.4316 - val_loss: 1.8443 - val_accuracy: 0.5000\n",
      "Epoch 22/100\n",
      "64/95 [===================>..........] - ETA: 0s - loss: 1.7572 - accuracy: 0.4375\n",
      "Epoch 00022: val_loss did not improve from 1.84427\n",
      "95/95 [==============================] - 0s 2ms/sample - loss: 1.7413 - accuracy: 0.4421 - val_loss: 1.8840 - val_accuracy: 0.3333\n",
      "Epoch 23/100\n",
      "64/95 [===================>..........] - ETA: 0s - loss: 1.6466 - accuracy: 0.4219\n",
      "Epoch 00023: val_loss improved from 1.84427 to 1.77618, saving model to model.h5\n",
      "95/95 [==============================] - 0s 4ms/sample - loss: 1.6260 - accuracy: 0.4421 - val_loss: 1.7762 - val_accuracy: 0.3750\n",
      "Epoch 24/100\n",
      "64/95 [===================>..........] - ETA: 0s - loss: 1.7262 - accuracy: 0.3906\n",
      "Epoch 00024: val_loss improved from 1.77618 to 1.74971, saving model to model.h5\n",
      "95/95 [==============================] - 0s 4ms/sample - loss: 1.6950 - accuracy: 0.4316 - val_loss: 1.7497 - val_accuracy: 0.3750\n",
      "Epoch 25/100\n",
      "64/95 [===================>..........] - ETA: 0s - loss: 1.6855 - accuracy: 0.4375\n",
      "Epoch 00025: val_loss did not improve from 1.74971\n",
      "95/95 [==============================] - 0s 2ms/sample - loss: 1.6328 - accuracy: 0.4526 - val_loss: 1.7679 - val_accuracy: 0.3750\n",
      "Epoch 26/100\n",
      "64/95 [===================>..........] - ETA: 0s - loss: 1.7711 - accuracy: 0.4062\n",
      "Epoch 00026: val_loss improved from 1.74971 to 1.70642, saving model to model.h5\n",
      "95/95 [==============================] - 0s 4ms/sample - loss: 1.6119 - accuracy: 0.4842 - val_loss: 1.7064 - val_accuracy: 0.4583\n",
      "Epoch 27/100\n",
      "64/95 [===================>..........] - ETA: 0s - loss: 1.5376 - accuracy: 0.5156\n",
      "Epoch 00027: val_loss did not improve from 1.70642\n",
      "95/95 [==============================] - 0s 2ms/sample - loss: 1.4477 - accuracy: 0.5579 - val_loss: 1.8991 - val_accuracy: 0.4167\n",
      "Epoch 28/100\n"
     ]
    },
    {
     "name": "stdout",
     "output_type": "stream",
     "text": [
      "64/95 [===================>..........] - ETA: 0s - loss: 1.5014 - accuracy: 0.5156\n",
      "Epoch 00028: val_loss improved from 1.70642 to 1.69853, saving model to model.h5\n",
      "95/95 [==============================] - 0s 5ms/sample - loss: 1.6149 - accuracy: 0.4632 - val_loss: 1.6985 - val_accuracy: 0.4583\n",
      "Epoch 29/100\n",
      "64/95 [===================>..........] - ETA: 0s - loss: 1.3594 - accuracy: 0.5625\n",
      "Epoch 00029: val_loss improved from 1.69853 to 1.66906, saving model to model.h5\n",
      "95/95 [==============================] - 0s 5ms/sample - loss: 1.5055 - accuracy: 0.5368 - val_loss: 1.6691 - val_accuracy: 0.4583\n",
      "Epoch 30/100\n",
      "64/95 [===================>..........] - ETA: 0s - loss: 1.5349 - accuracy: 0.5000\n",
      "Epoch 00030: val_loss did not improve from 1.66906\n",
      "95/95 [==============================] - 0s 2ms/sample - loss: 1.5064 - accuracy: 0.5053 - val_loss: 1.6945 - val_accuracy: 0.4583\n",
      "Epoch 31/100\n",
      "64/95 [===================>..........] - ETA: 0s - loss: 1.3734 - accuracy: 0.5469\n",
      "Epoch 00031: val_loss improved from 1.66906 to 1.58401, saving model to model.h5\n",
      "95/95 [==============================] - 0s 4ms/sample - loss: 1.3696 - accuracy: 0.5474 - val_loss: 1.5840 - val_accuracy: 0.4583\n",
      "Epoch 32/100\n",
      "64/95 [===================>..........] - ETA: 0s - loss: 1.6063 - accuracy: 0.4844\n",
      "Epoch 00032: val_loss did not improve from 1.58401\n",
      "95/95 [==============================] - 0s 2ms/sample - loss: 1.4680 - accuracy: 0.5053 - val_loss: 1.6025 - val_accuracy: 0.4583\n",
      "Epoch 33/100\n",
      "64/95 [===================>..........] - ETA: 0s - loss: 1.1738 - accuracy: 0.6562\n",
      "Epoch 00033: val_loss did not improve from 1.58401\n",
      "95/95 [==============================] - 0s 2ms/sample - loss: 1.2913 - accuracy: 0.5895 - val_loss: 1.6657 - val_accuracy: 0.4167\n",
      "Epoch 34/100\n",
      "64/95 [===================>..........] - ETA: 0s - loss: 1.2779 - accuracy: 0.5781\n",
      "Epoch 00034: val_loss did not improve from 1.58401\n",
      "95/95 [==============================] - 0s 2ms/sample - loss: 1.2903 - accuracy: 0.6105 - val_loss: 1.6181 - val_accuracy: 0.4167\n",
      "Epoch 35/100\n",
      "64/95 [===================>..........] - ETA: 0s - loss: 1.4030 - accuracy: 0.4688\n",
      "Epoch 00035: val_loss did not improve from 1.58401\n",
      "95/95 [==============================] - 0s 2ms/sample - loss: 1.3389 - accuracy: 0.5263 - val_loss: 1.8132 - val_accuracy: 0.4167\n",
      "Epoch 36/100\n",
      "64/95 [===================>..........] - ETA: 0s - loss: 1.3411 - accuracy: 0.5469\n",
      "Epoch 00036: val_loss improved from 1.58401 to 1.53195, saving model to model.h5\n",
      "95/95 [==============================] - 0s 4ms/sample - loss: 1.4209 - accuracy: 0.5368 - val_loss: 1.5319 - val_accuracy: 0.4583\n",
      "Epoch 37/100\n",
      "64/95 [===================>..........] - ETA: 0s - loss: 1.3563 - accuracy: 0.5469\n",
      "Epoch 00037: val_loss did not improve from 1.53195\n",
      "95/95 [==============================] - 0s 2ms/sample - loss: 1.3368 - accuracy: 0.5263 - val_loss: 1.5702 - val_accuracy: 0.3750\n",
      "Epoch 38/100\n",
      "64/95 [===================>..........] - ETA: 0s - loss: 1.2862 - accuracy: 0.5938\n",
      "Epoch 00038: val_loss did not improve from 1.53195\n",
      "95/95 [==============================] - 0s 2ms/sample - loss: 1.2928 - accuracy: 0.5474 - val_loss: 1.6572 - val_accuracy: 0.4583\n",
      "Epoch 39/100\n",
      "64/95 [===================>..........] - ETA: 0s - loss: 1.1224 - accuracy: 0.6250\n",
      "Epoch 00039: val_loss did not improve from 1.53195\n",
      "95/95 [==============================] - 0s 2ms/sample - loss: 1.2252 - accuracy: 0.6105 - val_loss: 1.5633 - val_accuracy: 0.4167\n",
      "Epoch 40/100\n",
      "64/95 [===================>..........] - ETA: 0s - loss: 1.2264 - accuracy: 0.6094\n",
      "Epoch 00040: val_loss did not improve from 1.53195\n",
      "95/95 [==============================] - 0s 2ms/sample - loss: 1.1669 - accuracy: 0.6421 - val_loss: 1.6571 - val_accuracy: 0.4167\n",
      "Epoch 41/100\n",
      "64/95 [===================>..........] - ETA: 0s - loss: 1.1897 - accuracy: 0.5938\n",
      "Epoch 00041: val_loss did not improve from 1.53195\n",
      "95/95 [==============================] - 0s 2ms/sample - loss: 1.1429 - accuracy: 0.6211 - val_loss: 1.5395 - val_accuracy: 0.5000\n",
      "Epoch 42/100\n",
      "64/95 [===================>..........] - ETA: 0s - loss: 1.1328 - accuracy: 0.6094\n",
      "Epoch 00042: val_loss did not improve from 1.53195\n",
      "95/95 [==============================] - 0s 2ms/sample - loss: 1.2326 - accuracy: 0.5579 - val_loss: 1.5662 - val_accuracy: 0.4583\n",
      "Epoch 43/100\n",
      "64/95 [===================>..........] - ETA: 0s - loss: 1.2401 - accuracy: 0.5312\n",
      "Epoch 00043: val_loss did not improve from 1.53195\n",
      "95/95 [==============================] - 0s 2ms/sample - loss: 1.1240 - accuracy: 0.5895 - val_loss: 1.5780 - val_accuracy: 0.4167\n",
      "Epoch 44/100\n",
      "64/95 [===================>..........] - ETA: 0s - loss: 1.1108 - accuracy: 0.5781\n",
      "Epoch 00044: val_loss improved from 1.53195 to 1.48773, saving model to model.h5\n",
      "95/95 [==============================] - 0s 4ms/sample - loss: 1.1875 - accuracy: 0.5474 - val_loss: 1.4877 - val_accuracy: 0.5000\n",
      "Epoch 45/100\n",
      "64/95 [===================>..........] - ETA: 0s - loss: 1.1213 - accuracy: 0.6562\n",
      "Epoch 00045: val_loss did not improve from 1.48773\n",
      "95/95 [==============================] - 0s 2ms/sample - loss: 1.1034 - accuracy: 0.6526 - val_loss: 1.6186 - val_accuracy: 0.5000\n",
      "Epoch 46/100\n",
      "64/95 [===================>..........] - ETA: 0s - loss: 1.1324 - accuracy: 0.6250\n",
      "Epoch 00046: val_loss improved from 1.48773 to 1.44691, saving model to model.h5\n",
      "95/95 [==============================] - 0s 3ms/sample - loss: 1.0842 - accuracy: 0.6421 - val_loss: 1.4469 - val_accuracy: 0.4167\n",
      "Epoch 47/100\n",
      "64/95 [===================>..........] - ETA: 0s - loss: 1.0447 - accuracy: 0.6406\n",
      "Epoch 00047: val_loss did not improve from 1.44691\n",
      "95/95 [==============================] - 0s 2ms/sample - loss: 1.1156 - accuracy: 0.6211 - val_loss: 1.6609 - val_accuracy: 0.4583\n",
      "Epoch 48/100\n",
      "64/95 [===================>..........] - ETA: 0s - loss: 1.0706 - accuracy: 0.6562\n",
      "Epoch 00048: val_loss did not improve from 1.44691\n",
      "95/95 [==============================] - 0s 2ms/sample - loss: 1.1093 - accuracy: 0.6316 - val_loss: 1.5754 - val_accuracy: 0.5833\n",
      "Epoch 49/100\n",
      "64/95 [===================>..........] - ETA: 0s - loss: 1.1425 - accuracy: 0.5938\n",
      "Epoch 00049: val_loss improved from 1.44691 to 1.35427, saving model to model.h5\n",
      "95/95 [==============================] - 0s 3ms/sample - loss: 1.1364 - accuracy: 0.6000 - val_loss: 1.3543 - val_accuracy: 0.5417\n",
      "Epoch 50/100\n",
      "64/95 [===================>..........] - ETA: 0s - loss: 1.0369 - accuracy: 0.6406\n",
      "Epoch 00050: val_loss did not improve from 1.35427\n",
      "95/95 [==============================] - 0s 2ms/sample - loss: 1.0248 - accuracy: 0.6632 - val_loss: 1.4374 - val_accuracy: 0.5000\n",
      "Epoch 51/100\n",
      "64/95 [===================>..........] - ETA: 0s - loss: 1.0339 - accuracy: 0.6250\n",
      "Epoch 00051: val_loss improved from 1.35427 to 1.34898, saving model to model.h5\n",
      "95/95 [==============================] - 0s 3ms/sample - loss: 1.0430 - accuracy: 0.6211 - val_loss: 1.3490 - val_accuracy: 0.5417\n",
      "Epoch 52/100\n",
      "64/95 [===================>..........] - ETA: 0s - loss: 1.0565 - accuracy: 0.6562\n",
      "Epoch 00052: val_loss improved from 1.34898 to 1.33401, saving model to model.h5\n",
      "95/95 [==============================] - 0s 3ms/sample - loss: 1.0024 - accuracy: 0.6526 - val_loss: 1.3340 - val_accuracy: 0.5417\n",
      "Epoch 53/100\n",
      "64/95 [===================>..........] - ETA: 0s - loss: 1.0205 - accuracy: 0.6406\n",
      "Epoch 00053: val_loss did not improve from 1.33401\n",
      "95/95 [==============================] - 0s 2ms/sample - loss: 1.0784 - accuracy: 0.6211 - val_loss: 1.5090 - val_accuracy: 0.5000\n",
      "Epoch 54/100\n",
      "64/95 [===================>..........] - ETA: 0s - loss: 0.9411 - accuracy: 0.6719\n",
      "Epoch 00054: val_loss improved from 1.33401 to 1.31496, saving model to model.h5\n",
      "95/95 [==============================] - 0s 3ms/sample - loss: 0.9153 - accuracy: 0.6737 - val_loss: 1.3150 - val_accuracy: 0.5417\n",
      "Epoch 55/100\n",
      "64/95 [===================>..........] - ETA: 0s - loss: 1.0518 - accuracy: 0.6094\n",
      "Epoch 00055: val_loss did not improve from 1.31496\n",
      "95/95 [==============================] - 0s 2ms/sample - loss: 1.0975 - accuracy: 0.5895 - val_loss: 1.4100 - val_accuracy: 0.6250\n",
      "Epoch 56/100\n",
      "64/95 [===================>..........] - ETA: 0s - loss: 0.8793 - accuracy: 0.7188\n",
      "Epoch 00056: val_loss did not improve from 1.31496\n",
      "95/95 [==============================] - 0s 2ms/sample - loss: 1.0087 - accuracy: 0.6632 - val_loss: 1.6348 - val_accuracy: 0.5417\n"
     ]
    },
    {
     "name": "stdout",
     "output_type": "stream",
     "text": [
      "Epoch 57/100\n",
      "64/95 [===================>..........] - ETA: 0s - loss: 0.9997 - accuracy: 0.6875\n",
      "Epoch 00057: val_loss did not improve from 1.31496\n",
      "95/95 [==============================] - 0s 2ms/sample - loss: 0.9343 - accuracy: 0.6737 - val_loss: 1.4001 - val_accuracy: 0.5000\n",
      "Epoch 58/100\n",
      "64/95 [===================>..........] - ETA: 0s - loss: 0.8307 - accuracy: 0.7656\n",
      "Epoch 00058: val_loss did not improve from 1.31496\n",
      "95/95 [==============================] - 0s 2ms/sample - loss: 0.8926 - accuracy: 0.7474 - val_loss: 1.4584 - val_accuracy: 0.5833\n",
      "Epoch 59/100\n",
      "64/95 [===================>..........] - ETA: 0s - loss: 0.9829 - accuracy: 0.6406\n",
      "Epoch 00059: val_loss did not improve from 1.31496\n",
      "95/95 [==============================] - 0s 2ms/sample - loss: 0.9573 - accuracy: 0.6632 - val_loss: 1.5088 - val_accuracy: 0.5417\n",
      "Epoch 60/100\n",
      "64/95 [===================>..........] - ETA: 0s - loss: 0.9199 - accuracy: 0.6719\n",
      "Epoch 00060: val_loss did not improve from 1.31496\n",
      "95/95 [==============================] - 0s 2ms/sample - loss: 0.9077 - accuracy: 0.6842 - val_loss: 1.4122 - val_accuracy: 0.5000\n",
      "Epoch 61/100\n",
      "64/95 [===================>..........] - ETA: 0s - loss: 0.9789 - accuracy: 0.6875\n",
      "Epoch 00061: val_loss did not improve from 1.31496\n",
      "95/95 [==============================] - 0s 2ms/sample - loss: 0.9257 - accuracy: 0.7158 - val_loss: 1.5523 - val_accuracy: 0.4583\n",
      "Epoch 62/100\n",
      "64/95 [===================>..........] - ETA: 0s - loss: 0.7971 - accuracy: 0.7344\n",
      "Epoch 00062: val_loss did not improve from 1.31496\n",
      "95/95 [==============================] - 0s 2ms/sample - loss: 0.9151 - accuracy: 0.6947 - val_loss: 1.5392 - val_accuracy: 0.5833\n",
      "Epoch 63/100\n",
      "64/95 [===================>..........] - ETA: 0s - loss: 0.8695 - accuracy: 0.7031\n",
      "Epoch 00063: val_loss did not improve from 1.31496\n",
      "95/95 [==============================] - 0s 2ms/sample - loss: 0.8194 - accuracy: 0.7158 - val_loss: 1.5074 - val_accuracy: 0.5417\n",
      "Epoch 64/100\n",
      "64/95 [===================>..........] - ETA: 0s - loss: 0.7709 - accuracy: 0.7500\n",
      "Epoch 00064: val_loss did not improve from 1.31496\n",
      "95/95 [==============================] - 0s 3ms/sample - loss: 0.8457 - accuracy: 0.6842 - val_loss: 1.5227 - val_accuracy: 0.4583\n",
      "Epoch 65/100\n",
      "64/95 [===================>..........] - ETA: 0s - loss: 0.8490 - accuracy: 0.7188\n",
      "Epoch 00065: val_loss improved from 1.31496 to 1.28809, saving model to model.h5\n",
      "95/95 [==============================] - 0s 4ms/sample - loss: 0.7998 - accuracy: 0.7368 - val_loss: 1.2881 - val_accuracy: 0.5833\n",
      "Epoch 66/100\n",
      "64/95 [===================>..........] - ETA: 0s - loss: 0.9404 - accuracy: 0.6719\n",
      "Epoch 00066: val_loss improved from 1.28809 to 1.27633, saving model to model.h5\n",
      "95/95 [==============================] - 0s 3ms/sample - loss: 0.8838 - accuracy: 0.7053 - val_loss: 1.2763 - val_accuracy: 0.5417\n",
      "Epoch 67/100\n",
      "64/95 [===================>..........] - ETA: 0s - loss: 0.7711 - accuracy: 0.7812\n",
      "Epoch 00067: val_loss did not improve from 1.27633\n",
      "95/95 [==============================] - 0s 2ms/sample - loss: 0.7492 - accuracy: 0.7579 - val_loss: 1.4957 - val_accuracy: 0.5000\n",
      "Epoch 68/100\n",
      "64/95 [===================>..........] - ETA: 0s - loss: 0.7925 - accuracy: 0.7500\n",
      "Epoch 00068: val_loss did not improve from 1.27633\n",
      "95/95 [==============================] - 0s 2ms/sample - loss: 0.7798 - accuracy: 0.7474 - val_loss: 1.4666 - val_accuracy: 0.5417\n",
      "Epoch 69/100\n",
      "32/95 [=========>....................] - ETA: 0s - loss: 0.7659 - accuracy: 0.7812\n",
      "Epoch 00069: val_loss did not improve from 1.27633\n",
      "95/95 [==============================] - 0s 2ms/sample - loss: 0.7284 - accuracy: 0.7684 - val_loss: 1.4107 - val_accuracy: 0.5833\n",
      "Epoch 70/100\n",
      "32/95 [=========>....................] - ETA: 0s - loss: 0.6499 - accuracy: 0.7500\n",
      "Epoch 00070: val_loss did not improve from 1.27633\n",
      "95/95 [==============================] - 0s 2ms/sample - loss: 0.6528 - accuracy: 0.7895 - val_loss: 1.4393 - val_accuracy: 0.5833\n",
      "Epoch 71/100\n",
      "32/95 [=========>....................] - ETA: 0s - loss: 0.9699 - accuracy: 0.7188\n",
      "Epoch 00071: val_loss did not improve from 1.27633\n",
      "95/95 [==============================] - 0s 2ms/sample - loss: 0.7574 - accuracy: 0.7474 - val_loss: 1.3001 - val_accuracy: 0.5417\n",
      "Epoch 72/100\n",
      "64/95 [===================>..........] - ETA: 0s - loss: 0.6947 - accuracy: 0.7188\n",
      "Epoch 00072: val_loss improved from 1.27633 to 1.19794, saving model to model.h5\n",
      "95/95 [==============================] - 0s 3ms/sample - loss: 0.6230 - accuracy: 0.7684 - val_loss: 1.1979 - val_accuracy: 0.5833\n",
      "Epoch 73/100\n",
      "64/95 [===================>..........] - ETA: 0s - loss: 0.6887 - accuracy: 0.7656\n",
      "Epoch 00073: val_loss did not improve from 1.19794\n",
      "95/95 [==============================] - 0s 2ms/sample - loss: 0.6504 - accuracy: 0.8000 - val_loss: 1.2678 - val_accuracy: 0.5833\n",
      "Epoch 74/100\n",
      "32/95 [=========>....................] - ETA: 0s - loss: 0.9127 - accuracy: 0.6562\n",
      "Epoch 00074: val_loss did not improve from 1.19794\n",
      "95/95 [==============================] - 0s 2ms/sample - loss: 0.6593 - accuracy: 0.7684 - val_loss: 1.2658 - val_accuracy: 0.5417\n",
      "Epoch 75/100\n",
      "64/95 [===================>..........] - ETA: 0s - loss: 0.5070 - accuracy: 0.7969\n",
      "Epoch 00075: val_loss did not improve from 1.19794\n",
      "95/95 [==============================] - 0s 2ms/sample - loss: 0.6352 - accuracy: 0.7263 - val_loss: 1.3803 - val_accuracy: 0.5833\n",
      "Epoch 76/100\n",
      "64/95 [===================>..........] - ETA: 0s - loss: 0.5011 - accuracy: 0.7969\n",
      "Epoch 00076: val_loss did not improve from 1.19794\n",
      "95/95 [==============================] - 0s 2ms/sample - loss: 0.6334 - accuracy: 0.7263 - val_loss: 1.2997 - val_accuracy: 0.5833\n",
      "Epoch 77/100\n",
      "64/95 [===================>..........] - ETA: 0s - loss: 0.7669 - accuracy: 0.7500\n",
      "Epoch 00077: val_loss did not improve from 1.19794\n",
      "95/95 [==============================] - 0s 2ms/sample - loss: 0.7341 - accuracy: 0.7368 - val_loss: 1.2830 - val_accuracy: 0.5417\n",
      "Epoch 78/100\n",
      "64/95 [===================>..........] - ETA: 0s - loss: 0.6615 - accuracy: 0.8281\n",
      "Epoch 00078: val_loss did not improve from 1.19794\n",
      "95/95 [==============================] - 0s 2ms/sample - loss: 0.7115 - accuracy: 0.8000 - val_loss: 1.3977 - val_accuracy: 0.5417\n",
      "Epoch 79/100\n",
      "64/95 [===================>..........] - ETA: 0s - loss: 0.6428 - accuracy: 0.7969\n",
      "Epoch 00079: val_loss did not improve from 1.19794\n",
      "95/95 [==============================] - 0s 2ms/sample - loss: 0.6713 - accuracy: 0.7684 - val_loss: 1.3762 - val_accuracy: 0.5417\n",
      "Epoch 80/100\n",
      "64/95 [===================>..........] - ETA: 0s - loss: 0.8145 - accuracy: 0.7031\n",
      "Epoch 00080: val_loss did not improve from 1.19794\n",
      "95/95 [==============================] - 0s 2ms/sample - loss: 0.6834 - accuracy: 0.7579 - val_loss: 1.2441 - val_accuracy: 0.6250\n",
      "Epoch 81/100\n",
      "64/95 [===================>..........] - ETA: 0s - loss: 0.5835 - accuracy: 0.8594\n",
      "Epoch 00081: val_loss did not improve from 1.19794\n",
      "95/95 [==============================] - 0s 2ms/sample - loss: 0.5744 - accuracy: 0.8632 - val_loss: 1.3422 - val_accuracy: 0.5833\n",
      "Epoch 82/100\n",
      "64/95 [===================>..........] - ETA: 0s - loss: 0.4647 - accuracy: 0.8438\n",
      "Epoch 00082: val_loss did not improve from 1.19794\n",
      "95/95 [==============================] - 0s 2ms/sample - loss: 0.5560 - accuracy: 0.8000 - val_loss: 1.4709 - val_accuracy: 0.4583\n",
      "Epoch 83/100\n",
      "32/95 [=========>....................] - ETA: 0s - loss: 0.6073 - accuracy: 0.7188\n",
      "Epoch 00083: val_loss did not improve from 1.19794\n",
      "95/95 [==============================] - 0s 2ms/sample - loss: 0.4936 - accuracy: 0.8105 - val_loss: 1.4699 - val_accuracy: 0.5000\n",
      "Epoch 84/100\n",
      "64/95 [===================>..........] - ETA: 0s - loss: 0.5464 - accuracy: 0.7812\n",
      "Epoch 00084: val_loss did not improve from 1.19794\n",
      "95/95 [==============================] - 0s 2ms/sample - loss: 0.5167 - accuracy: 0.8105 - val_loss: 1.5673 - val_accuracy: 0.5000\n",
      "Epoch 85/100\n",
      "32/95 [=========>....................] - ETA: 0s - loss: 0.4652 - accuracy: 0.9062\n",
      "Epoch 00085: val_loss did not improve from 1.19794\n",
      "95/95 [==============================] - 0s 2ms/sample - loss: 0.5664 - accuracy: 0.8211 - val_loss: 1.6989 - val_accuracy: 0.5417\n",
      "Epoch 86/100\n"
     ]
    },
    {
     "name": "stdout",
     "output_type": "stream",
     "text": [
      "32/95 [=========>....................] - ETA: 0s - loss: 0.5970 - accuracy: 0.7500\n",
      "Epoch 00086: val_loss did not improve from 1.19794\n",
      "95/95 [==============================] - 0s 2ms/sample - loss: 0.5108 - accuracy: 0.8526 - val_loss: 1.4737 - val_accuracy: 0.5417\n",
      "Epoch 87/100\n",
      "64/95 [===================>..........] - ETA: 0s - loss: 0.3707 - accuracy: 0.9062\n",
      "Epoch 00087: val_loss did not improve from 1.19794\n",
      "95/95 [==============================] - 0s 2ms/sample - loss: 0.5053 - accuracy: 0.8421 - val_loss: 1.4349 - val_accuracy: 0.5833\n",
      "Epoch 88/100\n",
      "64/95 [===================>..........] - ETA: 0s - loss: 0.5344 - accuracy: 0.8281\n",
      "Epoch 00088: val_loss did not improve from 1.19794\n",
      "95/95 [==============================] - 0s 2ms/sample - loss: 0.5460 - accuracy: 0.8000 - val_loss: 1.3151 - val_accuracy: 0.5417\n",
      "Epoch 89/100\n",
      "64/95 [===================>..........] - ETA: 0s - loss: 0.4273 - accuracy: 0.8750\n",
      "Epoch 00089: val_loss did not improve from 1.19794\n",
      "95/95 [==============================] - 0s 2ms/sample - loss: 0.5146 - accuracy: 0.8421 - val_loss: 1.3033 - val_accuracy: 0.5833\n",
      "Epoch 90/100\n",
      "32/95 [=========>....................] - ETA: 0s - loss: 0.3636 - accuracy: 0.8750\n",
      "Epoch 00090: val_loss did not improve from 1.19794\n",
      "95/95 [==============================] - 0s 2ms/sample - loss: 0.4637 - accuracy: 0.8526 - val_loss: 1.4690 - val_accuracy: 0.6250\n",
      "Epoch 91/100\n",
      "64/95 [===================>..........] - ETA: 0s - loss: 0.5489 - accuracy: 0.7812\n",
      "Epoch 00091: val_loss did not improve from 1.19794\n",
      "95/95 [==============================] - 0s 2ms/sample - loss: 0.5070 - accuracy: 0.8211 - val_loss: 1.6635 - val_accuracy: 0.4583\n",
      "Epoch 92/100\n",
      "64/95 [===================>..........] - ETA: 0s - loss: 0.4688 - accuracy: 0.8438\n",
      "Epoch 00092: val_loss did not improve from 1.19794\n",
      "95/95 [==============================] - 0s 2ms/sample - loss: 0.5090 - accuracy: 0.8105 - val_loss: 1.2440 - val_accuracy: 0.4583\n",
      "Epoch 93/100\n",
      "64/95 [===================>..........] - ETA: 0s - loss: 0.4896 - accuracy: 0.8594\n",
      "Epoch 00093: val_loss did not improve from 1.19794\n",
      "95/95 [==============================] - 0s 2ms/sample - loss: 0.4896 - accuracy: 0.8632 - val_loss: 1.2010 - val_accuracy: 0.5417\n",
      "Epoch 94/100\n",
      "32/95 [=========>....................] - ETA: 0s - loss: 0.5962 - accuracy: 0.7188\n",
      "Epoch 00094: val_loss did not improve from 1.19794\n",
      "95/95 [==============================] - 0s 2ms/sample - loss: 0.5167 - accuracy: 0.8000 - val_loss: 1.2174 - val_accuracy: 0.5417\n",
      "Epoch 95/100\n",
      "32/95 [=========>....................] - ETA: 0s - loss: 0.5093 - accuracy: 0.7188\n",
      "Epoch 00095: val_loss did not improve from 1.19794\n",
      "95/95 [==============================] - 0s 2ms/sample - loss: 0.5249 - accuracy: 0.7895 - val_loss: 1.3332 - val_accuracy: 0.5417\n",
      "Epoch 96/100\n",
      "32/95 [=========>....................] - ETA: 0s - loss: 0.4080 - accuracy: 0.9062\n",
      "Epoch 00096: val_loss did not improve from 1.19794\n",
      "95/95 [==============================] - 0s 2ms/sample - loss: 0.3722 - accuracy: 0.9053 - val_loss: 1.4549 - val_accuracy: 0.6250\n",
      "Epoch 97/100\n",
      "32/95 [=========>....................] - ETA: 0s - loss: 0.4930 - accuracy: 0.8438\n",
      "Epoch 00097: val_loss did not improve from 1.19794\n",
      "95/95 [==============================] - 0s 2ms/sample - loss: 0.4345 - accuracy: 0.8421 - val_loss: 1.3268 - val_accuracy: 0.5833\n",
      "Epoch 98/100\n",
      "32/95 [=========>....................] - ETA: 0s - loss: 0.4669 - accuracy: 0.8438\n",
      "Epoch 00098: val_loss did not improve from 1.19794\n",
      "95/95 [==============================] - 0s 2ms/sample - loss: 0.5328 - accuracy: 0.8105 - val_loss: 1.4227 - val_accuracy: 0.5417\n",
      "Epoch 99/100\n",
      "32/95 [=========>....................] - ETA: 0s - loss: 0.3540 - accuracy: 0.9062\n",
      "Epoch 00099: val_loss did not improve from 1.19794\n",
      "95/95 [==============================] - 0s 2ms/sample - loss: 0.4633 - accuracy: 0.8526 - val_loss: 1.4490 - val_accuracy: 0.5417\n",
      "Epoch 100/100\n",
      "32/95 [=========>....................] - ETA: 0s - loss: 0.3790 - accuracy: 0.9062\n",
      "Epoch 00100: val_loss did not improve from 1.19794\n",
      "95/95 [==============================] - 0s 2ms/sample - loss: 0.4834 - accuracy: 0.8526 - val_loss: 1.3520 - val_accuracy: 0.6667\n"
     ]
    }
   ],
   "source": [
    "filename = 'model.h5'\n",
    "checkpoint = ModelCheckpoint(filename, monitor='val_loss', verbose=1, save_best_only=True, mode='min')\n",
    "\n",
    "hist = model.fit(train_X, train_Y, epochs = 100, batch_size = 32, validation_data = (val_X, val_Y), callbacks = [checkpoint])"
   ]
  },
  {
   "cell_type": "markdown",
   "metadata": {},
   "source": [
    "## Load Model\n",
    "Loads the best model found from training above, model.h5"
   ]
  },
  {
   "cell_type": "code",
   "execution_count": 37,
   "metadata": {},
   "outputs": [],
   "source": [
    "model = load_model(\"model.h5\")"
   ]
  },
  {
   "cell_type": "markdown",
   "metadata": {},
   "source": [
    "### Get predicted probability for a given text"
   ]
  },
  {
   "cell_type": "code",
   "execution_count": 31,
   "metadata": {},
   "outputs": [],
   "source": [
    "\n",
    "def predictions(text):\n",
    "  clean = re.sub(r'[^ a-z A-Z 0-9]', \" \", text)\n",
    "  test_word = word_tokenize(clean)\n",
    "  test_word = [w.lower() for w in test_word]\n",
    "  test_ls = word_tokenizer.texts_to_sequences(test_word)\n",
    "  print(test_word)\n",
    "  #Check for unknown words\n",
    "  if [] in test_ls:\n",
    "    test_ls = list(filter(None, test_ls))\n",
    "    \n",
    "  test_ls = np.array(test_ls).reshape(1, len(test_ls))\n",
    " \n",
    "  x = padding_doc(test_ls, max_length)\n",
    "  \n",
    "  pred = model.predict_proba(x)\n",
    "  \n",
    "  \n",
    "  return pred"
   ]
  },
  {
   "cell_type": "markdown",
   "metadata": {},
   "source": [
    "### Get final output for the prediction and the classes of intents"
   ]
  },
  {
   "cell_type": "code",
   "execution_count": 32,
   "metadata": {},
   "outputs": [],
   "source": [
    "\n",
    "def get_final_output(pred, classes):\n",
    "  predictions = pred[0]\n",
    " \n",
    "  classes = np.array(classes)\n",
    "  ids = np.argsort(-predictions)\n",
    "  classes = classes[ids]\n",
    "  predictions = -np.sort(-predictions)\n",
    " \n",
    "  for i in range(pred.shape[1]):\n",
    "    print(\"%s has confidence = %s\" % (classes[i], (predictions[i])))"
   ]
  },
  {
   "cell_type": "markdown",
   "metadata": {},
   "source": [
    "### Use the model =]"
   ]
  },
  {
   "cell_type": "code",
   "execution_count": 33,
   "metadata": {},
   "outputs": [
    {
     "name": "stdout",
     "output_type": "stream",
     "text": [
      "['can', 'you', 'help', 'me']\n",
      "commonQ.assist has confidence = 0.32932204\n",
      "commonQ.query has confidence = 0.139143\n",
      "contact.contact has confidence = 0.09659231\n",
      "commonQ.bot has confidence = 0.08079043\n",
      "faq.biz_new has confidence = 0.077273935\n",
      "commonQ.name has confidence = 0.07718031\n",
      "commonQ.how has confidence = 0.069322\n",
      "faq.bad_service has confidence = 0.059703138\n",
      "faq.apply_register has confidence = 0.022363504\n",
      "commonQ.wait has confidence = 0.014274337\n",
      "commonQ.not_giving has confidence = 0.013744186\n",
      "faq.aadhaar_missing has confidence = 0.006254018\n",
      "commonQ.just_details has confidence = 0.0044244975\n",
      "faq.application_process has confidence = 0.0040695267\n",
      "faq.borrow_use has confidence = 0.0026477\n",
      "faq.borrow_limit has confidence = 0.0013174948\n",
      "faq.biz_simpler has confidence = 0.00070938957\n",
      "faq.approval_time has confidence = 0.00048008468\n",
      "faq.biz_category_missing has confidence = 0.00029588217\n",
      "faq.banking_option_missing has confidence = 6.383373e-05\n",
      "faq.address_proof has confidence = 2.8412622e-05\n"
     ]
    }
   ],
   "source": [
    "\n",
    "text = \"Can you help me?\"\n",
    "pred = predictions(text)\n",
    "get_final_output(pred, unique_intent)"
   ]
  },
  {
   "cell_type": "code",
   "execution_count": 38,
   "metadata": {},
   "outputs": [
    {
     "name": "stdout",
     "output_type": "stream",
     "text": [
      "['how', 'do', 'i', 'apply', 'for', 'this', 'position']\n",
      "faq.application_process has confidence = 0.9228019\n",
      "faq.apply_register has confidence = 0.07120995\n",
      "commonQ.assist has confidence = 0.0022965271\n",
      "contact.contact has confidence = 0.0022584863\n",
      "faq.borrow_use has confidence = 0.0011869266\n",
      "faq.biz_simpler has confidence = 7.222695e-05\n",
      "faq.approval_time has confidence = 3.9839113e-05\n",
      "faq.biz_new has confidence = 3.6369358e-05\n",
      "faq.borrow_limit has confidence = 2.3749713e-05\n",
      "faq.bad_service has confidence = 2.2953378e-05\n",
      "faq.biz_category_missing has confidence = 2.0747395e-05\n",
      "faq.banking_option_missing has confidence = 1.7692144e-05\n",
      "commonQ.how has confidence = 8.244553e-06\n",
      "commonQ.wait has confidence = 1.4011844e-06\n",
      "commonQ.query has confidence = 1.3473338e-06\n",
      "commonQ.name has confidence = 1.0343318e-06\n",
      "faq.aadhaar_missing has confidence = 3.699744e-07\n",
      "faq.address_proof has confidence = 1.3429752e-07\n",
      "commonQ.just_details has confidence = 1.1053147e-07\n",
      "commonQ.bot has confidence = 7.3278206e-09\n",
      "commonQ.not_giving has confidence = 4.5010147e-09\n"
     ]
    }
   ],
   "source": [
    "\n",
    "text = \"How do I apply for this position?\"\n",
    "pred = predictions(text)\n",
    "get_final_output(pred, unique_intent)"
   ]
  },
  {
   "cell_type": "code",
   "execution_count": 40,
   "metadata": {},
   "outputs": [
    {
     "name": "stdout",
     "output_type": "stream",
     "text": [
      "['wait', 'for', 'me']\n",
      "faq.apply_register has confidence = 0.2630215\n",
      "commonQ.assist has confidence = 0.1846362\n",
      "commonQ.how has confidence = 0.119165204\n",
      "commonQ.wait has confidence = 0.112347364\n",
      "contact.contact has confidence = 0.07797397\n",
      "commonQ.name has confidence = 0.052337676\n",
      "commonQ.bot has confidence = 0.045500476\n",
      "commonQ.query has confidence = 0.030452987\n",
      "faq.aadhaar_missing has confidence = 0.027099965\n",
      "faq.biz_new has confidence = 0.01953664\n",
      "commonQ.not_giving has confidence = 0.015911063\n",
      "faq.application_process has confidence = 0.01587559\n",
      "faq.bad_service has confidence = 0.01562931\n",
      "commonQ.just_details has confidence = 0.012118423\n",
      "faq.approval_time has confidence = 0.0032076482\n",
      "faq.borrow_use has confidence = 0.0016377135\n",
      "faq.banking_option_missing has confidence = 0.0010719093\n",
      "faq.biz_category_missing has confidence = 0.00094919227\n",
      "faq.borrow_limit has confidence = 0.0007261337\n",
      "faq.address_proof has confidence = 0.00048034557\n",
      "faq.biz_simpler has confidence = 0.00032065253\n"
     ]
    }
   ],
   "source": [
    "\n",
    "text = \"Wait for me\"\n",
    "pred = predictions(text)\n",
    "get_final_output(pred, unique_intent)"
   ]
  },
  {
   "cell_type": "code",
   "execution_count": 41,
   "metadata": {},
   "outputs": [
    {
     "name": "stdout",
     "output_type": "stream",
     "text": [
      "['who', 'can', 'i', 'call', 'to', 'help', 'me']\n",
      "faq.apply_register has confidence = 0.89374787\n",
      "faq.application_process has confidence = 0.036169574\n",
      "commonQ.assist has confidence = 0.031955425\n",
      "contact.contact has confidence = 0.030594548\n",
      "commonQ.how has confidence = 0.005335092\n",
      "commonQ.wait has confidence = 0.001275502\n",
      "commonQ.name has confidence = 0.00029222755\n",
      "faq.bad_service has confidence = 0.00012833613\n",
      "faq.biz_new has confidence = 0.00011115512\n",
      "commonQ.query has confidence = 0.00010855391\n",
      "faq.approval_time has confidence = 8.3946055e-05\n",
      "commonQ.just_details has confidence = 5.583135e-05\n",
      "faq.aadhaar_missing has confidence = 3.8708153e-05\n",
      "faq.banking_option_missing has confidence = 3.30851e-05\n",
      "faq.borrow_use has confidence = 2.912586e-05\n",
      "commonQ.bot has confidence = 1.8081726e-05\n",
      "faq.biz_category_missing has confidence = 7.941922e-06\n",
      "commonQ.not_giving has confidence = 7.613979e-06\n",
      "faq.borrow_limit has confidence = 4.9950563e-06\n",
      "faq.biz_simpler has confidence = 1.3852948e-06\n",
      "faq.address_proof has confidence = 1.0545323e-06\n"
     ]
    }
   ],
   "source": [
    "\n",
    "text = \"Who can I call to help me?\"\n",
    "pred = predictions(text)\n",
    "get_final_output(pred, unique_intent)"
   ]
  },
  {
   "cell_type": "code",
   "execution_count": null,
   "metadata": {},
   "outputs": [],
   "source": []
  }
 ],
 "metadata": {
  "kernelspec": {
   "display_name": "Python 3",
   "language": "python",
   "name": "python3"
  },
  "language_info": {
   "codemirror_mode": {
    "name": "ipython",
    "version": 3
   },
   "file_extension": ".py",
   "mimetype": "text/x-python",
   "name": "python",
   "nbconvert_exporter": "python",
   "pygments_lexer": "ipython3",
   "version": "3.7.6"
  }
 },
 "nbformat": 4,
 "nbformat_minor": 4
}
